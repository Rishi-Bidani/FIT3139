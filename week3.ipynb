{
 "cells": [
  {
   "cell_type": "markdown",
   "metadata": {},
   "source": [
    "# Lecture 1"
   ]
  },
  {
   "cell_type": "code",
   "execution_count": 2,
   "metadata": {},
   "outputs": [],
   "source": [
    "import numpy as np"
   ]
  },
  {
   "cell_type": "code",
   "execution_count": 3,
   "metadata": {},
   "outputs": [],
   "source": [
    "A = np.array([[1, 2, 3], [3, 2, 1], [2, 3, 1]])"
   ]
  },
  {
   "cell_type": "code",
   "execution_count": 5,
   "metadata": {},
   "outputs": [],
   "source": [
    "L, S = np.linalg.eig(A)"
   ]
  },
  {
   "cell_type": "code",
   "execution_count": 7,
   "metadata": {},
   "outputs": [
    {
     "data": {
      "text/plain": [
       "array([ 6.+0.j, -1.+1.j, -1.-1.j])"
      ]
     },
     "execution_count": 7,
     "metadata": {},
     "output_type": "execute_result"
    }
   ],
   "source": [
    "L"
   ]
  },
  {
   "cell_type": "code",
   "execution_count": 8,
   "metadata": {},
   "outputs": [
    {
     "data": {
      "text/plain": [
       "array([[ 0.57735027+0.j        ,  0.65790259+0.j        ,\n",
       "         0.65790259-0.j        ],\n",
       "       [ 0.57735027+0.j        , -0.52178481-0.31760815j,\n",
       "        -0.52178481+0.31760815j],\n",
       "       [ 0.57735027+0.j        , -0.09074519+0.43103963j,\n",
       "        -0.09074519-0.43103963j]])"
      ]
     },
     "execution_count": 8,
     "metadata": {},
     "output_type": "execute_result"
    }
   ],
   "source": [
    "S"
   ]
  },
  {
   "cell_type": "code",
   "execution_count": 9,
   "metadata": {},
   "outputs": [],
   "source": [
    "D = np.diag(L)"
   ]
  },
  {
   "cell_type": "code",
   "execution_count": 10,
   "metadata": {},
   "outputs": [
    {
     "data": {
      "text/plain": [
       "array([[1.-2.71572861e-16j, 2.+3.61191275e-17j, 3.+4.64377365e-18j],\n",
       "       [3.-9.30214692e-17j, 2.+1.46766551e-17j, 1.-1.96420515e-17j],\n",
       "       [2.-1.15408428e-16j, 3.+4.92852301e-18j, 1.-1.79980432e-17j]])"
      ]
     },
     "execution_count": 10,
     "metadata": {},
     "output_type": "execute_result"
    }
   ],
   "source": [
    "np.dot(np.dot(S, D), np.linalg.inv(S))"
   ]
  },
  {
   "cell_type": "markdown",
   "metadata": {},
   "source": [
    "# Applied\n",
    "\n",
    "## Forward and backward error\n",
    "\n",
    "forward error is an error in output\n",
    "\n",
    "backward error is an error in input\n",
    "\n",
    "\n",
    "# Question 1\n",
    "\n",
    "$$\n",
    "f(x) = x^2 \\\\\n",
    "\n",
    "condition number = |\\frac{xf'(x)}{f(x)}|\n",
    "$$"
   ]
  },
  {
   "cell_type": "code",
   "execution_count": 4,
   "metadata": {},
   "outputs": [
    {
     "name": "stdout",
     "output_type": "stream",
     "text": [
      "[[1.   0.   0.  ]\n",
      " [3.   1.   0.  ]\n",
      " [2.   0.25 1.  ]]\n",
      "[[ 1.  2.  3.]\n",
      " [ 0. -4. -8.]\n",
      " [ 0.  0. -3.]]\n"
     ]
    },
    {
     "data": {
      "text/plain": [
       "array([[1., 2., 3.],\n",
       "       [3., 2., 1.],\n",
       "       [2., 3., 1.]])"
      ]
     },
     "execution_count": 4,
     "metadata": {},
     "output_type": "execute_result"
    }
   ],
   "source": [
    "# Question 3 - function to perform LU decomposition\n",
    "\n",
    "def lu_decomposition(A):\n",
    "    n = len(A)\n",
    "    L = np.zeros((n,n))\n",
    "    U = np.zeros((n,n))\n",
    "    for i in range(n):\n",
    "        L[i,i] = 1\n",
    "        for j in range(i,n):\n",
    "            U[i,j] = A[i,j] - np.dot(L[i,:i],U[:i,j])\n",
    "        for j in range(i+1,n):\n",
    "            L[j,i] = (A[j,i] - np.dot(L[j,:i],U[:i,i]))/U[i,i]\n",
    "    return L, U\n",
    "\n",
    "A = np.array([[1, 2, 3], [3, 2, 1], [2, 3, 1]])\n",
    "L, U = lu_decomposition(A)\n",
    "print(L)\n",
    "print(U)\n",
    "np.dot(L,U)"
   ]
  },
  {
   "cell_type": "code",
   "execution_count": 5,
   "metadata": {},
   "outputs": [
    {
     "name": "stdout",
     "output_type": "stream",
     "text": [
      "[[1.   0.   0.  ]\n",
      " [3.   1.   0.  ]\n",
      " [2.   0.25 1.  ]]\n",
      "[[ 1  2  3]\n",
      " [ 0 -4 -8]\n",
      " [ 0  0 -3]]\n"
     ]
    },
    {
     "data": {
      "text/plain": [
       "array([[1., 2., 3.],\n",
       "       [3., 2., 1.],\n",
       "       [2., 3., 1.]])"
      ]
     },
     "execution_count": 5,
     "metadata": {},
     "output_type": "execute_result"
    }
   ],
   "source": [
    "def LU(A):\n",
    "    n = len(A)\n",
    "    L = np.eye(n)\n",
    "    U = A.copy()\n",
    "    for i in range(n):\n",
    "        for j in range(i+1,n):\n",
    "            L[j,i] = U[j,i]/U[i,i]\n",
    "            U[j,i:] = U[j,i:] - L[j,i]*U[i,i:]\n",
    "    return L, U\n",
    "\n",
    "A = np.array([[1, 2, 3], [3, 2, 1], [2, 3, 1]])\n",
    "L, U = LU(A)\n",
    "print(L)\n",
    "print(U)\n",
    "np.dot(L,U)"
   ]
  },
  {
   "cell_type": "markdown",
   "metadata": {},
   "source": [
    "# week 3 Lecture 2\n",
    "\n"
   ]
  },
  {
   "cell_type": "markdown",
   "metadata": {},
   "source": [
    "A = np.array([])"
   ]
  },
  {
   "cell_type": "code",
   "execution_count": 10,
   "metadata": {},
   "outputs": [
    {
     "data": {
      "text/plain": [
       "EigResult(eigenvalues=array([ 6.+0.j, -1.+1.j, -1.-1.j]), eigenvectors=array([[ 0.57735027+0.j        ,  0.65790259+0.j        ,\n",
       "         0.65790259-0.j        ],\n",
       "       [ 0.57735027+0.j        , -0.52178481-0.31760815j,\n",
       "        -0.52178481+0.31760815j],\n",
       "       [ 0.57735027+0.j        , -0.09074519+0.43103963j,\n",
       "        -0.09074519-0.43103963j]]))"
      ]
     },
     "execution_count": 10,
     "metadata": {},
     "output_type": "execute_result"
    }
   ],
   "source": [
    "A = np.array([[1, 2, 3], [3, 2, 1], [2, 3, 1]])\n",
    "np.linalg.eig(A)"
   ]
  },
  {
   "cell_type": "code",
   "execution_count": 15,
   "metadata": {},
   "outputs": [
    {
     "name": "stdout",
     "output_type": "stream",
     "text": [
      "[1 2 3]\n",
      "[0.68558295 0.48970211 0.53867232]\n",
      "[0.55489516 0.60458726 0.57145919]\n",
      "[0.57825792 0.57275071 0.58101153]\n",
      "[0.5782684  0.57734978 0.57643117]\n",
      "[0.576993   0.57760536 0.57745227]\n",
      "[0.5774183  0.57726522 0.57736728]\n",
      "[0.57734743 0.57736444 0.57733893]\n",
      "[0.57734743 0.57735027 0.5773531 ]\n",
      "[0.57735137 0.57734948 0.57734995]\n",
      "[0.57735006 0.57735053 0.57735022]\n",
      "[0.57735028 0.57735023 0.5773503 ]\n",
      "[0.57735028 0.57735027 0.57735026]\n",
      "[0.57735027 0.57735027 0.57735027]\n",
      "[0.57735027 0.57735027 0.57735027]\n",
      "[0.57735027 0.57735027 0.57735027]\n",
      "[0.57735027 0.57735027 0.57735027]\n",
      "[0.57735027 0.57735027 0.57735027]\n",
      "[0.57735027 0.57735027 0.57735027]\n",
      "[0.57735027 0.57735027 0.57735027]\n"
     ]
    }
   ],
   "source": [
    "x = np.array([1, 2, 3])\n",
    "for i in range(20):\n",
    "    print(x)\n",
    "    x = np.dot(A, x)\n",
    "    factor = np.linalg.norm(x)\n",
    "    x = x/factor"
   ]
  },
  {
   "cell_type": "markdown",
   "metadata": {},
   "source": [
    "# Jacobi Iteration"
   ]
  },
  {
   "cell_type": "code",
   "execution_count": 19,
   "metadata": {},
   "outputs": [
    {
     "data": {
      "text/plain": [
       "array([ 1.,  2., -1.,  1.])"
      ]
     },
     "execution_count": 19,
     "metadata": {},
     "output_type": "execute_result"
    }
   ],
   "source": [
    "A = np.array([[10, -1, 2, 0], [-1, 11, -1, 3], [2, -1, 10, -1], [0, 3, -1, 8]])\n",
    "b = np.array([6, 25, -11, 15])\n",
    "np.linalg.solve(A, b)"
   ]
  },
  {
   "cell_type": "code",
   "execution_count": 21,
   "metadata": {},
   "outputs": [],
   "source": [
    "L = np.zeros_like(A)\n",
    "D = np.zeros_like(A)\n",
    "R = np.zeros_like(A)"
   ]
  },
  {
   "cell_type": "code",
   "execution_count": 23,
   "metadata": {},
   "outputs": [],
   "source": [
    "for i in range(len(A)):\n",
    "    for j in range(len(A)):\n",
    "        if i == j:\n",
    "            D[i,j] = A[i,j]\n",
    "        elif j > i:\n",
    "            # if columns are greater than rows, then it is upper triangular\n",
    "            R[i,j] = A[i,j]\n",
    "        else:\n",
    "            # if columns are less than rows, then it is lower triangular\n",
    "            L[i,j] = A[i,j]"
   ]
  },
  {
   "cell_type": "code",
   "execution_count": 29,
   "metadata": {},
   "outputs": [],
   "source": [
    "D_inv = np.linalg.inv(D)"
   ]
  },
  {
   "cell_type": "code",
   "execution_count": 32,
   "metadata": {},
   "outputs": [
    {
     "name": "stdout",
     "output_type": "stream",
     "text": [
      "[ 0.5         2.18181818 -1.1         1.625     ]\n",
      "[ 1.03818182  1.775      -0.81931818  0.91931818]\n",
      "[ 0.94136364  2.04190083 -1.03820455  1.10696023]\n",
      "[ 1.01183099  1.96202531 -0.97338662  0.97951162]\n",
      "[ 0.99087986  2.00908268 -1.00821251  1.01756718]\n",
      "[ 1.00255077  1.99363326 -0.99551098  0.99556743]\n",
      "[ 0.99846552  2.00184886 -1.00159009  1.00294866]\n",
      "[ 1.0005029   1.99891177 -0.99921335  0.99910792]\n",
      "[ 0.99973385  2.00036053 -1.00029861  1.00050642]\n",
      "[ 1.00009578  1.99981054 -0.99986008  0.99982748]\n"
     ]
    }
   ],
   "source": [
    "x = np.array([1, 1, 1, 1])\n",
    "for _ in range(10):\n",
    "    x = np.dot(D_inv, b) + np.dot(np.dot(-D_inv, L+R), x)\n",
    "    print(x)"
   ]
  },
  {
   "cell_type": "code",
   "execution_count": null,
   "metadata": {},
   "outputs": [],
   "source": [
    "def jacobi(A, b, num_iterations):\n",
    "    n = len(A)\n",
    "    for i in range(num_iterations):\n",
    "        for j in range(0, n):\n",
    "            "
   ]
  }
 ],
 "metadata": {
  "kernelspec": {
   "display_name": "Python 3",
   "language": "python",
   "name": "python3"
  },
  "language_info": {
   "codemirror_mode": {
    "name": "ipython",
    "version": 3
   },
   "file_extension": ".py",
   "mimetype": "text/x-python",
   "name": "python",
   "nbconvert_exporter": "python",
   "pygments_lexer": "ipython3",
   "version": "3.10.0"
  }
 },
 "nbformat": 4,
 "nbformat_minor": 2
}
