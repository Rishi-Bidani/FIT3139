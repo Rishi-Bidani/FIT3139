{
 "cells": [
  {
   "cell_type": "markdown",
   "metadata": {},
   "source": [
    "# Binary to Decimal"
   ]
  },
  {
   "cell_type": "code",
   "execution_count": 3,
   "metadata": {},
   "outputs": [],
   "source": [
    "def bin_to_dec(num: int) -> int:\n",
    "    dec = 0\n",
    "    i = 0\n",
    "    while num > 0:\n",
    "        # last digit\n",
    "        last_digit = num % 10\n",
    "        power = last_digit * (2 ** i)\n",
    "        dec += power\n",
    "        num = num // 10\n",
    "        i += 1\n",
    "    return dec"
   ]
  },
  {
   "cell_type": "code",
   "execution_count": 4,
   "metadata": {},
   "outputs": [
    {
     "name": "stdout",
     "output_type": "stream",
     "text": [
      "10\n"
     ]
    }
   ],
   "source": [
    "print(bin_to_dec(1010))"
   ]
  },
  {
   "cell_type": "markdown",
   "metadata": {},
   "source": [
    "# Decimal to binary"
   ]
  },
  {
   "cell_type": "code",
   "execution_count": 5,
   "metadata": {},
   "outputs": [],
   "source": [
    "def dec_to_bin(num: int) -> int:\n",
    "    binary = 0\n",
    "    i = 1\n",
    "    while num > 0:\n",
    "        # last digit\n",
    "        last_digit = num % 2\n",
    "        binary += last_digit * i\n",
    "        num = num // 2\n",
    "        i *= 10\n",
    "    return binary"
   ]
  },
  {
   "cell_type": "code",
   "execution_count": 6,
   "metadata": {},
   "outputs": [
    {
     "name": "stdout",
     "output_type": "stream",
     "text": [
      "1111011\n"
     ]
    }
   ],
   "source": [
    "print(dec_to_bin(123))"
   ]
  },
  {
   "cell_type": "markdown",
   "metadata": {},
   "source": [
    "# Approximate the derivate of a function\n",
    "$$\n",
    "f'(x) = \\lim_{δx \\to 0}\\frac{f(x + δx) - f(x)}{δx}\n",
    "$$"
   ]
  },
  {
   "cell_type": "code",
   "execution_count": 7,
   "metadata": {},
   "outputs": [
    {
     "name": "stdout",
     "output_type": "stream",
     "text": [
      "1 25.0\n",
      "0.1 20.500000000000007\n",
      "0.01 20.049999999999457\n",
      "0.001 20.004999999997608\n",
      "0.0001 20.000500000030286\n",
      "1e-05 20.00005000013516\n",
      "1e-06 20.000005001463705\n",
      "1e-07 20.00000044688477\n",
      "1e-08 19.99999987845058\n",
      "1e-09 20.00000165480742\n",
      "1e-10 20.00000165480742\n",
      "1e-11 20.00000165480742\n",
      "1e-12 20.00177801164682\n",
      "1e-13 19.966250874858815\n",
      "1e-14 20.605739337042905\n",
      "1e-15 17.763568394002505\n",
      "1e-16 0.0\n",
      "1e-17 0.0\n",
      "1e-18 0.0\n",
      "1e-19 0.0\n",
      "1e-20 0.0\n",
      "1e-21 0.0\n",
      "1e-22 0.0\n",
      "1e-23 0.0\n",
      "1e-24 0.0\n",
      "1e-25 0.0\n",
      "1e-26 0.0\n",
      "1e-27 0.0\n",
      "1e-28 0.0\n"
     ]
    }
   ],
   "source": [
    "f_x = lambda x: 5 * x ** 2\n",
    "\n",
    "def derivate_f_x(function, x: int, delta) -> int:\n",
    "    return (function(x + delta) - function(x)) / delta\n",
    "\n",
    "deltas = [1, 0.1, 0.01, 0.001, 0.0001, 0.00001, 0.000001, 0.0000001, 0.00000001, 0.000000001, 0.0000000001, 0.00000000001, 0.000000000001, 0.0000000000001, 0.00000000000001, 0.000000000000001, 0.0000000000000001, 0.00000000000000001, 0.000000000000000001, 0.0000000000000000001, 0.00000000000000000001, 0.000000000000000000001, 0.0000000000000000000001, 0.00000000000000000000001, 0.000000000000000000000001, 0.0000000000000000000000001, 0.00000000000000000000000001, 0.000000000000000000000000001, 0.0000000000000000000000000001] \n",
    "for i, delta in enumerate(deltas):\n",
    "    print(deltas[i], derivate_f_x(f_x, 2, delta))"
   ]
  },
  {
   "cell_type": "code",
   "execution_count": 8,
   "metadata": {},
   "outputs": [],
   "source": [
    "import matplotlib.pyplot as plt\n",
    "import numpy as np\n",
    "\n"
   ]
  },
  {
   "cell_type": "markdown",
   "metadata": {},
   "source": [
    "# Maclaurin series\n",
    "\n",
    "## Approximation formula\n",
    "$$\n",
    "    e^x = \\sum^{inf}_{n=0} \\frac{x^n}{n!} = 1 + x + \\frac{x^2}{2!} + \\frac{x^3}{3!}...\n",
    "$$"
   ]
  },
  {
   "cell_type": "code",
   "execution_count": 9,
   "metadata": {},
   "outputs": [],
   "source": [
    "def factorial(n: int) -> int:\n",
    "    if n == 0:\n",
    "        return 1\n",
    "    else:\n",
    "        return n * factorial(n - 1)"
   ]
  },
  {
   "cell_type": "code",
   "execution_count": 10,
   "metadata": {},
   "outputs": [],
   "source": [
    "def maclaurin_series(x: int, n: int) -> int:\n",
    "    series = 0\n",
    "    if n < 0:\n",
    "        return \"n must be greater than 0\"\n",
    "    if n == 0:\n",
    "        return 1\n",
    "    for i in range(n):\n",
    "        series += (x ** i) / factorial(i)\n",
    "    return series"
   ]
  },
  {
   "cell_type": "code",
   "execution_count": 15,
   "metadata": {},
   "outputs": [
    {
     "name": "stdout",
     "output_type": "stream",
     "text": [
      "148.41315910257657\n"
     ]
    }
   ],
   "source": [
    "print(maclaurin_series(5, 50))"
   ]
  },
  {
   "cell_type": "code",
   "execution_count": 17,
   "metadata": {},
   "outputs": [
    {
     "data": {
      "text/plain": [
       "[<matplotlib.lines.Line2D at 0x279f39d9cc0>]"
      ]
     },
     "execution_count": 17,
     "metadata": {},
     "output_type": "execute_result"
    },
    {
     "data": {
      "image/png": "[encoded data removed]",
      "text/plain": [
       "<Figure size 432x288 with 1 Axes>"
      ]
     },
     "metadata": {
      "needs_background": "light"
     },
     "output_type": "display_data"
    }
   ],
   "source": [
    "# plot maclaurin series\n",
    "x = np.linspace(-10, 10, 100)\n",
    "y = [maclaurin_series(i, 50) for i in x]\n",
    "\n",
    "plt.plot(x, y)"
   ]
  },
  {
   "cell_type": "code",
   "execution_count": 12,
   "metadata": {},
   "outputs": [],
   "source": [
    "def separate(number):\n",
    "    integer_part = int(number)\n",
    "    fractional_part = number - integer_part\n",
    "    return integer_part, fractional_part\n",
    "\n",
    "def fractional_part_to_binary(number):\n",
    "    bitstring = []\n",
    "    while number > 1:\n",
    "        number *= 2\n",
    "        integer_part, fractional_part = separate(number)\n",
    "        bitstring.append(integer_part)\n",
    "        number = fractional_part\n",
    "    return bitstring"
   ]
  },
  {
   "cell_type": "code",
   "execution_count": 13,
   "metadata": {},
   "outputs": [
    {
     "data": {
      "text/plain": [
       "[178]"
      ]
     },
     "execution_count": 13,
     "metadata": {},
     "output_type": "execute_result"
    }
   ],
   "source": [
    "fractional_part_to_binary(89.158)"
   ]
  },
  {
   "cell_type": "markdown",
   "metadata": {},
   "source": [
    "# Storing numbers\n",
    "\n",
    "The first is always stored as 1 and hence is doesn't need to be stored\n",
    "\n",
    "$$\n",
    "\\begin{align*}\n",
    "&8.64 / 2 = 4.34     \\\\\n",
    "&4.34 / 2 = 2.17     \\\\\n",
    "&2.17 / 2 = 1.085    \\\\\n",
    "&1.085 * 2^3         \\\\\n",
    "\\end{align*}\n",
    "$$\n",
    "\n",
    "Precision is the number of spots reserved for the mantissa\n"
   ]
  }
 ],
 "metadata": {
  "kernelspec": {
   "display_name": "Python 3",
   "language": "python",
   "name": "python3"
  },
  "language_info": {
   "codemirror_mode": {
    "name": "ipython",
    "version": 3
   },
   "file_extension": ".py",
   "mimetype": "text/x-python",
   "name": "python",
   "nbconvert_exporter": "python",
   "pygments_lexer": "ipython3",
   "version": "3.10.0"
  }
 },
 "nbformat": 4,
 "nbformat_minor": 2
}
