{
 "cells": [
  {
   "cell_type": "code",
   "execution_count": null,
   "metadata": {},
   "outputs": [],
   "source": []
  },
  {
   "cell_type": "markdown",
   "metadata": {},
   "source": [
    "# Question 2\n",
    "\n",
    "## Number of numbers that can bee represented\n",
    "\n",
    "2 = number of signs -> + or -\n",
    "\n",
    "b-1 = the first digit cannot be 0 unless in the special case of 0\n",
    "\n",
    "(b ^ {p-1}) = the mantissa digits can be anyhthing\n",
    "\n",
    "(U - L + 1) = number of exponents\n",
    "\n",
    "1 = special case of 0\n",
    "\n",
    "## Equation\n",
    "\n",
    "$$\n",
    "2 * (b-1) * (b ^ {p-1}) * (U - L + 1) + 1\n",
    "$$"
   ]
  },
  {
   "cell_type": "code",
   "execution_count": 5,
   "metadata": {},
   "outputs": [
    {
     "name": "stdout",
     "output_type": "stream",
     "text": [
      "1.7763568394002506e-16\n"
     ]
    }
   ],
   "source": [
    "machine_epsilon = 0.1\n",
    "while 1.0 + machine_epsilon > 1.0:\n",
    "    machine_epsilon /= 2.0\n",
    "\n",
    "# machine_epsilon is now so small that it can't be distinguished from 1.0\n",
    "# so we need to multiply it by 2.0 to get the actual machine epsilon\n",
    "machine_epsilon *= 2.0\n",
    "\n",
    "print(machine_epsilon)\n"
   ]
  }
 ],
 "metadata": {
  "kernelspec": {
   "display_name": "Python 3",
   "language": "python",
   "name": "python3"
  },
  "language_info": {
   "codemirror_mode": {
    "name": "ipython",
    "version": 3
   },
   "file_extension": ".py",
   "mimetype": "text/x-python",
   "name": "python",
   "nbconvert_exporter": "python",
   "pygments_lexer": "ipython3",
   "version": "3.10.0"
  }
 },
 "nbformat": 4,
 "nbformat_minor": 2
}
