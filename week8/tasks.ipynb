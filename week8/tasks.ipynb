{
 "cells": [
  {
   "cell_type": "code",
   "execution_count": 1,
   "metadata": {},
   "outputs": [],
   "source": [
    "import numpy as np"
   ]
  },
  {
   "cell_type": "code",
   "execution_count": null,
   "metadata": {},
   "outputs": [],
   "source": [
    "def gillespie(p_arr, t_max, x0, y0):\n",
    "    t_vals = np.array([0])\n",
    "    x_vals = np.array([x0])\n",
    "    y_vals = np.array([y0])\n",
    "\n",
    "    t = 0\n",
    "    x = x0\n",
    "    y = y0\n",
    "\n",
    "    while t < t_max:\n",
    "        ti = np.array([])\n",
    "        for i in range(len(p_arr)):\n",
    "            pi = p_arr[i]\n",
    "            u = np.random.rand()\n",
    "            ti.append(-np.log(u)/pi)\n",
    "        tk = np.min(ti)\n",
    "\n",
    "        # update x and y based on event k\n",
    "        \n",
    "\n",
    "        t += tk\n",
    "    \n",
    "    return t_vals, x_vals, y_vals            \n",
    "\n"
   ]
  }
 ],
 "metadata": {
  "kernelspec": {
   "display_name": "Python 3",
   "language": "python",
   "name": "python3"
  },
  "language_info": {
   "codemirror_mode": {
    "name": "ipython",
    "version": 3
   },
   "file_extension": ".py",
   "mimetype": "text/x-python",
   "name": "python",
   "nbconvert_exporter": "python",
   "pygments_lexer": "ipython3",
   "version": "3.10.0"
  }
 },
 "nbformat": 4,
 "nbformat_minor": 2
}
