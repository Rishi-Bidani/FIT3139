{
 "cells": [
  {
   "cell_type": "code",
   "execution_count": 64,
   "metadata": {},
   "outputs": [],
   "source": [
    "import math"
   ]
  },
  {
   "cell_type": "code",
   "execution_count": 65,
   "metadata": {},
   "outputs": [],
   "source": [
    "def convergence(X):\n",
    "    # r = log( |(xk+1 -xk) / (xk - xk-1) )| ) / log(| (xk - xk-1) / (xk-1 - xk-2) |)\n",
    "    # calculate r\n",
    "    r = []\n",
    "    for i in range(1, len(X)-1):\n",
    "        r.append(math.log(abs((X[i+1] - X[i]) / (X[i] - X[i-1]))) / math.log(abs((X[i] - X[i-1]) / (X[i-1] - X[i-2]))))\n",
    "    return r\n",
    "\n",
    "\n"
   ]
  },
  {
   "cell_type": "code",
   "execution_count": 66,
   "metadata": {},
   "outputs": [],
   "source": [
    "def newton_raphson(function, derivative, x0, tol=1e-6, max_iter=100):\n",
    "    # find the root\n",
    "    function_xi = function(x0)\n",
    "    derivative_xi = derivative(x0)\n",
    "\n",
    "    i = 0\n",
    "    X = []\n",
    "    while abs(function_xi) > tol and i < max_iter:\n",
    "        X.append(x0)\n",
    "        x0 = x0 - function_xi / derivative_xi\n",
    "        function_xi = function(x0)\n",
    "        derivative_xi = derivative(x0)\n",
    "        r = convergence(X)\n",
    "        print(f'iteration {i+1}: x = {x0}, f(x) = {function_xi}, r = {r}')    \n",
    "        i += 1\n",
    "\n",
    "    return x0"
   ]
  },
  {
   "cell_type": "code",
   "execution_count": 67,
   "metadata": {},
   "outputs": [
    {
     "name": "stdout",
     "output_type": "stream",
     "text": [
      "iteration 1: x = 1.5, f(x) = 0.25, r = []\n",
      "iteration 2: x = 1.4166666666666667, f(x) = 0.006944444444444642, r = []\n",
      "iteration 3: x = 1.4142156862745099, f(x) = 6.007304882871267e-06, r = [-9.827469119589422]\n",
      "iteration 4: x = 1.4142135623746899, f(x) = 4.510614104447086e-12, r = [-9.519430956468703, 1.9680992818391112]\n",
      "1.4142135623746899\n"
     ]
    }
   ],
   "source": [
    "func = lambda x: x**2 -2\n",
    "derivative = lambda x: 2*x\n",
    "\n",
    "print(newton_raphson(func, derivative, 1, 1e-9))"
   ]
  }
 ],
 "metadata": {
  "kernelspec": {
   "display_name": "Python 3",
   "language": "python",
   "name": "python3"
  },
  "language_info": {
   "codemirror_mode": {
    "name": "ipython",
    "version": 3
   },
   "file_extension": ".py",
   "mimetype": "text/x-python",
   "name": "python",
   "nbconvert_exporter": "python",
   "pygments_lexer": "ipython3",
   "version": "3.10.0"
  }
 },
 "nbformat": 4,
 "nbformat_minor": 2
}
