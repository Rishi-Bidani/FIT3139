{
 "cells": [
  {
   "cell_type": "markdown",
   "metadata": {},
   "source": [
    "# FIT 3139 Assignment 2\n",
    "\n",
    "## Question proposed\n",
    "\n",
    "How do factors such as limited resources, predation and germination rate affect the seed yield of a plant species?\n",
    "\n",
    "## Model extension\n",
    "\n",
    "I have selected the Lotka-Volterra model to simulate this scenario. Although, the Lotka-Volterra model is usually used for 2 species predator-prey interactions, I have extended it to include a third \"species\". There is an argument to be made that an SIR model would be more appropriate for this scenario, but I have chosen the Lotka-Volterra model because it is more intuitive and easier to understand given the dynamics of the system.\n",
    "\n",
    "**The scenario is as follows:**\n",
    "- Species 1: Seeds\n",
    "- Species 2: Plants (yield)\n",
    "- Species 3: Predators (animals that eat the plants)\n",
    "\n",
    "In the model, the seeds are attempting to grow into plants, but if there are too many seeds in the system, they will compete for the limited resources and many might not grow into plants. Furthermore, the plants are being eaten by the predators, while the seeds/plants are small there are more predators capableof eating them, but as they grow, they become less vulnerable to predation. The predators are also affected by the availability of plants, if there are not enough plants, the predators will starve and die.\n",
    "\n",
    "**To summarise the above**\n",
    "\n",
    "- Seeds     - competing with each other and being eaten by predators\n",
    "- Plants    - being eaten by predators (assuming that after competing during seed phase, there is minimal competition between plants for resources)\n",
    "- Predators - eating seeds and plants"
   ]
  },
  {
   "cell_type": "markdown",
   "metadata": {},
   "source": [
    "## Model equations\n",
    "\n",
    "$$\n",
    "\n",
    "\\begin{aligned}\n",
    "& Seeds = S \\\\\n",
    "& Plants = P \\\\\n",
    "& Predators/Animal = A \\\\\n",
    "\\end{aligned}\n",
    "\\\\\n",
    "$$"
   ]
  },
  {
   "cell_type": "code",
   "execution_count": 282,
   "metadata": {},
   "outputs": [],
   "source": [
    "import numpy as np\n",
    "from scipy.integrate import solve_ivp, odeint\n",
    "import matplotlib.pyplot as plt"
   ]
  },
  {
   "cell_type": "code",
   "execution_count": null,
   "metadata": {},
   "outputs": [],
   "source": []
  },
  {
   "cell_type": "markdown",
   "metadata": {},
   "source": [
    "## Part 3 - Continous time analysis\n",
    "\n",
    "### Model equations\n",
    "\n",
    "$$\n",
    "\\begin{aligned}\n",
    "\n",
    "\\frac{dS}{dt} &= rS - \\alpha S \\rho P - \\beta S \\\\\n",
    "\\frac{dP}{dt} &= (1 - r) S - \\delta \\rho P - \\alpha \\rho S P \\\\\n",
    "\\frac{d \\rho}{dt} &= \\eta \\rho SP - \\mu \\rho\n",
    "\n",
    "\\end{aligned}\n",
    "$$"
   ]
  },
  {
   "cell_type": "code",
   "execution_count": 283,
   "metadata": {},
   "outputs": [],
   "source": [
    "##########################################################################\n",
    "#  EQUATIONS\n",
    "##########################################################################\n",
    "\n",
    "dSdt = lambda r, S, alpha, rho, P, beta: \\\n",
    "    (r*S) - (alpha*rho*P) - (beta * S)\n",
    "\n",
    "dPdt = lambda r, S, beta, delta, rho, P, alpha: \\\n",
    "    (((1-r) * S * rho) + (delta * P)) - (alpha * rho * S * P) - (beta * S * P) \n",
    "\n",
    "dpdt = lambda eta, rho, S, P, mu, alpha: \\\n",
    "    (alpha * eta * rho * S * P) - (mu * rho)\n",
    "\n",
    "\n",
    "def generate_lotka_volterra(r, alpha, beta, delta, eta, mu):\n",
    "    # x[0] = S\n",
    "    # x[1] = P\n",
    "    # x[2] = rho\n",
    "    ddt = lambda t, x: np.array([\n",
    "        dSdt(r, x[0], alpha, x[2], x[1], beta),\n",
    "        dPdt(r, x[0], beta, delta, x[2], x[1], alpha),\n",
    "        dpdt(eta, x[2], x[0], x[1], mu, alpha)\n",
    "    ])\n",
    "\n",
    "    return ddt"
   ]
  },
  {
   "cell_type": "code",
   "execution_count": 284,
   "metadata": {},
   "outputs": [
    {
     "name": "stdout",
     "output_type": "stream",
     "text": [
      "[  89.  7900.1    9.9]\n"
     ]
    }
   ],
   "source": [
    "r = 0.01         # % of S that dies\n",
    "alpha = 0.1    # predation rate coefficient\n",
    "beta = 0.01     # death by natural causes - limited resources etc\n",
    "delta = 0.01    # self pollination rate\n",
    "eta = 5      # birth rate of predator\n",
    "mu = 0.1       # death rate of predator\n",
    "S = 1000         # initial population of seed\n",
    "P = 10          # initial population of plant\n",
    "rho = 10         # population of predator\n",
    "\n",
    "LV = generate_lotka_volterra(0.1, 0.01, 0.01, 0.01, 0.01, 0.01)\n",
    "print(LV(0, [S, P, rho]))"
   ]
  },
  {
   "cell_type": "code",
   "execution_count": 285,
   "metadata": {},
   "outputs": [],
   "source": [
    "x0 = np.array([S, P, rho])\n",
    "sol = solve_ivp(fun=LV, y0=x0, t_span=(0, 100), method='BDF')"
   ]
  },
  {
   "cell_type": "code",
   "execution_count": 286,
   "metadata": {},
   "outputs": [],
   "source": [
    "t = sol.t\n",
    "S = sol.y[0]\n",
    "P = sol.y[1]\n",
    "rho = sol.y[2]"
   ]
  },
  {
   "cell_type": "code",
   "execution_count": 287,
   "metadata": {},
   "outputs": [
    {
     "data": {
      "text/plain": [
       "<matplotlib.legend.Legend at 0x2d20c429720>"
      ]
     },
     "execution_count": 287,
     "metadata": {},
     "output_type": "execute_result"
    },
    {
     "data": {
      "image/png": "[encoded data removed]",
      "text/plain": [
       "<Figure size 432x288 with 1 Axes>"
      ]
     },
     "metadata": {
      "needs_background": "light"
     },
     "output_type": "display_data"
    }
   ],
   "source": [
    "plt.plot(t, S, label='Seed')\n",
    "plt.plot(t, P, label='Plant')\n",
    "plt.plot(t, rho, label='Predator Population')\n",
    "plt.legend()"
   ]
  }
 ],
 "metadata": {
  "kernelspec": {
   "display_name": "Python 3",
   "language": "python",
   "name": "python3"
  },
  "language_info": {
   "codemirror_mode": {
    "name": "ipython",
    "version": 3
   },
   "file_extension": ".py",
   "mimetype": "text/x-python",
   "name": "python",
   "nbconvert_exporter": "python",
   "pygments_lexer": "ipython3",
   "version": "3.11.2"
  }
 },
 "nbformat": 4,
 "nbformat_minor": 2
}
