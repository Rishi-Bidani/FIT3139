{
 "cells": [
  {
   "cell_type": "markdown",
   "metadata": {},
   "source": [
    "# FIT 3139 Assignment 2\n",
    "\n",
    "## Question proposed\n",
    "\n",
    "How do factors such as limited resources, predation and germination rate affect the seed yield of a plant species?\n",
    "\n",
    "## Model extension\n",
    "\n",
    "I have selected the Lotka-Volterra model to simulate this scenario. Although, the Lotka-Volterra model is usually used for 2 species predator-prey interactions, I have extended it to include a third \"species\". There is an argument to be made that an SIR model would be more appropriate for this scenario, but I have chosen the Lotka-Volterra model because it is more intuitive and easier to understand given the dynamics of the system.\n",
    "\n",
    "**The scenario is as follows:**\n",
    "- Species 1: Seeds\n",
    "- Species 2: Plants (yield)\n",
    "- Species 3: Predators (animals that eat the plants)\n",
    "\n",
    "In the model, the seeds are attempting to grow into plants, but if there are too many seeds in the system, they will compete for the limited resources and many might not grow into plants. Furthermore, the plants are being eaten by the predators, while the seeds/plants are small there are more predators capableof eating them, but as they grow, they become less vulnerable to predation. The predators are also affected by the availability of plants, if there are not enough plants, the predators will starve and die.\n",
    "\n",
    "**To summarise the above**\n",
    "\n",
    "- Seeds     - competing with each other and being eaten by predators\n",
    "- Plants    - being eaten by predators (assuming that after competing during seed phase, there is minimal competition between plants for resources)\n",
    "- Predators - eating seeds and plants"
   ]
  },
  {
   "cell_type": "markdown",
   "metadata": {},
   "source": [
    "## Model equations\n",
    "\n",
    "$$\n",
    "\n",
    "\\begin{aligned}\n",
    "& Seeds = S \\\\\n",
    "& Plants = P \\\\\n",
    "& Predators = R \\\\\n",
    "\\end{aligned}\n",
    "\\\\\n",
    "$$"
   ]
  },
  {
   "cell_type": "code",
   "execution_count": 1,
   "metadata": {},
   "outputs": [
    {
     "name": "stderr",
     "output_type": "stream",
     "text": [
      "UsageError: %%latex is a cell magic, but the cell body is empty.\n"
     ]
    }
   ],
   "source": []
  }
 ],
 "metadata": {
  "kernelspec": {
   "display_name": "Python 3",
   "language": "python",
   "name": "python3"
  },
  "language_info": {
   "codemirror_mode": {
    "name": "ipython",
    "version": 3
   },
   "file_extension": ".py",
   "mimetype": "text/x-python",
   "name": "python",
   "nbconvert_exporter": "python",
   "pygments_lexer": "ipython3",
   "version": "3.11.2"
  }
 },
 "nbformat": 4,
 "nbformat_minor": 2
}
