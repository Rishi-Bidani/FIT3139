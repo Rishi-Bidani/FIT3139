{
 "cells": [
  {
   "cell_type": "markdown",
   "metadata": {},
   "source": [
    "# FIT 3139 Assignment 2"
   ]
  },
  {
   "cell_type": "markdown",
   "metadata": {},
   "source": [
    "## Part 1\n",
    "\n",
    "### Question proposed\n",
    "\n",
    "How does an isolated 3 species system with a hierarchical food chain survive in nature?\n",
    "\n",
    "### Model extension\n",
    "\n",
    "I have selected the **Lotka-Volterra model** to simulate this scenario. Although, the Lotka-Volterra model is usually used for 2 species predator-prey interactions, I have extended it to include a third species. In this scenario, there exists a food chain as follows - \n",
    "grass < deer < lion i.e. grass is eaten by a deer and deer is eaten by a lion, however lion does not eat grass.\n",
    "\n",
    "**The scenario is as follows:**\n",
    "- Species 1: Grass\n",
    "- Species 2: Deer (middle predator)\n",
    "- Species 3: Lion (top predator)\n",
    "\n",
    "In the model, the grass grows and survives to an extent i.e. up to a certain density after which it stops growing (logistic growth), this grass is eaten by deer which in turn are eaten by lions."
   ]
  },
  {
   "cell_type": "markdown",
   "metadata": {},
   "source": [
    "#### Model equations\n",
    "\n",
    "$$\n",
    "\\begin{aligned}\n",
    "\n",
    "\\frac{dG}{dt} &= \\alpha G (1 - \\frac{G}{k}) - \\beta G D \\\\\n",
    "\\frac{dD}{dt} &= \\gamma G D - \\delta D - \\epsilon D L \\\\\n",
    "\\frac{dL}{dt} &= \\eta D L - \\mu L \\\\\n",
    "\n",
    "\\end{aligned}\n",
    "\n",
    "\\\\\n",
    "\n",
    "\\begin{align*}\n",
    "\\text{where, } \\\\\n",
    "\n",
    "& \\alpha = \\text{growth rate coefficient of the grass} \\\\\n",
    "& \\beta = \\text{death rate coefficient as a result of being grazed} \\\\\n",
    "& k = \\text{logistic growth coefficient that determines max amount of grass} \\\\\n",
    "& \\gamma = \\text{growth rate from grazing} \\\\\n",
    "& \\delta = \\text{natural death rate} \\\\\n",
    "& \\epsilon = \\text{death rate as a result of being hunted} \\\\\n",
    "& \\eta = \\text{growth rate as a result of hunting prey} \\\\\n",
    "& \\mu = \\text{natural death rate} \\\\\n",
    "\\end{align*}\n",
    "$$"
   ]
  },
  {
   "cell_type": "code",
   "execution_count": 443,
   "metadata": {},
   "outputs": [],
   "source": [
    "import numpy as np\n",
    "from scipy.integrate import solve_ivp, odeint\n",
    "import matplotlib.pyplot as plt"
   ]
  },
  {
   "cell_type": "markdown",
   "metadata": {},
   "source": [
    "## discrete\n",
    "### Difference equations\n",
    "\n",
    "In part 1, I described my equations in continuous time. I'm using euler's method to create the system of difference equations to represent them in discrete time.\n",
    "\n",
    "$$\n",
    "\\begin{align*}\n",
    "\n",
    "& \\text{Let there be any function F(x) such that,} \\\\\n",
    "& \\frac{dx}{dt} = F(x) \\\\\n",
    "\n",
    "& \\text{Using Euler's method,} \\\\\n",
    "& F(x) = \\frac{dx}{dt} \\approx \\frac{\\Delta x}{\\Delta t} \\approx \\frac{x(t + \\Delta t) - x(t)}{\\Delta t}\\\\\n",
    "& F(x) \\Delta t = x(t + \\Delta t) - x(t) \\\\\n",
    "& x(t + \\Delta t) = x(t) + F(x) \\Delta t \\\\\n",
    "\\end{align*}\n",
    "$$"
   ]
  },
  {
   "cell_type": "markdown",
   "metadata": {},
   "source": [
    "$$\n",
    "\n",
    "\\begin{aligned}\n",
    "& G_{t+1} = G_t + \\left( \\alpha G_t \\left(1 - \\frac{G_t}{k}\\right) - \\beta G_t D_t \\right) \\Delta t \\\\\n",
    "& D_{t+1} = D_t + \\left( \\gamma G_t D_t - \\delta D_t - \\epsilon D_t L_t \\right) \\Delta t \\\\\n",
    "& L_{t+1} = L_t + \\left( \\eta D_t L_t - \\mu L_t \\right) \\Delta t \\\\\n",
    "\n",
    "\\end{aligned}\n",
    "$$"
   ]
  },
  {
   "cell_type": "code",
   "execution_count": 444,
   "metadata": {},
   "outputs": [],
   "source": [
    "def discrete(G_t, D_t, L_t, alpha, beta, k, gamma, delta, epsilon, eta, mu, t=0, delta_t=0.001, max_iter=1000):\n",
    "    G_vals = [G_t]\n",
    "    D_vals = [D_t]\n",
    "    L_vals = [L_t]\n",
    "    t_vals = [t]\n",
    "\n",
    "    for i in range(max_iter):\n",
    "        G_t_next = G_vals[-1] + ((alpha * G_vals[-1] * (1 - G_vals[-1] / k)) - (beta * G_vals[-1] * D_vals[-1])) * delta_t\n",
    "        D_t_next = D_vals[-1] + ((gamma * D_vals[-1] * G_vals[-1]) - (delta * D_vals[-1]) - (epsilon * D_vals[-1] * L_vals[-1])) * delta_t\n",
    "        L_t_next = L_vals[-1] + ((eta * D_vals[-1] * L_vals[-1]) - (mu * L_vals[-1])) * delta_t\n",
    "\n",
    "        G_vals.append(G_t_next)\n",
    "        D_vals.append(D_t_next)\n",
    "        L_vals.append(L_t_next)\n",
    "        t_vals.append(t + i)\n",
    "    \n",
    "    return t_vals, G_vals, D_vals, L_vals\n"
   ]
  },
  {
   "cell_type": "code",
   "execution_count": 445,
   "metadata": {},
   "outputs": [
    {
     "data": {
      "text/plain": [
       "<matplotlib.legend.Legend at 0x1988eceba00>"
      ]
     },
     "execution_count": 445,
     "metadata": {},
     "output_type": "execute_result"
    },
    {
     "data": {
      "image/png": "[encoded data removed]",
      "text/plain": [
       "<Figure size 432x288 with 1 Axes>"
      ]
     },
     "metadata": {
      "needs_background": "light"
     },
     "output_type": "display_data"
    }
   ],
   "source": [
    "G0 = 200\n",
    "D0 = 50\n",
    "L0 = 10\n",
    "\n",
    "natural_growth = 0.5\n",
    "death_hunted = 1.5\n",
    "\n",
    "alpha = natural_growth         # growth rate of grass\n",
    "beta = 0.1                          # \n",
    "k = 100                            # max value\n",
    "gamma = natural_growth / 10         # growth rate of deer by grazing grass\n",
    "delta = 0.4                        # death rate of deer\n",
    "epsilon = 0.02                      # death rate of deer by being hunted by lion\n",
    "mu = 0.04                           # \n",
    "eta = natural_growth / 64          #\n",
    "\n",
    "t, G, D, L = discrete(G0, D0, L0, alpha, beta, k, gamma, delta, epsilon, eta, mu, t=0, delta_t=0.1, max_iter=5000)\n",
    "\n",
    "plt.plot(t, G, label='Grass')\n",
    "plt.plot(t, D, label='Deer')\n",
    "plt.plot(t, L, label='Lion')\n",
    "plt.legend()\n"
   ]
  },
  {
   "cell_type": "markdown",
   "metadata": {},
   "source": [
    "## Part 2"
   ]
  },
  {
   "cell_type": "code",
   "execution_count": 446,
   "metadata": {},
   "outputs": [],
   "source": [
    "# natural_growth = 0.5\n",
    "# death_hunted = 1.5\n",
    "\n",
    "# alpha = natural_growth         # growth rate of grass\n",
    "# beta = 0.1                          # \n",
    "# k = 100                            # max value\n",
    "# gamma = natural_growth / 10         # growth rate of deer by grazing grass\n",
    "# delta = 0.4                        # death rate of deer\n",
    "# epsilon = 0.02                      # death rate of deer by being hunted by lion\n",
    "# mu = 0.04                           # \n",
    "# eta = natural_growth / 64\n",
    "\n",
    "# Dt = 0.01\n",
    "# timestep = 50\n",
    "# t = np.linspace(1, Dt, timestep)\n",
    "\n",
    "# x = np.zeros(shape=len(t))\n",
    "# x[0] = 0.1\n",
    "\n",
    "# for i in range(1, len(t) - 1):\n",
    "#     x[i+1] = x[i] + (alpha * x[t] * (1 - x[t] / k) - beta * x[t] * 1) * Dt\n"
   ]
  },
  {
   "cell_type": "markdown",
   "metadata": {},
   "source": [
    "## Part 3 - Continous time analysis\n"
   ]
  },
  {
   "cell_type": "code",
   "execution_count": 447,
   "metadata": {},
   "outputs": [],
   "source": [
    "dGdt = lambda alpha, beta, k, G, D: (alpha * G * (1 - G/k)) - (beta * G * D)\n",
    "dDdt = lambda gamma, delta, epsilon, G, D, L: (gamma * G * D) - (delta * D) - (epsilon * D * L)\n",
    "dLdt = lambda mu, eta, theta, D, L: (-mu * L) + (eta * D * L) + (theta * L)\n",
    "\n",
    "def generate_lotka_volterra(alpha, beta, k, gamma, delta, epsilon, mu, eta, theta):\n",
    "    ddt = lambda t, x: np.array([\n",
    "        dGdt(alpha, beta, k, x[0], x[1]),\n",
    "        dDdt(gamma, delta, epsilon, x[0], x[1], x[2]),\n",
    "        dLdt(mu, eta, theta, x[1], x[2]),\n",
    "    ])\n",
    "\n",
    "    return ddt\n"
   ]
  },
  {
   "cell_type": "code",
   "execution_count": 448,
   "metadata": {},
   "outputs": [],
   "source": [
    "natural_growth = 0.5\n",
    "death_hunted = 1.5\n",
    "\n",
    "alpha = natural_growth         # growth rate of grass\n",
    "beta = 0.1                          # \n",
    "k = 100                            # max value\n",
    "gamma = natural_growth / 10         # growth rate of deer by grazing grass\n",
    "delta = 0.4                        # death rate of deer\n",
    "epsilon = 0.02                      # death rate of deer by being hunted by lion\n",
    "mu = 0.04                           # \n",
    "eta = natural_growth / 64          #\n",
    "theta = -1.1\n",
    "\n",
    "\n",
    "x0 = np.array([200, 50, 10])\n",
    "LV1 = generate_lotka_volterra(alpha, beta, k, gamma, delta, epsilon, mu, eta, theta)"
   ]
  },
  {
   "cell_type": "code",
   "execution_count": 449,
   "metadata": {},
   "outputs": [
    {
     "data": {
      "text/plain": [
       "<matplotlib.legend.Legend at 0x1988efa9930>"
      ]
     },
     "execution_count": 449,
     "metadata": {},
     "output_type": "execute_result"
    },
    {
     "data": {
      "image/png": "[encoded data removed]",
      "text/plain": [
       "<Figure size 432x288 with 1 Axes>"
      ]
     },
     "metadata": {
      "needs_background": "light"
     },
     "output_type": "display_data"
    }
   ],
   "source": [
    "sol = solve_ivp(fun=LV1, y0=x0, t_span=(0, 500), method='RK45')\n",
    "t = sol.t\n",
    "x = sol.y[0]\n",
    "y = sol.y[1]\n",
    "z = sol.y[2]\n",
    "\n",
    "plt.plot(t, x, label='Grass')\n",
    "plt.plot(t, y, label='Deer')\n",
    "plt.plot(t, z, label='Lion')\n",
    "plt.legend()"
   ]
  },
  {
   "cell_type": "code",
   "execution_count": 450,
   "metadata": {},
   "outputs": [],
   "source": [
    "def RK2_next(df, y, t, h, b):\n",
    "    if b == 0:\n",
    "        a, alpha, beta = 1, 1, 1\n",
    "    else:\n",
    "        a, alpha, beta = 1-b, 1/(2*b), 1/(2*b)\n",
    "    k1 = df(t, y)\n",
    "    k2 = df(t+alpha*h, y+beta*k1*h)\n",
    "    return y + h*(a*k1 + b*k2)\n",
    "\n",
    "\n",
    "\n",
    "def RK2(df, y0, t0=0, h=0.1, max_iter=5000, b=0.5):\n",
    "    t = np.zeros(max_iter+1)\n",
    "    y = np.zeros(shape=(len(y0), max_iter+1))\n",
    "\n",
    "    t[0], y[:, 0] = t0, y0\n",
    "\n",
    "    for i in range(max_iter):\n",
    "        t[i+1] = t[i] + h\n",
    "        y[:, i+1] = RK2_next(df=df, y=y[:, i], t=t[i], h=h, b=b)\n",
    "    \n",
    "    return t, y"
   ]
  },
  {
   "cell_type": "code",
   "execution_count": 451,
   "metadata": {},
   "outputs": [
    {
     "data": {
      "text/plain": [
       "<matplotlib.legend.Legend at 0x1988eceac80>"
      ]
     },
     "execution_count": 451,
     "metadata": {},
     "output_type": "execute_result"
    },
    {
     "data": {
      "image/png": "[encoded data removed]",
      "text/plain": [
       "<Figure size 432x288 with 1 Axes>"
      ]
     },
     "metadata": {
      "needs_background": "light"
     },
     "output_type": "display_data"
    }
   ],
   "source": [
    "t, sol = RK2(LV1, x0)\n",
    "x = sol[0]\n",
    "y = sol[1]\n",
    "z = sol[2]\n",
    "\n",
    "plt.plot(t, x, label='Plant')\n",
    "plt.plot(t, y, label='Herbivore')\n",
    "plt.plot(t, z, label='Predator')\n",
    "plt.legend()\n"
   ]
  },
  {
   "cell_type": "markdown",
   "metadata": {},
   "source": [
    "### Comparing discrete vs continuous analysis"
   ]
  },
  {
   "cell_type": "code",
   "execution_count": null,
   "metadata": {},
   "outputs": [],
   "source": []
  },
  {
   "cell_type": "markdown",
   "metadata": {},
   "source": [
    "## Part 4\n"
   ]
  },
  {
   "cell_type": "markdown",
   "metadata": {},
   "source": [
    "## Stead state analysis\n",
    "\n",
    "Starting from dL/dt = 0, we get\n",
    "$$\n",
    "\\begin{aligned}\n",
    "& \\eta D L - \\mu L = 0 \\\\\n",
    "& L(\\eta D - \\mu) = 0 \\\\\n",
    "& L = 0 \\text{ or } D = \\frac{\\mu}{\\eta} \\\\\n",
    "\\end{aligned}\n",
    "$$\n",
    "\n",
    "Similarly, starting from dD/dt = 0, we get\n",
    "\n",
    "$$\n",
    "\\begin{aligned}\n",
    "& \\gamma G D - \\delta D - \\epsilon D L = 0 \\\\\n",
    "& D(\\gamma G - \\delta - \\epsilon L) = 0 \\\\\n",
    "& D = 0 \\text{ or } G = \\frac{\\delta + \\epsilon L}{\\gamma} \\\\\n",
    "\\end{aligned}\n",
    "$$\n",
    "\n",
    "Finally, starting from dG/dt = 0, we get\n",
    "\n",
    "$$\n",
    "\\begin{aligned}\n",
    "& \\alpha G (1 - \\frac{G}{k}) - \\beta G D = 0 \\\\\n",
    "& G(\\alpha (1 - \\frac{G}{k}) - \\beta D) = 0 \\\\\n",
    "& G = 0 \\text{ or } D = \\frac{\\alpha (1 - \\frac{G}{k})}{\\beta} \\\\\n",
    "\\end{aligned}\n",
    "$$\n",
    "\n",
    "Substituting the value of D from the above equation, we get\n",
    "\n",
    "$$\n",
    "\\begin{aligned}\n",
    "& G = 0 \\text{ or } G = \\frac{\\alpha (1 - \\frac{G}{k})}{\\beta} \\\\\n",
    "& G = 0 \\text{ or } G = \\frac{\\alpha k - \\beta G}{\\beta} \\\\\n",
    "& G = 0 \\text{ or } G = \\frac{\\alpha k}{\\beta + 1} \\\\\n",
    "\\end{aligned}\n",
    "$$\n",
    "\n",
    "Therefore, the steady state values are\n",
    "\n",
    "$$\n",
    "\\begin{aligned}\n",
    "& G = \\{0, \\frac{\\alpha k}{\\beta + 1}\\} \\\\\n",
    "& D = \\{0, \\frac{\\delta + \\epsilon L}{\\gamma}\\} \\\\\n",
    "& L = \\{0, \\frac{\\mu}{\\eta}\\} \\\\\n",
    "\\end{aligned}\n",
    "\n",
    "$$"
   ]
  },
  {
   "cell_type": "code",
   "execution_count": 463,
   "metadata": {},
   "outputs": [
    {
     "name": "stdout",
     "output_type": "stream",
     "text": [
      "48.72 25.64 0.40719999999999995\n"
     ]
    },
    {
     "data": {
      "text/plain": [
       "<matplotlib.legend.Legend at 0x19881155a80>"
      ]
     },
     "execution_count": 463,
     "metadata": {},
     "output_type": "execute_result"
    },
    {
     "data": {
      "image/png": "[encoded data removed]",
      "text/plain": [
       "<Figure size 432x288 with 1 Axes>"
      ]
     },
     "metadata": {
      "needs_background": "light"
     },
     "output_type": "display_data"
    }
   ],
   "source": [
    "# natural_growth = 10\n",
    "# death_hunted = 2\n",
    "\n",
    "# alpha = natural_growth         # growth rate of grass\n",
    "# beta = 0.1                          # \n",
    "# k = 100                            # max value\n",
    "# gamma = natural_growth / 10         # growth rate of deer by grazing grass\n",
    "# delta = 0.4                        # death rate of deer\n",
    "# epsilon = 3                      # death rate of deer by being hunted by lion\n",
    "# mu = 0.004                           # \n",
    "# eta = 0.02                             #\n",
    "# theta = -1\n",
    "\n",
    "natural_growth = 0.5\n",
    "death_hunted = 1.5\n",
    "\n",
    "alpha = natural_growth         # growth rate of grass\n",
    "beta = 0.01                          # \n",
    "k = 100                            # max value\n",
    "gamma = natural_growth / 10         # growth rate of deer by grazing grass\n",
    "delta = 0.4                        # death rate of deer\n",
    "epsilon = 5                      # death rate of deer by being hunted by lion\n",
    "mu = 0.04                           # \n",
    "eta = natural_growth / 64          #\n",
    "theta = -0.2\n",
    "\n",
    "x0 = np.array([200, 50, 10])\n",
    "LV1 = generate_lotka_volterra(alpha, beta, k, gamma, delta, epsilon, mu, eta, theta)\n",
    "\n",
    "\n",
    "D = mu-theta/eta\n",
    "# G = ( (alpha - ((beta * mu)/eta)) * k ) / alpha\n",
    "# L = ((gamma * ( (((eta*alpha) - (beta*mu)) * k) / ((alpha**2) * eta) )) - delta) / epsilon\n",
    "G = (alpha - (beta * D))*k/alpha\n",
    "L = ((gamma * k * (alpha - (beta * D)))/(alpha * epsilon)) - (delta/epsilon)\n",
    "x0 = np.array([G, D, L])\n",
    "print(G, D, L)\n",
    "\n",
    "sol = solve_ivp(fun=LV1, y0=x0, t_span=(0, 500), method='RK45')\n",
    "t = sol.t\n",
    "x = sol.y[0]\n",
    "y = sol.y[1]\n",
    "z = sol.y[2]\n",
    "\n",
    "plt.plot(t, x, label='Grass')\n",
    "plt.plot(t, y, label='Deer')\n",
    "plt.plot(t, z, label='Lion')\n",
    "plt.legend()"
   ]
  }
 ],
 "metadata": {
  "kernelspec": {
   "display_name": "Python 3",
   "language": "python",
   "name": "python3"
  },
  "language_info": {
   "codemirror_mode": {
    "name": "ipython",
    "version": 3
   },
   "file_extension": ".py",
   "mimetype": "text/x-python",
   "name": "python",
   "nbconvert_exporter": "python",
   "pygments_lexer": "ipython3",
   "version": "3.10.0"
  }
 },
 "nbformat": 4,
 "nbformat_minor": 2
}
