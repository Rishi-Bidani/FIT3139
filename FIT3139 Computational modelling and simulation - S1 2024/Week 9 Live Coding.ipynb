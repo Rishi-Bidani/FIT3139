{
 "cells": [
  {
   "cell_type": "code",
   "execution_count": 61,
   "id": "20cee33b",
   "metadata": {},
   "outputs": [],
   "source": [
    "import numpy as np\n",
    "from matplotlib import pyplot as plt"
   ]
  },
  {
   "cell_type": "code",
   "execution_count": 74,
   "id": "4eba802d",
   "metadata": {},
   "outputs": [
    {
     "data": {
      "text/plain": [
       "[<matplotlib.lines.Line2D at 0x7f01d711b790>]"
      ]
     },
     "execution_count": 74,
     "metadata": {},
     "output_type": "execute_result"
    },
    {
     "data": {
      "image/png": "[encoded data removed]",
      "text/plain": [
       "<Figure size 432x288 with 1 Axes>"
      ]
     },
     "metadata": {
      "needs_background": "light"
     },
     "output_type": "display_data"
    }
   ],
   "source": [
    "f = lambda x: np.sin(x) + 2*np.log(x) - np.sqrt(x)\n",
    "x = np.arange(2*np.pi, 8*np.pi, 0.001)\n",
    "\n",
    "plt.plot(x, f(x))"
   ]
  },
  {
   "cell_type": "code",
   "execution_count": 75,
   "id": "bb17da4e",
   "metadata": {},
   "outputs": [],
   "source": [
    "def random_ab(a, b):\n",
    "    return (b-a)*np.random.random() + a\n",
    "\n",
    "def random_walk(f, domain, max_iter=1000, verbose=False):\n",
    "    x_star = None\n",
    "    for i in range(max_iter):\n",
    "        x = random_ab(domain[0], domain[1])\n",
    "        if (x_star == None) or (f(x) > f(x_star)):\n",
    "            x_star = x\n",
    "        if verbose: print(x, f(x))\n",
    "    return x_star\n",
    "\n",
    "def hill_climb(f, domain, x0, epsilon=1e-3, max_iter=1000, verbose=False):\n",
    "    x_star = x0\n",
    "    for i in range(max_iter):\n",
    "        if verbose: print(x_star, f(x_star))\n",
    "        x_left = x_star - epsilon\n",
    "        x_right = x_star + epsilon\n",
    "        if (f(x_star) > f(x_left)) and (f(x_star) > f(x_right)):\n",
    "            return x_star #local maxima\n",
    "        elif (f(x_star) < f(x_left)) and (f(x_star) < f(x_right)): # local minima\n",
    "            if f(x_left) > f(x_right):\n",
    "                x_star = x_left\n",
    "            else:\n",
    "                x_star = x_right\n",
    "        elif f(x_star) < f(x_left): # move left\n",
    "            x_star = x_left\n",
    "        elif f(x_star) < f(x_right): # move right\n",
    "            x_star = x_right\n",
    "    return x_star"
   ]
  },
  {
   "cell_type": "code",
   "execution_count": 76,
   "id": "263c2b3e",
   "metadata": {},
   "outputs": [
    {
     "name": "stdout",
     "output_type": "stream",
     "text": [
      "21.766240281967523 1.7183069403514235\n",
      "17.435521356191003 0.5536947995610335\n",
      "22.16735574102219 1.313722608129205\n",
      "19.245784450664658 1.9135241596856796\n",
      "21.93427636267151 1.5495382909424995\n",
      "20.283219940299112 2.5065103794172687\n",
      "23.48100598178029 0.4699370650575263\n",
      "18.885849148842283 1.5673258823616179\n",
      "6.477773734976079 1.3849694354866324\n",
      "24.407944068507614 0.7863940447380626\n",
      "12.466668757003369 1.4157633979675568\n",
      "13.51975743322831 2.3467628720920835\n",
      "8.738871969579568 2.0127782880716203\n",
      "14.976662061678297 2.210855691164261\n",
      "18.96891089933944 1.649343220819108\n",
      "14.799767292490552 2.3305715900099018\n",
      "10.197931116545558 0.7525543057425752\n",
      "24.457319420215516 0.8231982985034216\n",
      "19.5038548852483 2.133510511823552\n",
      "9.67460456188665 1.1813701480246315\n",
      "8.741038893429431 2.0112293167334614\n",
      "18.13036464707089 0.878423232317675\n",
      "23.76780140727206 0.4825540801100896\n",
      "22.309765557346164 1.1734740952758056\n",
      "8.3232958594946 2.2449830024327797\n",
      "21.417577170895747 2.043146434654809\n",
      "22.959775841883964 0.6517426561425008\n",
      "16.73444937427411 0.688678047969403\n",
      "23.3613861668145 0.4888517824409693\n",
      "16.753361272815603 0.6789865832651181\n",
      "19.621383558667887 2.2210830016223344\n",
      "17.09046212082253 0.5606555114626603\n",
      "8.325517068739387 2.2441249371472116\n",
      "16.34663357699923 0.9488185552636654\n",
      "7.350165536729321 2.1540734401260555\n",
      "16.852461936985986 0.6333155764595313\n",
      "10.040980701306205 0.8666584534735788\n",
      "8.665717929731493 2.063230215532935\n",
      "15.256272822264966 1.9805406630270839\n",
      "21.167460239264418 2.237776503966119\n",
      "18.956272162453946 1.636903398396405\n",
      "9.469049722035507 1.374617703995967\n",
      "21.379494242410463 2.075290627177539\n",
      "7.6402653697047365 2.28001114899535\n",
      "8.566429562483059 2.1256196625449806\n",
      "16.527281554834616 0.8139683627860839\n",
      "10.858880345299832 0.4840129715586379\n",
      "7.831982034991703 2.317621387164912\n",
      "13.494806583835397 2.331765946313768\n",
      "20.392313822855243 2.5141381000456366\n",
      "9.586379778682238 1.2635993330741075\n",
      "11.214516413141872 0.5094821241498422\n",
      "20.21510495449349 2.4957497027006843\n",
      "17.234560242771284 0.5433572139044607\n",
      "22.083842474277525 1.397786348281418\n",
      "24.704196170394496 1.0280667641577228\n",
      "16.399300157625234 0.9073046988279589\n",
      "23.16053620810155 0.5518486244546752\n",
      "15.648435700579617 1.6044239586382796\n",
      "23.713601502407062 0.47391407770067406\n",
      "13.486843806700886 2.326873708658527\n",
      "6.614295427096238 1.5317323554265796\n",
      "6.794114385228776 1.714549092788514\n",
      "15.480846643585561 1.769805546196118\n",
      "13.715776723634821 2.44613299138412\n",
      "22.804995071905445 0.7515676476771853\n",
      "15.08471178459186 2.127137735872366\n",
      "21.701257282447365 1.7821276239779813\n",
      "12.439739289981546 1.3884976376290568\n",
      "16.66683093474346 0.7257964948139533\n",
      "18.836644245516922 1.5185766489735348\n",
      "8.119877705035034 2.3039476992329635\n",
      "20.657943513970665 2.483006511892058\n",
      "20.026097385206164 2.4423028471355526\n",
      "15.365706500908978 1.8799786277023633\n",
      "8.687701561522509 2.048452146759385\n",
      "10.971700953173663 0.4785677879018069\n",
      "9.266520085464114 1.5663179813264487\n",
      "20.109678090576786 2.4701485154830127\n",
      "6.573096216847282 1.4880318013673808\n",
      "22.37645966734182 1.1097952875570058\n",
      "25.123738136337963 1.426264772339735\n",
      "15.489533673174348 1.7613514103584529\n",
      "16.524909416566587 0.8155946035835466\n",
      "23.08586027088673 0.5848697493526727\n",
      "19.76316022274494 2.313772348075126\n",
      "6.791837674812358 1.712328325972999\n",
      "14.21189169090016 2.5355012494644096\n",
      "12.495357941630601 1.4448840585546106\n",
      "7.952499357946065 2.3221059640295487\n",
      "12.84222295639944 1.7942392317930351\n",
      "17.632318535538666 0.6022351434108497\n",
      "7.33724518936698 2.146628086394099\n",
      "16.418441028834884 0.8926467495925561\n",
      "24.279779823088173 0.6986045539740919\n",
      "9.519517868876513 1.3267185673503783\n",
      "20.3693027941699 2.513518865592805\n",
      "16.130670483644913 1.1349134362461655\n",
      "12.223317179946513 1.1741404806297235\n",
      "19.600223411423283 2.205994976570941\n"
     ]
    },
    {
     "data": {
      "text/plain": [
       "14.21189169090016"
      ]
     },
     "execution_count": 76,
     "metadata": {},
     "output_type": "execute_result"
    }
   ],
   "source": [
    "random_walk(f, domain=[2*np.pi, 8*np.pi], max_iter=100, verbose=True)"
   ]
  },
  {
   "cell_type": "code",
   "execution_count": 77,
   "id": "eec44f84",
   "metadata": {},
   "outputs": [
    {
     "data": {
      "text/plain": [
       "2.5355013620071065"
      ]
     },
     "execution_count": 77,
     "metadata": {},
     "output_type": "execute_result"
    }
   ],
   "source": [
    "f(14.21189)"
   ]
  },
  {
   "cell_type": "code",
   "execution_count": 78,
   "id": "20a49825",
   "metadata": {},
   "outputs": [
    {
     "name": "stdout",
     "output_type": "stream",
     "text": [
      "20 2.4322738428360298\n",
      "20.01 2.436190804372557\n",
      "20.020000000000003 2.440015848436169\n",
      "20.030000000000005 2.4437485809789434\n",
      "20.040000000000006 2.4473886171615575\n",
      "20.050000000000008 2.4509355813918017\n",
      "20.06000000000001 2.4543891073621653\n",
      "20.07000000000001 2.4577488380864994\n",
      "20.080000000000013 2.461014425935743\n",
      "20.090000000000014 2.464185532672719\n",
      "20.100000000000016 2.46726182948598\n",
      "20.110000000000017 2.47024299702273\n",
      "20.12000000000002 2.4731287254207786\n",
      "20.13000000000002 2.475918714339559\n",
      "20.140000000000022 2.4786126729901996\n",
      "20.150000000000023 2.4812103201646174\n",
      "20.160000000000025 2.4837113842636818\n",
      "20.170000000000027 2.4861156033243956\n",
      "20.180000000000028 2.48842272504612\n",
      "20.19000000000003 2.4906325068158415\n",
      "20.20000000000003 2.492744715732454\n",
      "20.210000000000033 2.494759128630079\n",
      "20.220000000000034 2.496675532100417\n",
      "20.230000000000036 2.498493722514109\n",
      "20.240000000000038 2.500213506041135\n",
      "20.25000000000004 2.501834698670222\n",
      "20.26000000000004 2.503357126227277\n",
      "20.270000000000042 2.5047806243928266\n",
      "20.280000000000044 2.506105038718487\n",
      "20.290000000000045 2.5073302246424296\n",
      "20.300000000000047 2.5084560475038717\n",
      "20.31000000000005 2.5094823825565635\n",
      "20.32000000000005 2.5104091149812993\n",
      "20.33000000000005 2.5112361398974246\n",
      "20.340000000000053 2.5119633623733524\n",
      "20.350000000000055 2.5125906974360817\n",
      "20.360000000000056 2.513118070079728\n",
      "20.370000000000058 2.5135454152730548\n",
      "20.38000000000006 2.5138726779659937\n",
      "20.39000000000006 2.5140998130951884\n",
      "20.400000000000063 2.5142267855885256\n",
      "20.410000000000064 2.514253570368667\n"
     ]
    },
    {
     "data": {
      "text/plain": [
       "20.410000000000064"
      ]
     },
     "execution_count": 78,
     "metadata": {},
     "output_type": "execute_result"
    }
   ],
   "source": [
    "hill_climb(f, domain=[2*np.pi, 8*np.pi], x0=20, epsilon=1e-2, max_iter=100, verbose=True)"
   ]
  },
  {
   "cell_type": "code",
   "execution_count": 79,
   "id": "906454bb",
   "metadata": {},
   "outputs": [
    {
     "data": {
      "text/plain": [
       "2.5376721533048476"
      ]
     },
     "execution_count": 79,
     "metadata": {},
     "output_type": "execute_result"
    }
   ],
   "source": [
    "f(4.5*np.pi)"
   ]
  },
  {
   "cell_type": "markdown",
   "id": "47b65437",
   "metadata": {},
   "source": [
    "# SA"
   ]
  },
  {
   "cell_type": "code",
   "execution_count": 114,
   "id": "0ae43272",
   "metadata": {},
   "outputs": [],
   "source": [
    "def metropolis(f_x, f_x_star, t, minimisation=False):\n",
    "    delta = (-1 if minimisation else 1)*(f_x_star - f_x)\n",
    "    if delta > 0:\n",
    "        return True\n",
    "    return np.random.random() < np.exp(delta/t)"
   ]
  },
  {
   "cell_type": "code",
   "execution_count": 115,
   "id": "c72e8a43",
   "metadata": {},
   "outputs": [],
   "source": [
    "def peturb_TSP(sol):\n",
    "    idxs = range(len(sol))\n",
    "    first, second = np.random.choice(idxs, 2, replace=False)\n",
    "    new_sol = sol.copy()\n",
    "    new_sol[first], new_sol[second] = new_sol[second], new_sol[first]\n",
    "    return new_sol"
   ]
  },
  {
   "cell_type": "code",
   "execution_count": 116,
   "id": "5eeb02b4",
   "metadata": {},
   "outputs": [],
   "source": [
    "def quality_TSP_Gen(M):\n",
    "    def quality_TSP(sol):\n",
    "        cost = 0\n",
    "        for i in range(len(sol)):\n",
    "            cost += M[sol[i-1], sol[i]]\n",
    "        return cost\n",
    "    return quality_TSP"
   ]
  },
  {
   "cell_type": "code",
   "execution_count": 117,
   "id": "94f096aa",
   "metadata": {},
   "outputs": [],
   "source": [
    "def SA(f, peturb, sol, per_temp, t0, alpha, minimisation=False, tol=1e-3, verbose=False):\n",
    "    T = t0\n",
    "    if verbose: print(\"initial guess: {0}, quality: {1}\".format(sol, f(sol)))\n",
    "    while T > tol:\n",
    "        for _ in range(per_temp):\n",
    "            sol_new = peturb(sol)\n",
    "            if metropolis(f(sol), f(sol_new), T, minimisation=minimisation):\n",
    "                sol = sol_new.copy()\n",
    "        if verbose: print(\"Best Guess at T={0}: {1}, quality: {2}\".format(T, sol, f(sol)))\n",
    "        T = alpha*T\n",
    "    if verbose: print(\"Best Guess: {0}, quality: {1}\".format(sol, f(sol)))\n",
    "    return sol, f(sol)"
   ]
  },
  {
   "cell_type": "code",
   "execution_count": 118,
   "id": "8973d947",
   "metadata": {},
   "outputs": [],
   "source": [
    "T = np.array([\n",
    "    [0, 2053, 1155, 3017, 1385],\n",
    "    [2053, 0, 1080, 3415, 939],\n",
    "    [1155, 1080, 0, 3940, 285],\n",
    "    [3017, 3415, 3940, 0, 3975],\n",
    "    [1385, 939, 285, 3975, 0]\n",
    "    ])\n",
    "\n",
    "f = quality_TSP_Gen(T)\n",
    "per_temp = 2\n",
    "t0 = 1\n",
    "tol=1e-2\n",
    "verbose=True\n",
    "sol_0 = [0, 1, 2, 3, 4]\n",
    "alpha=0.8"
   ]
  },
  {
   "cell_type": "code",
   "execution_count": 120,
   "id": "1ec3fc57",
   "metadata": {},
   "outputs": [
    {
     "name": "stdout",
     "output_type": "stream",
     "text": [
      "initial guess: [0, 1, 2, 3, 4], quality: 12433\n",
      "Best Guess at T=1: [0, 1, 4, 2, 3], quality: 10234\n",
      "Best Guess at T=0.8: [3, 1, 4, 2, 0], quality: 8811\n",
      "Best Guess at T=0.6400000000000001: [3, 1, 4, 2, 0], quality: 8811\n",
      "Best Guess at T=0.5120000000000001: [3, 1, 4, 2, 0], quality: 8811\n",
      "Best Guess at T=0.40960000000000013: [3, 1, 4, 2, 0], quality: 8811\n",
      "Best Guess at T=0.32768000000000014: [3, 1, 4, 2, 0], quality: 8811\n",
      "Best Guess at T=0.2621440000000001: [3, 1, 4, 2, 0], quality: 8811\n",
      "Best Guess at T=0.2097152000000001: [3, 1, 4, 2, 0], quality: 8811\n",
      "Best Guess at T=0.1677721600000001: [3, 1, 4, 2, 0], quality: 8811\n",
      "Best Guess at T=0.13421772800000006: [3, 1, 4, 2, 0], quality: 8811\n",
      "Best Guess at T=0.10737418240000006: [3, 1, 4, 2, 0], quality: 8811\n",
      "Best Guess at T=0.08589934592000005: [3, 1, 4, 2, 0], quality: 8811\n",
      "Best Guess at T=0.06871947673600004: [3, 1, 4, 2, 0], quality: 8811\n",
      "Best Guess at T=0.054975581388800036: [3, 1, 4, 2, 0], quality: 8811\n",
      "Best Guess at T=0.043980465111040035: [3, 1, 4, 2, 0], quality: 8811\n",
      "Best Guess at T=0.03518437208883203: [3, 1, 4, 2, 0], quality: 8811\n",
      "Best Guess at T=0.028147497671065627: [3, 1, 4, 2, 0], quality: 8811\n",
      "Best Guess at T=0.022517998136852502: [3, 1, 4, 2, 0], quality: 8811\n",
      "Best Guess at T=0.018014398509482003: [3, 1, 4, 2, 0], quality: 8811\n",
      "Best Guess at T=0.014411518807585602: [3, 1, 4, 2, 0], quality: 8811\n",
      "Best Guess at T=0.011529215046068483: [3, 1, 4, 2, 0], quality: 8811\n",
      "Best Guess: [3, 1, 4, 2, 0], quality: 8811\n"
     ]
    },
    {
     "data": {
      "text/plain": [
       "([3, 1, 4, 2, 0], 8811)"
      ]
     },
     "execution_count": 120,
     "metadata": {},
     "output_type": "execute_result"
    }
   ],
   "source": [
    "f = quality_TSP_Gen(T)\n",
    "per_temp = 10\n",
    "t0 = 1\n",
    "tol=1e-2\n",
    "verbose=True\n",
    "sol_0 = [0, 1, 2, 3, 4]\n",
    "alpha=0.8\n",
    "\n",
    "path, quality = SA(f=f, peturb=peturb_TSP, sol=sol_0, per_temp=per_temp, \n",
    "                   t0=t0, alpha=alpha, tol=tol, minimisation=True,\n",
    "                   verbose=True)\n",
    "path, quality"
   ]
  },
  {
   "cell_type": "code",
   "execution_count": 110,
   "id": "593d004b",
   "metadata": {},
   "outputs": [
    {
     "data": {
      "text/plain": [
       "8811"
      ]
     },
     "execution_count": 110,
     "metadata": {},
     "output_type": "execute_result"
    }
   ],
   "source": [
    "opt = [0, 2, 4, 1, 3]\n",
    "f(opt)"
   ]
  },
  {
   "cell_type": "code",
   "execution_count": 129,
   "id": "3f87c4b8",
   "metadata": {},
   "outputs": [
    {
     "data": {
      "text/plain": [
       "([1, 3, 0, 2, 4], 8811)"
      ]
     },
     "execution_count": 129,
     "metadata": {},
     "output_type": "execute_result"
    }
   ],
   "source": [
    "f = quality_TSP_Gen(T)\n",
    "per_temp = 100\n",
    "t0 = 100\n",
    "tol=1e-6\n",
    "verbose=True\n",
    "sol_0 = [0, 1, 2, 3, 4]\n",
    "alpha=0.98\n",
    "\n",
    "path, quality = SA(f=f, peturb=peturb_TSP, sol=sol_0, per_temp=per_temp, \n",
    "                   t0=t0, alpha=alpha, tol=tol, minimisation=True,\n",
    "                   verbose=False)\n",
    "path, quality"
   ]
  },
  {
   "cell_type": "markdown",
   "id": "c2626c0b",
   "metadata": {},
   "source": [
    "# GA"
   ]
  },
  {
   "cell_type": "code",
   "execution_count": 126,
   "id": "9fd72e27",
   "metadata": {},
   "outputs": [],
   "source": [
    "def mutation_permutation(sol):\n",
    "    idxs = range(len(sol))\n",
    "    new_sol = sol.copy()\n",
    "    first, second = np.random.choice(idxs, size=2, replace=False)\n",
    "    new_sol[first], new_sol[second] = new_sol[second], new_sol[first]\n",
    "    return new_sol\n",
    "\n",
    "\n",
    "def crossover_permutation(sol1, sol2):\n",
    "    idx = np.random.randint(len(sol1))\n",
    "    sol = []\n",
    "    for i in range(idx):\n",
    "        sol += [sol1[i]]\n",
    "    for i in range(len(sol2)):\n",
    "        if sol2[i] not in sol:\n",
    "            sol += [sol2[i]]\n",
    "    return sol\n",
    "\n",
    "def fittest_survive(num, cands, is_sorted=True, f=None):\n",
    "    if is_sorted:\n",
    "        return cands[:num]\n",
    "    else:\n",
    "        assert f!=None, \"If candidates are not sorted by quality, a quality function must be provided\"\n",
    "        qual = [f(cand) for cand in cands]\n",
    "        idxs = np.argsort(qual)\n",
    "        use = idxs[:num]\n",
    "        return cands[use]\n",
    "\n",
    "def TSP_sampler_gen(T):\n",
    "    def TSP_sampler():\n",
    "        return np.random.choice(range(len(T)), size=len(T), replace=False)\n",
    "    return TSP_sampler\n"
   ]
  },
  {
   "cell_type": "code",
   "execution_count": 127,
   "id": "56f6ad6a",
   "metadata": {},
   "outputs": [],
   "source": [
    "def GA(f, pop_size, gens, sampler,\n",
    "           crossover, crossover_p,\n",
    "           mutation, mutation_p,\n",
    "           num_survive, verbose=False):\n",
    "    population = np.array([sampler() for _ in range(pop_size)])\n",
    "    fitness = np.array([f(member) for member in population])    \n",
    "    sorted_idxs = np.argsort(fitness)[::-1]\n",
    "    fitness = fitness[sorted_idxs]\n",
    "    population = population[sorted_idxs]\n",
    "    probabilities = fitness/sum(fitness)\n",
    "\n",
    "    if verbose: print('Initially, the fittest member is {0}, with fitness: {1}'.format(population[0], f(population[0])))\n",
    "    for i in range(gens):\n",
    "        if verbose: print('After {0} generations, the fittest member is {1}, with fitness: {2}'.format(i, population[0], f(population[0])))\n",
    "        new_pop = np.array([[None]*len(population[0]) for _ in range(pop_size)])\n",
    "        new_pop[:num_survive] = fittest_survive(num=num_survive, cands=population, is_sorted=True, f=f)\n",
    "        for j in range(pop_size-num_survive):\n",
    "            cand_idx = np.random.choice(len(population), p=probabilities)\n",
    "            cand = population[cand_idx]\n",
    "            if np.random.random()<mutation_p:\n",
    "                cand = mutation(cand)\n",
    "            if np.random.random()<crossover_p:\n",
    "                cand2_idx = np.random.choice(len(population), p=probabilities)\n",
    "                cand2 = population[cand2_idx]\n",
    "                cand = crossover(cand, cand2)            \n",
    "            new_pop[num_survive+j] = cand\n",
    "\n",
    "        population = deepcopy(new_pop)\n",
    "        fitness = np.array([f(member) for member in population])    \n",
    "        sorted_idxs = np.argsort(fitness)[::-1]\n",
    "        fitness = fitness[sorted_idxs]\n",
    "        population = population[sorted_idxs]\n",
    "        probabilities = fitness/sum(fitness)\n",
    "    \n",
    "    if verbose: print('The fittest member is {0}, with fitness: {1}'.format(population[0], f(population[0])))\n",
    "        \n",
    "    return population[0], fitness[0]"
   ]
  },
  {
   "cell_type": "code",
   "execution_count": 128,
   "id": "c62755ce",
   "metadata": {},
   "outputs": [
    {
     "name": "stdout",
     "output_type": "stream",
     "text": [
      "Initially, the fittest member is [1 2 4 0 3], with fitness: -9182\n",
      "After 0 generations, the fittest member is [1 2 4 0 3], with fitness: -9182\n",
      "After 1 generations, the fittest member is [1 2 4 0 3], with fitness: -9182\n",
      "After 2 generations, the fittest member is [3 0 4 2 1], with fitness: -9182\n",
      "After 3 generations, the fittest member is [1 3 0 4 2], with fitness: -9182\n",
      "After 4 generations, the fittest member is [1 2 4 0 3], with fitness: -9182\n",
      "After 5 generations, the fittest member is [1 2 4 0 3], with fitness: -9182\n",
      "After 6 generations, the fittest member is [1 3 0 2 4], with fitness: -8811\n",
      "After 7 generations, the fittest member is [1 3 0 2 4], with fitness: -8811\n",
      "After 8 generations, the fittest member is [1 3 0 2 4], with fitness: -8811\n",
      "After 9 generations, the fittest member is [1 3 0 2 4], with fitness: -8811\n",
      "The fittest member is [1 3 0 2 4], with fitness: -8811\n"
     ]
    },
    {
     "data": {
      "text/plain": [
       "(array([1, 3, 0, 2, 4], dtype=object), 8811)"
      ]
     },
     "execution_count": 128,
     "metadata": {},
     "output_type": "execute_result"
    }
   ],
   "source": [
    "def quality_TSP_Gen_2(M):\n",
    "    def quality_TSP(sol):\n",
    "        cost = 0\n",
    "        for i in range(len(sol)):\n",
    "            cost += M[sol[i-1], sol[i]]\n",
    "        return -cost\n",
    "#         if cost == 0:\n",
    "#             return 1e-10\n",
    "#         else:\n",
    "#             return 1/cost\n",
    "    return quality_TSP\n",
    "\n",
    "T = np.array([\n",
    "    [0, 2053, 1155, 3017, 1385],\n",
    "    [2053, 0, 1080, 3415, 939],\n",
    "    [1155, 1080, 0, 3940, 285],\n",
    "    [3017, 3415, 3940, 0, 3975],\n",
    "    [1385, 939, 285, 3975, 0]\n",
    "    ])\n",
    "\n",
    "f = quality_TSP_Gen_2(T)\n",
    "sol_0 = [0, 1, 2, 3, 4]\n",
    "\n",
    "TSP_sampler = TSP_sampler_gen(T)\n",
    "\n",
    "sol, fitness = GA(f=f, pop_size=10, gens=10, sampler=TSP_sampler,\n",
    "   crossover=crossover_permutation, crossover_p=0.1,\n",
    "   mutation=mutation_permutation, mutation_p=0.1,\n",
    "   num_survive=1, verbose=True)\n",
    "\n",
    "sol, -fitness"
   ]
  },
  {
   "cell_type": "code",
   "execution_count": null,
   "id": "8757357e",
   "metadata": {},
   "outputs": [],
   "source": []
  }
 ],
 "metadata": {
  "kernelspec": {
   "display_name": "Python 3 (ipykernel)",
   "language": "python",
   "name": "python3"
  },
  "language_info": {
   "codemirror_mode": {
    "name": "ipython",
    "version": 3
   },
   "file_extension": ".py",
   "mimetype": "text/x-python",
   "name": "python",
   "nbconvert_exporter": "python",
   "pygments_lexer": "ipython3",
   "version": "3.8.10"
  }
 },
 "nbformat": 4,
 "nbformat_minor": 5
}
