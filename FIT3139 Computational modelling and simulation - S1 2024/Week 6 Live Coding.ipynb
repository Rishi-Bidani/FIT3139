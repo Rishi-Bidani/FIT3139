{
 "cells": [
  {
   "cell_type": "code",
   "execution_count": 266,
   "id": "15312bc9",
   "metadata": {},
   "outputs": [],
   "source": [
    "import numpy as np\n",
    "from matplotlib import pyplot as plt\n",
    "from scipy.integrate import solve_ivp"
   ]
  },
  {
   "cell_type": "markdown",
   "id": "b2c2537f",
   "metadata": {},
   "source": [
    "## Euler and Logistic"
   ]
  },
  {
   "cell_type": "code",
   "execution_count": 245,
   "id": "4ccd705e",
   "metadata": {},
   "outputs": [],
   "source": [
    "def euler(df, y0, h, t0=0, max_iter=100, tol=1e-5, verbose=False):\n",
    "    y, t = y0, t0 \n",
    "    Y = np.zeros(max_iter)\n",
    "    T = np.zeros(max_iter)\n",
    "    for i in range(len(Y)):\n",
    "        T[i] = t\n",
    "        Y[i] = y\n",
    "        y = y + h*df(t, y)\n",
    "        t = t + h\n",
    "    return T, Y"
   ]
  },
  {
   "cell_type": "code",
   "execution_count": 246,
   "id": "8ac8665e",
   "metadata": {},
   "outputs": [],
   "source": [
    "def logistic_generator(r, K):\n",
    "    def dfdx(t, P):\n",
    "        return r*P*(1-P/K)\n",
    "    return dfdx"
   ]
  },
  {
   "cell_type": "code",
   "execution_count": 286,
   "id": "bc9b113f",
   "metadata": {},
   "outputs": [],
   "source": [
    "r, K = 1.2, 1000\n",
    "logistic = logistic_generator(r, K)"
   ]
  },
  {
   "cell_type": "code",
   "execution_count": 287,
   "id": "1e97b100",
   "metadata": {},
   "outputs": [],
   "source": [
    "y0, h, max_iter = 1, 0.1, 200\n",
    "t, y = euler(df=logistic, y0=y0, h=h, max_iter=max_iter, verbose=True)"
   ]
  },
  {
   "cell_type": "code",
   "execution_count": 288,
   "id": "11127bad",
   "metadata": {},
   "outputs": [
    {
     "data": {
      "text/plain": [
       "[<matplotlib.lines.Line2D at 0x7fc0c1db3a30>]"
      ]
     },
     "execution_count": 288,
     "metadata": {},
     "output_type": "execute_result"
    },
    {
     "data": {
      "image/png": "[encoded data removed]",
      "text/plain": [
       "<Figure size 432x288 with 1 Axes>"
      ]
     },
     "metadata": {
      "needs_background": "light"
     },
     "output_type": "display_data"
    }
   ],
   "source": [
    "plt.plot(t, y)"
   ]
  },
  {
   "cell_type": "markdown",
   "id": "4cec6fd5",
   "metadata": {},
   "source": [
    "## Heun's"
   ]
  },
  {
   "cell_type": "code",
   "execution_count": 250,
   "id": "3b638e9e",
   "metadata": {},
   "outputs": [],
   "source": [
    "def Heun(df, y0, h, t0=0, max_iter=100, tol=1e-5, verbose=False):\n",
    "    y, t = y0, t0 \n",
    "    Y = np.zeros(max_iter)\n",
    "    T = np.zeros(max_iter)\n",
    "    for i in range(len(Y)):\n",
    "        T[i] = t\n",
    "        Y[i] = y\n",
    "        k1 = df(t, y)\n",
    "        k2 = df(t+h, y+h*df(t, y))\n",
    "        y = y + h*(k1+k2)/2        \n",
    "        t = t + h\n",
    "    return T, Y"
   ]
  },
  {
   "cell_type": "code",
   "execution_count": 251,
   "id": "4914d09a",
   "metadata": {},
   "outputs": [],
   "source": [
    "t, y = Heun(df=logistic, y0=y0, h=h, max_iter=max_iter)"
   ]
  },
  {
   "cell_type": "code",
   "execution_count": 252,
   "id": "2ea869a6",
   "metadata": {},
   "outputs": [
    {
     "data": {
      "text/plain": [
       "[<matplotlib.lines.Line2D at 0x7fc0c0bed4f0>]"
      ]
     },
     "execution_count": 252,
     "metadata": {},
     "output_type": "execute_result"
    },
    {
     "data": {
      "image/png": "[encoded data removed]",
      "text/plain": [
       "<Figure size 432x288 with 1 Axes>"
      ]
     },
     "metadata": {
      "needs_background": "light"
     },
     "output_type": "display_data"
    }
   ],
   "source": [
    "plt.plot(t, y)"
   ]
  },
  {
   "cell_type": "markdown",
   "id": "63982cde",
   "metadata": {},
   "source": [
    "## SIR Heun"
   ]
  },
  {
   "cell_type": "code",
   "execution_count": 253,
   "id": "a340f79e",
   "metadata": {},
   "outputs": [],
   "source": [
    "def SIR_gen(f, B, r):\n",
    "    dSdt = lambda t, y: -f*y[0]*y[1] + B\n",
    "    dIdt = lambda t, y: f*y[0]*y[1] - r*y[1]\n",
    "    dRdt = lambda t, y: r*y[1]\n",
    "    \n",
    "    dSIRdt = lambda t, y: np.array([dSdt(t, y), dIdt(t, y), dRdt(t, y)])\n",
    "    \n",
    "    return dSIRdt"
   ]
  },
  {
   "cell_type": "code",
   "execution_count": 254,
   "id": "b7be54e4",
   "metadata": {},
   "outputs": [],
   "source": [
    "def Heun_many(df, y0, h, t0=0, t_max = 100, tol=1e-5, verbose=False):\n",
    "    y, t = y0, t0 \n",
    "    Y = np.array([y])\n",
    "    T = [t]\n",
    "    while t < t_max:\n",
    "        if verbose: print('t={0}, y={1}'.format(t, y))\n",
    "        k1 = df(t, y)\n",
    "        k2 = df(t+h, y+h*df(t, y))\n",
    "        y = y + h*(k1+k2)/2        \n",
    "        t = t + h\n",
    "        T.append(t)\n",
    "        Y = np.vstack([Y, y])\n",
    "    return T, Y"
   ]
  },
  {
   "cell_type": "code",
   "execution_count": 255,
   "id": "b57746bb",
   "metadata": {},
   "outputs": [
    {
     "data": {
      "text/plain": [
       "<matplotlib.legend.Legend at 0x7fc0c0af8c10>"
      ]
     },
     "execution_count": 255,
     "metadata": {},
     "output_type": "execute_result"
    },
    {
     "data": {
      "image/png": "[encoded data removed]",
      "text/plain": [
       "<Figure size 432x288 with 1 Axes>"
      ]
     },
     "metadata": {
      "needs_background": "light"
     },
     "output_type": "display_data"
    }
   ],
   "source": [
    "h = 0.01\n",
    "f, B, r = 0.0003, 120, 0.5\n",
    "SIR = SIR_gen(f, B, r)\n",
    "SIR_0 = np.array([3000, 5, 0])\n",
    "t, sir = Heun_many(df=SIR, y0=SIR_0, h=h, t0=0, t_max=200, tol=1e-5, verbose=False)\n",
    "plt.plot(t, sir[:, 0], c='b', label='S')\n",
    "plt.plot(t, sir[:, 1], c='r', label='I')\n",
    "plt.legend()\n",
    "# plt.plot(t, sir[:, 2], c='g', label='R')"
   ]
  },
  {
   "cell_type": "code",
   "execution_count": 256,
   "id": "923a2527",
   "metadata": {},
   "outputs": [
    {
     "data": {
      "text/plain": [
       "<matplotlib.legend.Legend at 0x7fc0c09f9f40>"
      ]
     },
     "execution_count": 256,
     "metadata": {},
     "output_type": "execute_result"
    },
    {
     "data": {
      "image/png": "[encoded data removed]",
      "text/plain": [
       "<Figure size 432x288 with 1 Axes>"
      ]
     },
     "metadata": {
      "needs_background": "light"
     },
     "output_type": "display_data"
    }
   ],
   "source": [
    "h = 0.01\n",
    "f, B, r = 0.0003, 0, 0.5\n",
    "SIR = SIR_gen(f, B, r)\n",
    "SIR_0 = np.array([3000, 5, 0])\n",
    "t, sir = Heun_many(df=SIR, y0=SIR_0, h=h, t0=0, t_max=200, tol=1e-5, verbose=False)\n",
    "plt.plot(t, sir[:, 0], c='b', label='S')\n",
    "plt.plot(t, sir[:, 1], c='r', label='I')\n",
    "plt.plot(t, sir[:, 2], c='g', label='R')\n",
    "plt.legend()"
   ]
  },
  {
   "cell_type": "markdown",
   "id": "aa409005",
   "metadata": {},
   "source": [
    "## RK2"
   ]
  },
  {
   "cell_type": "code",
   "execution_count": 257,
   "id": "5624a446",
   "metadata": {},
   "outputs": [],
   "source": [
    "def RK2(df, y0, h, t0=0, a=1/2, t_max = 100, tol=1e-5, verbose=False):\n",
    "    b = 1-a\n",
    "    alpha = 1/(2*b)\n",
    "    beta = alpha\n",
    "    y, t = y0, t0 \n",
    "    Y = np.array([y])\n",
    "    T = [t]\n",
    "    while t < t_max:\n",
    "        if verbose: print('t={0}, y={1}'.format(t, y))\n",
    "        k1 = df(t, y)\n",
    "        k2 = df(t+alpha*h, y+beta*h*k1)\n",
    "        y = y + h*(a*k1+b*k2)        \n",
    "        t = t + h\n",
    "        T.append(t)\n",
    "        Y = np.vstack([Y, y])\n",
    "    return T, Y"
   ]
  },
  {
   "cell_type": "code",
   "execution_count": 258,
   "id": "bed114ea",
   "metadata": {},
   "outputs": [
    {
     "data": {
      "text/plain": [
       "<matplotlib.legend.Legend at 0x7fc0c0b83ac0>"
      ]
     },
     "execution_count": 258,
     "metadata": {},
     "output_type": "execute_result"
    },
    {
     "data": {
      "image/png": "[encoded data removed]",
      "text/plain": [
       "<Figure size 432x288 with 1 Axes>"
      ]
     },
     "metadata": {
      "needs_background": "light"
     },
     "output_type": "display_data"
    }
   ],
   "source": [
    "h = 0.01\n",
    "f, B, r = 0.0003, 0, 0.5\n",
    "SIR = SIR_gen(f, B, r)\n",
    "SIR_0 = np.array([3000, 5, 0])\n",
    "a = 0.5\n",
    "t, sir = RK2(df=SIR, y0=SIR_0, h=h, t0=0, a=a, t_max=200, tol=1e-5, verbose=False)\n",
    "plt.plot(t, sir[:, 0], c='b', label='S')\n",
    "plt.plot(t, sir[:, 1], c='r', label='I')\n",
    "plt.plot(t, sir[:, 2], c='g', label='R')\n",
    "plt.legend()"
   ]
  },
  {
   "cell_type": "markdown",
   "id": "d3627fb5",
   "metadata": {},
   "source": [
    "## Euler Heun Compare"
   ]
  },
  {
   "cell_type": "code",
   "execution_count": 259,
   "id": "b1663fd5",
   "metadata": {},
   "outputs": [],
   "source": [
    "def exp_gen(r):\n",
    "    dydx = lambda x, y: r*y\n",
    "    return dydx"
   ]
  },
  {
   "cell_type": "code",
   "execution_count": 275,
   "id": "b3f50105",
   "metadata": {},
   "outputs": [],
   "source": [
    "r=2\n",
    "y0=1\n",
    "h=0.1\n",
    "x0=0\n",
    "dydx = exp_gen(r)\n",
    "x_e, y_e = euler(dydx, y0, h, x0)\n",
    "x_h, y_h = Heun(dydx, y0, h, x0)\n",
    "bunch = solve_ivp(fun=dydx, t_span=(0, 10), y0=np.array([y0]))\n",
    "x = bunch['t']\n",
    "y = bunch['y'].ravel()"
   ]
  },
  {
   "cell_type": "code",
   "execution_count": 276,
   "id": "e79e8772",
   "metadata": {},
   "outputs": [
    {
     "data": {
      "text/plain": [
       "<matplotlib.legend.Legend at 0x7fc0c1d671f0>"
      ]
     },
     "execution_count": 276,
     "metadata": {},
     "output_type": "execute_result"
    },
    {
     "data": {
      "image/png": "[encoded data removed]",
      "text/plain": [
       "<Figure size 432x288 with 1 Axes>"
      ]
     },
     "metadata": {
      "needs_background": "light"
     },
     "output_type": "display_data"
    }
   ],
   "source": [
    "plt.plot(x_e, y_e, label='euler')\n",
    "plt.plot(x_h, y_h, label='heun')\n",
    "plt.plot(x, y, label='solve_ivp')\n",
    "plt.legend()"
   ]
  },
  {
   "cell_type": "code",
   "execution_count": null,
   "id": "ecb1d4f6",
   "metadata": {},
   "outputs": [],
   "source": []
  }
 ],
 "metadata": {
  "kernelspec": {
   "display_name": "Python 3 (ipykernel)",
   "language": "python",
   "name": "python3"
  },
  "language_info": {
   "codemirror_mode": {
    "name": "ipython",
    "version": 3
   },
   "file_extension": ".py",
   "mimetype": "text/x-python",
   "name": "python",
   "nbconvert_exporter": "python",
   "pygments_lexer": "ipython3",
   "version": "3.8.10"
  }
 },
 "nbformat": 4,
 "nbformat_minor": 5
}
