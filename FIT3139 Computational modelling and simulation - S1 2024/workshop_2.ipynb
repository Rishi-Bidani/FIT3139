{
 "cells": [
  {
   "cell_type": "code",
   "execution_count": 1,
   "id": "198c6cd8",
   "metadata": {},
   "outputs": [],
   "source": [
    "def int_to_binary(number):\n",
    "    if number == 0:\n",
    "        return [0]\n",
    "    bitstring = []\n",
    "    while number > 0:\n",
    "        remainder = number % 2\n",
    "        bitstring.insert(0, remainder)\n",
    "        number = number // 2\n",
    "    return bitstring"
   ]
  },
  {
   "cell_type": "code",
   "execution_count": 2,
   "id": "4f4de3eb",
   "metadata": {},
   "outputs": [
    {
     "data": {
      "text/plain": [
       "[1, 0, 1, 1, 0, 0, 1]"
      ]
     },
     "execution_count": 2,
     "metadata": {},
     "output_type": "execute_result"
    }
   ],
   "source": [
    "int_to_binary(89)"
   ]
  },
  {
   "cell_type": "code",
   "execution_count": 3,
   "id": "19d87fab",
   "metadata": {},
   "outputs": [
    {
     "data": {
      "text/plain": [
       "89"
      ]
     },
     "execution_count": 3,
     "metadata": {},
     "output_type": "execute_result"
    }
   ],
   "source": [
    "int(89.158)"
   ]
  },
  {
   "cell_type": "code",
   "execution_count": 6,
   "id": "38149e12",
   "metadata": {},
   "outputs": [],
   "source": [
    "def separate(number):\n",
    "    integer_part = int(number)\n",
    "    fractional_part = number - integer_part\n",
    "    return (integer_part, fractional_part)"
   ]
  },
  {
   "cell_type": "code",
   "execution_count": 7,
   "id": "64953ab5",
   "metadata": {},
   "outputs": [
    {
     "data": {
      "text/plain": [
       "(89, 0.15800000000000125)"
      ]
     },
     "execution_count": 7,
     "metadata": {},
     "output_type": "execute_result"
    }
   ],
   "source": [
    "separate(89.158)"
   ]
  },
  {
   "cell_type": "code",
   "execution_count": 9,
   "id": "e0ee13ac",
   "metadata": {},
   "outputs": [],
   "source": [
    "def fractional_part_to_binary(number):\n",
    "    bitstring = []\n",
    "    while number >0:\n",
    "        number = number*2\n",
    "        integer_part, fractional_part = separate(number)\n",
    "        bitstring.append(integer_part)\n",
    "        number = fractional_part\n",
    "    return bitstring"
   ]
  },
  {
   "cell_type": "code",
   "execution_count": 10,
   "id": "827f2214",
   "metadata": {},
   "outputs": [
    {
     "data": {
      "text/plain": [
       "[0, 1, 1, 0, 1]"
      ]
     },
     "execution_count": 10,
     "metadata": {},
     "output_type": "execute_result"
    }
   ],
   "source": [
    "fractional_part_to_binary(0.40625)"
   ]
  },
  {
   "cell_type": "code",
   "execution_count": 12,
   "id": "3a0216e3",
   "metadata": {},
   "outputs": [
    {
     "data": {
      "text/plain": [
       "55"
      ]
     },
     "execution_count": 12,
     "metadata": {},
     "output_type": "execute_result"
    }
   ],
   "source": [
    "len(fractional_part_to_binary(0.158))"
   ]
  },
  {
   "cell_type": "code",
   "execution_count": 13,
   "id": "812212e8",
   "metadata": {},
   "outputs": [
    {
     "name": "stdout",
     "output_type": "stream",
     "text": [
      "[1, 0, 1, 0, 0, 0, 0, 0, 1]\n",
      "[0, 1, 1, 0, 1]\n"
     ]
    }
   ],
   "source": [
    "my_number = 321.40625\n",
    "print(int_to_binary(separate(my_number)[0]))\n",
    "print(fractional_part_to_binary(separate(my_number)[1]))"
   ]
  },
  {
   "cell_type": "code",
   "execution_count": null,
   "id": "4bff6770",
   "metadata": {},
   "outputs": [],
   "source": [
    "my_number = 321.40625\n",
    "print(int_to_binary(separate(my_number)[0]))\n",
    "print(fractional_part_to_binary(separate(my_number)[1]))"
   ]
  },
  {
   "cell_type": "code",
   "execution_count": 31,
   "id": "cc88e000",
   "metadata": {},
   "outputs": [
    {
     "name": "stdout",
     "output_type": "stream",
     "text": [
      "[1, 0, 1, 0, 1, 1, 0, 0]\n",
      "[0, 1, 1, 0, 1]\n"
     ]
    }
   ],
   "source": [
    "my_number = 172.40625\n",
    "print(int_to_binary(separate(my_number)[0]))\n",
    "print(fractional_part_to_binary(separate(my_number)[1]))"
   ]
  },
  {
   "cell_type": "code",
   "execution_count": null,
   "id": "f98b1d8c",
   "metadata": {},
   "outputs": [],
   "source": []
  }
 ],
 "metadata": {
  "kernelspec": {
   "display_name": "Python 3 (ipykernel)",
   "language": "python",
   "name": "python3"
  },
  "language_info": {
   "codemirror_mode": {
    "name": "ipython",
    "version": 3
   },
   "file_extension": ".py",
   "mimetype": "text/x-python",
   "name": "python",
   "nbconvert_exporter": "python",
   "pygments_lexer": "ipython3",
   "version": "3.9.13"
  }
 },
 "nbformat": 4,
 "nbformat_minor": 5
}
