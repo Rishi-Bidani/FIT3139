{
 "cells": [
  {
   "cell_type": "code",
   "execution_count": 1,
   "id": "0b2eee50",
   "metadata": {},
   "outputs": [],
   "source": [
    "import numpy as np\n",
    "from matplotlib import pyplot as plt"
   ]
  },
  {
   "cell_type": "code",
   "execution_count": 2,
   "id": "f492ec63",
   "metadata": {},
   "outputs": [
    {
     "data": {
      "text/plain": [
       "0.5167529313867513"
      ]
     },
     "execution_count": 2,
     "metadata": {},
     "output_type": "execute_result"
    }
   ],
   "source": [
    "np.random.random()"
   ]
  },
  {
   "cell_type": "code",
   "execution_count": 3,
   "id": "954100e1",
   "metadata": {},
   "outputs": [],
   "source": [
    "def random_ab(a, b):\n",
    "    return (b-a)*np.random.random() + a"
   ]
  },
  {
   "cell_type": "code",
   "execution_count": null,
   "id": "7c2c1e92",
   "metadata": {},
   "outputs": [],
   "source": []
  },
  {
   "cell_type": "code",
   "execution_count": null,
   "id": "7926b888",
   "metadata": {},
   "outputs": [],
   "source": []
  },
  {
   "cell_type": "markdown",
   "id": "5b3ab481",
   "metadata": {},
   "source": [
    "# Pi"
   ]
  },
  {
   "cell_type": "code",
   "execution_count": 4,
   "id": "fe62b201",
   "metadata": {},
   "outputs": [],
   "source": [
    "def inside_circle(x, y, r):\n",
    "    return x**2 + y**2 <= r**2"
   ]
  },
  {
   "cell_type": "code",
   "execution_count": 18,
   "id": "715a8f25",
   "metadata": {},
   "outputs": [],
   "source": [
    "def monte_carlo_pi(max_iter=200000):\n",
    "    hits = 0\n",
    "    for i in range(max_iter):\n",
    "        x, y = np.random.random(2)\n",
    "        hits += inside_circle(x, y, r=1)\n",
    "    return 4*hits/max_iter"
   ]
  },
  {
   "cell_type": "code",
   "execution_count": 19,
   "id": "40e7a689",
   "metadata": {},
   "outputs": [
    {
     "data": {
      "text/plain": [
       "3.14274"
      ]
     },
     "execution_count": 19,
     "metadata": {},
     "output_type": "execute_result"
    }
   ],
   "source": [
    "monte_carlo_pi()"
   ]
  },
  {
   "cell_type": "markdown",
   "id": "c06a0e9a",
   "metadata": {},
   "source": [
    "# Buffon"
   ]
  },
  {
   "cell_type": "code",
   "execution_count": 21,
   "id": "fa5b9af2",
   "metadata": {},
   "outputs": [],
   "source": [
    "def buffon(r, max_iter=1000):\n",
    "    hits = 0\n",
    "    for i in range(max_iter):\n",
    "        theta, u = random_ab(-np.pi/2, np.pi/2), np.random.random()\n",
    "        hit = u > 1 - r*np.cos(theta)\n",
    "        hits += hit\n",
    "    return hits/max_iter"
   ]
  },
  {
   "cell_type": "code",
   "execution_count": 27,
   "id": "63d73188",
   "metadata": {},
   "outputs": [
    {
     "data": {
      "text/plain": [
       "1.0"
      ]
     },
     "execution_count": 27,
     "metadata": {},
     "output_type": "execute_result"
    }
   ],
   "source": [
    "buffon(100000)"
   ]
  },
  {
   "cell_type": "markdown",
   "id": "71457976",
   "metadata": {},
   "source": [
    "# Inverse Sampling"
   ]
  },
  {
   "cell_type": "code",
   "execution_count": 29,
   "id": "0c2426fa",
   "metadata": {},
   "outputs": [],
   "source": [
    "def f(x, L):\n",
    "    return L*np.exp(-L*x)\n",
    "\n",
    "def F(x, L):\n",
    "    return 1 - np.exp(-L*x)"
   ]
  },
  {
   "cell_type": "code",
   "execution_count": 34,
   "id": "e58d7433",
   "metadata": {},
   "outputs": [
    {
     "data": {
      "text/plain": [
       "[<matplotlib.lines.Line2D at 0x7f6d306b04f0>]"
      ]
     },
     "execution_count": 34,
     "metadata": {},
     "output_type": "execute_result"
    },
    {
     "data": {
      "image/png": "[encoded data removed]",
      "text/plain": [
       "<Figure size 432x288 with 1 Axes>"
      ]
     },
     "metadata": {
      "needs_background": "light"
     },
     "output_type": "display_data"
    }
   ],
   "source": [
    "x = np.arange(0, 5, 0.01)\n",
    "L = 2\n",
    "plt.plot(x, f(x, L))"
   ]
  },
  {
   "cell_type": "code",
   "execution_count": 35,
   "id": "59eed5b5",
   "metadata": {},
   "outputs": [
    {
     "data": {
      "text/plain": [
       "[<matplotlib.lines.Line2D at 0x7f6d30618d60>]"
      ]
     },
     "execution_count": 35,
     "metadata": {},
     "output_type": "execute_result"
    },
    {
     "data": {
      "image/png": "[encoded data removed]",
      "text/plain": [
       "<Figure size 432x288 with 1 Axes>"
      ]
     },
     "metadata": {
      "needs_background": "light"
     },
     "output_type": "display_data"
    }
   ],
   "source": [
    "x = np.arange(0, 5, 0.01)\n",
    "L = 2\n",
    "plt.plot(x, F(x, L))"
   ]
  },
  {
   "cell_type": "code",
   "execution_count": 43,
   "id": "98933968",
   "metadata": {},
   "outputs": [],
   "source": [
    "def f_inv(u, L):\n",
    "    return -np.log(1-u)/L"
   ]
  },
  {
   "cell_type": "code",
   "execution_count": 44,
   "id": "b02dc87a",
   "metadata": {},
   "outputs": [],
   "source": [
    "def sample_arrival(n, L):\n",
    "    u = np.random.random(n)\n",
    "    return f_inv(u, L)"
   ]
  },
  {
   "cell_type": "code",
   "execution_count": 48,
   "id": "5fcd9276",
   "metadata": {},
   "outputs": [
    {
     "data": {
      "text/plain": [
       "[<matplotlib.lines.Line2D at 0x7f6d304fdee0>]"
      ]
     },
     "execution_count": 48,
     "metadata": {},
     "output_type": "execute_result"
    },
    {
     "data": {
      "image/png": "[encoded data removed]",
      "text/plain": [
       "<Figure size 432x288 with 1 Axes>"
      ]
     },
     "metadata": {
      "needs_background": "light"
     },
     "output_type": "display_data"
    }
   ],
   "source": [
    "L=2\n",
    "samples = sample_arrival(1000, L)\n",
    "plt.hist(samples, density=True)\n",
    "plt.plot(x, f(x, L))"
   ]
  },
  {
   "cell_type": "markdown",
   "id": "8f125faa",
   "metadata": {},
   "source": [
    "# Rejection Sampling"
   ]
  },
  {
   "cell_type": "code",
   "execution_count": 51,
   "id": "6ae76b92",
   "metadata": {},
   "outputs": [],
   "source": [
    "def f(x):\n",
    "    return 20*x*(1-x)**3\n",
    "\n",
    "def g(x):\n",
    "    return 1\n",
    "\n",
    "c = 135/64\n",
    "\n",
    "def rejection():\n",
    "    u1, u2 = np.random.random(2)\n",
    "    hit = u2 < f(u1)/(c*g(u1))\n",
    "    if hit:\n",
    "        return u1\n",
    "    else:\n",
    "        return rejection()"
   ]
  },
  {
   "cell_type": "code",
   "execution_count": 58,
   "id": "ce6df950",
   "metadata": {},
   "outputs": [],
   "source": [
    "samples = [rejection() for i in range(10000)]"
   ]
  },
  {
   "cell_type": "code",
   "execution_count": 59,
   "id": "4dde24c3",
   "metadata": {},
   "outputs": [
    {
     "data": {
      "text/plain": [
       "[<matplotlib.lines.Line2D at 0x7f6d3035bf70>]"
      ]
     },
     "execution_count": 59,
     "metadata": {},
     "output_type": "execute_result"
    },
    {
     "data": {
      "image/png": "[encoded data removed]",
      "text/plain": [
       "<Figure size 432x288 with 1 Axes>"
      ]
     },
     "metadata": {
      "needs_background": "light"
     },
     "output_type": "display_data"
    }
   ],
   "source": [
    "x = np.arange(0, 1, 0.01)\n",
    "plt.hist(samples, density=True)\n",
    "plt.plot(x, f(x))"
   ]
  },
  {
   "cell_type": "code",
   "execution_count": null,
   "id": "de0fcd30",
   "metadata": {},
   "outputs": [],
   "source": []
  }
 ],
 "metadata": {
  "kernelspec": {
   "display_name": "Python 3 (ipykernel)",
   "language": "python",
   "name": "python3"
  },
  "language_info": {
   "codemirror_mode": {
    "name": "ipython",
    "version": 3
   },
   "file_extension": ".py",
   "mimetype": "text/x-python",
   "name": "python",
   "nbconvert_exporter": "python",
   "pygments_lexer": "ipython3",
   "version": "3.8.10"
  }
 },
 "nbformat": 4,
 "nbformat_minor": 5
}
