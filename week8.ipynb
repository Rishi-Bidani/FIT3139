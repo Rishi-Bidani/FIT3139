{
 "cells": [
  {
   "cell_type": "code",
   "execution_count": 32,
   "metadata": {},
   "outputs": [],
   "source": [
    "import numpy as np"
   ]
  },
  {
   "cell_type": "code",
   "execution_count": 33,
   "metadata": {},
   "outputs": [],
   "source": [
    "def monte_carlo_integration(f, a, b, N):\n",
    "    c = np.random.uniform(a, b, N)\n",
    "    \n",
    "    integral = 0\n",
    "\n",
    "    for i in c:\n",
    "        integral += f(i)\n",
    "    \n",
    "    ans = ((b-a)/N) * integral\n",
    "    return ans"
   ]
  },
  {
   "cell_type": "code",
   "execution_count": 34,
   "metadata": {},
   "outputs": [],
   "source": [
    "f = lambda x: x"
   ]
  },
  {
   "cell_type": "code",
   "execution_count": 39,
   "metadata": {},
   "outputs": [],
   "source": [
    "def monte_carlo_integration2(f, f_max, a, b, N):\n",
    "    c = np.random.uniform(a, b, N)\n",
    "\n",
    "    B = (b-a) * f_max\n",
    "\n",
    "    A = [f(i) for i in c]\n",
    "\n",
    "    return A/B"
   ]
  },
  {
   "cell_type": "code",
   "execution_count": 42,
   "metadata": {},
   "outputs": [
    {
     "name": "stdout",
     "output_type": "stream",
     "text": [
      "12.342696838435764\n",
      "98.06466398902712\n"
     ]
    }
   ],
   "source": [
    "print(monte_carlo_integration(f, 0, 5, 1000))\n",
    "print(monte_carlo_integration2(f, 5, 0, 5, 1000))"
   ]
  },
  {
   "cell_type": "code",
   "execution_count": 44,
   "metadata": {},
   "outputs": [],
   "source": [
    "def solve_buffons_needle(f, r, max_iter=1000):\n",
    "    theta = (np.pi) * np.random.random(max_iter) - np.pi/2\n",
    "    u = np.random.random(max_iter)\n",
    "\n",
    "    over = u > 1 - r *np.cos(theta)\n",
    "    prob = sum(over) / max_iter\n",
    "\n",
    "    return prob"
   ]
  },
  {
   "cell_type": "code",
   "execution_count": 53,
   "metadata": {},
   "outputs": [
    {
     "data": {
      "text/plain": [
       "0.072"
      ]
     },
     "execution_count": 53,
     "metadata": {},
     "output_type": "execute_result"
    }
   ],
   "source": [
    "f = lambda r, theta: 1 - r * np.cos(theta)\n",
    "r = 0.1\n",
    "\n",
    "solve_buffons_needle(f, r)"
   ]
  }
 ],
 "metadata": {
  "kernelspec": {
   "display_name": "Python 3",
   "language": "python",
   "name": "python3"
  },
  "language_info": {
   "codemirror_mode": {
    "name": "ipython",
    "version": 3
   },
   "file_extension": ".py",
   "mimetype": "text/x-python",
   "name": "python",
   "nbconvert_exporter": "python",
   "pygments_lexer": "ipython3",
   "version": "3.10.0"
  }
 },
 "nbformat": 4,
 "nbformat_minor": 2
}
