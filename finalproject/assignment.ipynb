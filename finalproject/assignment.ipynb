{
 "cells": [
  {
   "cell_type": "markdown",
   "metadata": {},
   "source": [
    "# FIT3139 Final Project"
   ]
  },
  {
   "cell_type": "markdown",
   "metadata": {},
   "source": [
    "## Section 1"
   ]
  },
  {
   "cell_type": "markdown",
   "metadata": {},
   "source": [
    "### DELETE THIS\n",
    "### Learning outcomes\n",
    "\n",
    "1.  Explain and apply the process of computational scientific model building, verification and interpretation\n",
    "2.  Analyse the differences between core classes of modelling approaches (Numerical versus Analytical; Linear versus Non-linear; Continuous versus Discrete; Deterministic versus Stochastic)\n",
    "3.   Evaluate the implications of choosing different modelling approaches;\n",
    "4.   Rationalise the role of simulation and data visualisation in science;\n",
    "5.   Apply all of the above to solving idealisations of real-world problems across various scientific disciplines."
   ]
  },
  {
   "cell_type": "markdown",
   "metadata": {},
   "source": [
    "### Specification table\n",
    "|||\n",
    "|------------|---|\n",
    "| Base Model | Tennis simulation |\n",
    "| Extension assumpion | Simulate a complete season based on skill distribution |\n",
    "| Techniques showcaed | Markov chains, Montecarlo Simulations, Heuristics |\n",
    "| Modelling question 1 |  |\n",
    "| Modelling question 2 | |"
   ]
  },
  {
   "cell_type": "markdown",
   "metadata": {},
   "source": [
    "## Section 2: Introduction\n",
    "\n",
    "### The problem and the motivation\n",
    "\n",
    "The primary problem addressed in this project is to understand the impact of skill distribution on player rankings in a tennis season. Additionally, the project aims to determine whether longer matches or longer seasons are more effective in revealing the true quality of players. This problem is motivated by the need to ensure fairness and accuracy in competitive sports, where ranking systems often determine players' career.\n",
    "\n",
    "### Describe the extension and the questions my model will answer\n",
    "\n",
    "I'm simulating a tennis match using markov chains. The extension is to simulate a complete season based on skill distribution. The base model discussed earlier used markov chain with \"some\" probability to move to a next point, which didn't take into account the skill level of a player. This extension will simplify the states in the transition matrix but will add complexity to take into account the player's serving and returning skills. The model will answer the following questions:\n",
    "\n",
    "1. How does the skill distribution of players affect the outcome of a tennis tournament?\n",
    "2. Comparing initial skill distribution vs point distribution at the end of the tournament.\n",
    "3. What is more effective in revealing the true quality of players: longer matches or longer tournaments?\n",
    "\n",
    "This question can be answered using other techniques such as game theory, however I have chosen markov chains as I believe it more accurately models a tennis players' skill level and allows me to examine how players of different skill levels perform in a match and whether they have any liklihood of winning. \n",
    "Sports do have a certain level of strategy involved, however given that I am using markov chains I am not considering that in this model and instead assuming that a player will always play the best shot possible, allowing me to focus on the skill level of a player.\n"
   ]
  },
  {
   "cell_type": "markdown",
   "metadata": {},
   "source": [
    "## Section 3: Model description"
   ]
  },
  {
   "cell_type": "markdown",
   "metadata": {},
   "source": [
    "### Model extension details\n",
    "\n",
    "The base model used a markov chain to simulate a tennis match with equal probability for moving on to the next possible score. The extension will use a markov chain but will take into account the skill level of the players. Each player contains 2 skills - a serve and return skill. These skills will be represented by a number between 0 and 1, where 0 is the lowest skill level and 1 is the highest skill level.\n",
    "\n",
    "The skill level of a players will be used to create a transition matrix. The creation of the transition matrix is based on the skill level of the 2 provided players.\n",
    "\n",
    "The skill level will be used to determine the probability of a player winning a point when serving or returning. The skill level will be used to adjust the transition matrix probabilities to reflect the player's skill level. The model aims to simulate a tournament based on the skill distribution of the players but more importantly, to determine how the skill level of a player affects the outcome of a match and to test whether longer matches or longer tournaments are more effective in revealing the true quality of players."
   ]
  },
  {
   "cell_type": "markdown",
   "metadata": {},
   "source": [
    "### Model assumptions\n",
    "\n",
    "#### Base assumptions\n",
    "1. A tennis match is played between 2 players.\n",
    "2. Each player has a certain probability of winning a point\n",
    "\n",
    "#### Extension assumptions\n",
    "1. The skill level of a player is represented by a number between 0 and 1, where 0 is the lowest skill level and 1 is the highest skill level. This is important for the creation of the transition matrix and to make sure that the probability is always between 0 and 1.\n",
    "2. The transition matrix used for the model has to be absorbing to ensure that the game ends"
   ]
  },
  {
   "cell_type": "markdown",
   "metadata": {},
   "source": [
    "### Class of the model"
   ]
  },
  {
   "cell_type": "markdown",
   "metadata": {},
   "source": [
    "#### Linear vs Non-linear\n",
    "\n",
    "In a linear model, outcomes are directly proportional to the inputs, and changes in input variables lead to predictable and proportional changes in output. \n",
    "However, in this tennis simulation, the outcome of each match and the progression of the tournament are highly dependent on the interaction between players' skills, which introduces complexity and non-linearity. \n",
    "For example, a lower-skilled player can occasionally defeat a higher-skilled player, and this unexpected result can significantly impact subsequent match outcomes and overall rankings.\n",
    "\n",
    "The use of probabilistic elements introduces non-linearity. The inherent randomness means that small changes in initial conditions (eg: even slight differences in skill levels) can lead to  different outcomes, which are characteristic of non-linear systems.\n",
    "\n",
    "#### Continuous vs Discrete\n",
    "##### Why discrete?\n",
    "The model is discrete as the state space is finite and the transitions between states are discrete. The model is based on the outcome of each point in a tennis match. The model transitions between these states [serve, return, rally] based on the probability of transitioning to one of these states before stopping at one of the absorbing states where either the server wins or the returner wins. The model is discrete as the outcome of each point is an absolute value decided based on the transition matrices.\n",
    "\n",
    "##### Why not continuous? \n",
    "Simulating a tennis match using a continuous model is not appropriate for answering my questions because I am only interested in the outcome of each point at the lowest level which is either a win or a loss (tennis does not have ties/draws). A continuous model could have been helpful if I was interested in the score of the match at any given point in time.\n",
    "\n",
    "#### Deterministic vs Stochastic\n",
    "The model is stochastic as the outcome of each point is determined by a probability distribution. \n",
    "Each player has a skill level in terms of serving and returning, which affects the probability of winning a point. \n",
    "A higher serving level increases the likelihood of winning a point directly (ace) however, if the opponent has a high returning skill this probability is reduced/normalised to account for the opponent's skill level. \n",
    "Each point starts with one of the players serving; from this serving state the model transitions to one of the other possible transient states and the point end when either the server or returner wins a point. Given that each step is probabilistic, the model is stochastic.\n"
   ]
  },
  {
   "cell_type": "markdown",
   "metadata": {},
   "source": [
    "### Algorithms being used"
   ]
  },
  {
   "cell_type": "markdown",
   "metadata": {},
   "source": [
    "- Markov chains is used as the basis for the model\n",
    "- Montecarlo simulations will be used to understand the general trends created by skill distribution in the model\n",
    "- Heuristics with the simulated annealing algorithm is used to understand the various "
   ]
  },
  {
   "cell_type": "markdown",
   "metadata": {},
   "source": [
    "### The rules of tennis"
   ]
  },
  {
   "cell_type": "markdown",
   "metadata": {},
   "source": [
    "#### Points:\n",
    "Each game starts with a serve and players alternate serving every game. Points are scored as follows: 0 (Love), 15, 30, 40, and game point.\n",
    "\n",
    "#### Games:\n",
    "A player wins a game by scoring four points and leading by at least two points. If the score reaches 40-40, the game is in deuce, and a player must win two consecutive points to win the game.\n",
    "\n",
    "#### Sets:\n",
    "A player wins a set by winning six games and leading by at least two games. If the score reaches 6-6, a tiebreaker is played to determine the winner of the set.\n",
    "\n",
    "#### Match:\n",
    "A player wins a match by winning the best of three or five sets.\n",
    "\n",
    "\n",
    "#### Reference to learn more\n",
    "To learn more about the rules of tennis, visit the [International Tennis Federation Rules and Regulations](https://www.itftennis.com/en/about-us/governance/rules-and-regulations/) or view [2024 Rules of Tennis (English)](https://www.itftennis.com/media/7221/2024-rules-of-tennis-english.pdf)."
   ]
  },
  {
   "cell_type": "markdown",
   "metadata": {},
   "source": [
    "### Imports"
   ]
  },
  {
   "cell_type": "code",
   "execution_count": 1,
   "metadata": {},
   "outputs": [],
   "source": [
    "import numpy as np\n",
    "import matplotlib.pyplot as plt\n",
    "\n",
    "from helper import *\n",
    "from transitionmatrix import *\n",
    "from simulation import *\n",
    "from tournament import SingleEliminationTournament\n",
    "from montecarlo import _monte_carlo_point, _monte_carlo_game, _monte_carlo_set, _monte_carlo_match, plot_monte_carlo_simulation"
   ]
  },
  {
   "cell_type": "markdown",
   "metadata": {},
   "source": [
    "### Transition matrix example"
   ]
  },
  {
   "cell_type": "markdown",
   "metadata": {},
   "source": [
    "In my markov chain model, the transition matrix is a 5x5 matrix with the following states/structure:\n",
    "\n",
    "S1: Serve\n",
    "\n",
    "S2: Return\n",
    "\n",
    "S3: Rally\n",
    "\n",
    "S4: Point won by server\n",
    "\n",
    "S5: Point won by returner\n",
    "\n",
    "The transition matrix is as follows:\n",
    "\n",
    "|    | S1 | S2  | S3  | S4   | S5   |\n",
    "|----|----|-----|-----|------|------|\n",
    "| S1 | 0  | 0.6 | 0   | 0.2  | 0.2  |\n",
    "| S2 | 0  | 0   | 0.7 | 0.15 | 0.15 |\n",
    "| S3 | 0  | 0   | 0.5 | 025  | 0.25 |\n",
    "| S4 | 0  | 0   | 0   | 1    | 0    |\n",
    "| S5 | 0  | 0   | 0   | 0    | 1    |\n",
    "\n",
    "\n",
    "And in its canonical form:\n",
    "From this matrix, we can extract the canonical form:\n",
    "\n",
    "$$\n",
    "\\begin{align*}\n",
    "\n",
    "\\begin{pmatrix}\n",
    "Q & R \\\\\n",
    "0 & I \\\\\n",
    "\\end{pmatrix} & =\n",
    "\n",
    "\\begin{pmatrix}\n",
    "0 & 0.6 & 0 & 0.2 & 0.2 \\\\\n",
    "0 & 0 & 0.7 & 0.15 & 0.15 \\\\\n",
    "0 & 0 & 0.5 & 0.25 & 0.25 \\\\\n",
    "0 & 0 & 0 & 1 & 0 \\\\\n",
    "0 & 0 & 0 & 0 & 1 \\\\\n",
    "\\end{pmatrix}\n",
    "\n",
    "\\\\\n",
    "\n",
    "Q & =\n",
    "\\begin{pmatrix}\n",
    "0 & 0.6 & 0 \\\\\n",
    "0 & 0 & 0.7 \\\\\n",
    "0 & 0 & 0.5 \\\\\n",
    "\\end{pmatrix}\n",
    "\n",
    "\n",
    "& R &=\n",
    "\\begin{pmatrix}\n",
    "0.2 & 0.2 \\\\\n",
    "0.15 & 0.15 \\\\\n",
    "0.25 & 0.25 \\\\\n",
    "\\end{pmatrix}\n",
    "\n",
    "\\\\\n",
    "\n",
    "0 & =\n",
    "\\begin{pmatrix}\n",
    "0 & 0 & 0 \\\\\n",
    "0 & 0 & 0 \\\\\n",
    "\\end{pmatrix}\n",
    "\n",
    "\n",
    "& I &=\n",
    "\\begin{pmatrix}\n",
    "1 & 0 \\\\\n",
    "0 & 1 \\\\\n",
    "\\end{pmatrix}\n",
    "\n",
    "\\end{align*}\n",
    "$$\n",
    "\n",
    "Getting the fundamental matrix:\n",
    "\n",
    "$$\n",
    "\\begin{align*}\n",
    "& N = (I - Q)^{-1} \\\\\n",
    "\n",
    "& N = \n",
    "\\begin{pmatrix}\n",
    "1 & -0.6 & 0 \\\\\n",
    "0 & 1 & -0.7 \\\\\n",
    "0 & 0 & 1 \\\\\n",
    "\\end{pmatrix}^{-1} \\\\\n",
    "\n",
    "\n",
    "\\end{align*}\n",
    "$$\n",
    "\n",
    "See below for calculations"
   ]
  },
  {
   "cell_type": "markdown",
   "metadata": {},
   "source": [
    "#### Caluclation for the example transition matrix"
   ]
  },
  {
   "cell_type": "code",
   "execution_count": 2,
   "metadata": {},
   "outputs": [
    {
     "name": "stdout",
     "output_type": "stream",
     "text": [
      "Absorbing states: [3 4]\n",
      "Transient states: [0 1 2]\n"
     ]
    }
   ],
   "source": [
    "M = np.array([\n",
    "    [0, 0.6, 0, 0.2, 0.2],\n",
    "    [0, 0, 0.7, 0.15, 0.15],\n",
    "    [0, 0, 0.5, 0.25, 0.25],\n",
    "    [0, 0 ,0 ,1, 0],\n",
    "    [0, 0, 0, 0, 1]\n",
    "])\n",
    "D = np.diag(M)\n",
    "absorbing, transient = np.where(D==1)[0], np.where(D!=1)[0]\n",
    "print(\"Absorbing states:\", absorbing)  # rows 3 and 4\n",
    "print(\"Transient states:\", transient)  # rows 0, 1, 2"
   ]
  },
  {
   "cell_type": "code",
   "execution_count": 3,
   "metadata": {},
   "outputs": [
    {
     "name": "stdout",
     "output_type": "stream",
     "text": [
      "Expected visits: [2.44 2.4  2.  ]\n",
      "Least visited state: 2\n",
      "Absorbtion time: [2.44 2.4  2.  ]\n",
      "Total time: 6.84\n",
      "Absorbtion probabilities:\n",
      " [[0.5 0.5]\n",
      " [0.5 0.5]\n",
      " [0.5 0.5]]\n"
     ]
    }
   ],
   "source": [
    "Q = M[:3,:3]\n",
    "R = M[:3,3:]\n",
    "N = np.linalg.inv(np.eye(3) - Q) # Fundamental matrix\n",
    "expected_visits = np.sum(N, axis=1)\n",
    "least_visitied = transient[np.argmin(expected_visits)]\n",
    "absorbtion_time = N.dot(np.ones_like(transient))\n",
    "total_time = np.sum(absorbtion_time)\n",
    "# Probability of absoption = B_{ij} = NR\n",
    "absorbtion_probabilities = N.dot(R)  # B = N * R\n",
    "\n",
    "print(\"Expected visits:\", expected_visits)\n",
    "print(\"Least visited state:\", least_visitied)\n",
    "print(\"Absorbtion time:\", absorbtion_time)\n",
    "print(\"Total time:\", total_time)\n",
    "print(\"Absorbtion probabilities:\\n\", absorbtion_probabilities)"
   ]
  },
  {
   "cell_type": "markdown",
   "metadata": {},
   "source": [
    "The probability of reaching a state $M_{ij}$ in $n$ steps is given by $P_{ij}(n) = M^n_{ij}$\n",
    "\n",
    "This formula is useful to examine the probability of reaching a state after a certain number of steps."
   ]
  },
  {
   "cell_type": "code",
   "execution_count": 4,
   "metadata": {},
   "outputs": [],
   "source": [
    "# calculating P_{ij}^{(n)} = M_{ij}^{(n)}\n",
    "P = lambda M, n: np.linalg.matrix_power(M, n)"
   ]
  },
  {
   "cell_type": "code",
   "execution_count": 5,
   "metadata": {},
   "outputs": [
    {
     "name": "stdout",
     "output_type": "stream",
     "text": [
      "P_{ij}^{(1)}:\n",
      " [[0.   0.6  0.   0.2  0.2 ]\n",
      " [0.   0.   0.7  0.15 0.15]\n",
      " [0.   0.   0.5  0.25 0.25]\n",
      " [0.   0.   0.   1.   0.  ]\n",
      " [0.   0.   0.   0.   1.  ]]\n",
      "P_{ij}^{(2)}:\n",
      " [[0.    0.    0.42  0.29  0.29 ]\n",
      " [0.    0.    0.35  0.325 0.325]\n",
      " [0.    0.    0.25  0.375 0.375]\n",
      " [0.    0.    0.    1.    0.   ]\n",
      " [0.    0.    0.    0.    1.   ]]\n",
      "\n",
      "Moving to higher powers...\n",
      "\n",
      "P_{ij}^{(9)}:\n",
      " [[0.      0.      0.00328 0.49836 0.49836]\n",
      " [0.      0.      0.00273 0.49863 0.49863]\n",
      " [0.      0.      0.00195 0.49902 0.49902]\n",
      " [0.      0.      0.      1.      0.     ]\n",
      " [0.      0.      0.      0.      1.     ]]\n",
      "P_{ij}^{(10)}:\n",
      " [[0.  0.  0.  0.5 0.5]\n",
      " [0.  0.  0.  0.5 0.5]\n",
      " [0.  0.  0.  0.5 0.5]\n",
      " [0.  0.  0.  1.  0. ]\n",
      " [0.  0.  0.  0.  1. ]]\n"
     ]
    }
   ],
   "source": [
    "print(\"P_{ij}^{(1)}:\\n\", P(M, 1))\n",
    "print(\"P_{ij}^{(2)}:\\n\", P(M, 2))\n",
    "print(\"\\nMoving to higher powers...\\n\")\n",
    "\n",
    "# requires NumPy 1.15.0 or later\n",
    "with np.printoptions(precision=5, suppress=True):\n",
    "    print(\"P_{ij}^{(9)}:\\n\", P(M, 9))\n",
    "    print(\"P_{ij}^{(10)}:\\n\", P(M, 100))"
   ]
  },
  {
   "cell_type": "markdown",
   "metadata": {},
   "source": [
    "We can see that as the number of steps increases, the probability of absorbing into either the server or returner winning increases.\n",
    "\n",
    "\n",
    "$$\n",
    "\\begin{align*}\n",
    "\n",
    "\\lim_{n \\to \\infty} P_{ij}(n) = M_{ij}^n & = N \\cdot R \\\\\n",
    "\n",
    "\\end{align*}\n",
    "$$\n",
    "\n",
    "We can see that this transition matrix will be absorbed since the sum of probabilities of reaching state 3 or 4 (absorbing) from the transient states is 1. This means that the probability of the server or returner winning will be 1."
   ]
  },
  {
   "cell_type": "markdown",
   "metadata": {},
   "source": [
    "##### Exploring this property on the important states/domain\n",
    "\n",
    "There are essentially 3 interesting states to explore. During this exploration, we are assuming that only 1 player is serving and the other is returning, so this is basically the probability of one of the players winning a point.\n",
    "\n",
    "The 3 interesting states are:\n",
    "1. The server's skill is higher than the returner's skill\n",
    "2. The returner's skill is higher than the server's skill\n",
    "3. The server and returner have the same skill level\n",
    "\n",
    "Instead of creating a transition matrix by hand, I have created a function that generates a transition matrix based on the skill level of the players. This function will be used to generate the transition matrix for the players in the simulation."
   ]
  },
  {
   "cell_type": "code",
   "execution_count": 6,
   "metadata": {},
   "outputs": [
    {
     "name": "stdout",
     "output_type": "stream",
     "text": [
      "[[0.   0.   0.   0.75 0.25]\n",
      " [0.   0.   0.   0.75 0.25]\n",
      " [0.   0.   0.   0.75 0.25]\n",
      " [0.   0.   0.   1.   0.  ]\n",
      " [0.   0.   0.   0.   1.  ]]\n"
     ]
    }
   ],
   "source": [
    "server_skill = 0.8  # High skill server\n",
    "returner_skill = 0.4  # Moderate skill returner\n",
    "show_absorbtion_probabilities(server_skill, returner_skill)"
   ]
  },
  {
   "cell_type": "markdown",
   "metadata": {},
   "source": [
    "Again we can see that the probability of reaching the absorbing states is 1. Hence the transition matrices created using the create_transition_matrix function are also absorbing.\n",
    "\n",
    "Furthermore, in this domain we set the server skill as 0.8 which is double that of the returner's skill of 0.4. Setting this skill level difference allows reasonably assume that the server will win the point more often than the returner. This is reflected in the transition matrix where the server has a higher probability of winning the point i.e 75% of the time compared to the returner who has a 25% chance of winning the point."
   ]
  },
  {
   "cell_type": "code",
   "execution_count": 7,
   "metadata": {},
   "outputs": [
    {
     "name": "stdout",
     "output_type": "stream",
     "text": [
      "[[0.  0.  0.  0.5 0.5]\n",
      " [0.  0.  0.  0.5 0.5]\n",
      " [0.  0.  0.  0.5 0.5]\n",
      " [0.  0.  0.  1.  0. ]\n",
      " [0.  0.  0.  0.  1. ]]\n"
     ]
    }
   ],
   "source": [
    "show_absorbtion_probabilities(0.5, 0.5)  # Equal skill levels"
   ]
  },
  {
   "cell_type": "code",
   "execution_count": 8,
   "metadata": {},
   "outputs": [
    {
     "name": "stdout",
     "output_type": "stream",
     "text": [
      "[[0.   0.   0.   0.25 0.75]\n",
      " [0.   0.   0.   0.25 0.75]\n",
      " [0.   0.   0.   0.25 0.75]\n",
      " [0.   0.   0.   1.   0.  ]\n",
      " [0.   0.   0.   0.   1.  ]]\n"
     ]
    }
   ],
   "source": [
    "show_absorbtion_probabilities(0.4, 0.8)  # Low skill server, high skill returner"
   ]
  },
  {
   "cell_type": "markdown",
   "metadata": {},
   "source": [
    "## Section 4: Results\n",
    "\n",
    "Again in my analysis I will be looking at the interesting states mentioned earlier - high, low and equal. While this might not be possible for all the different techniques. I will elaborate on the interesting results.\n",
    "\n",
    "### Things to talk about in each section below [DELETE THIS]\n",
    "- Interpret and analyse my results\n",
    "- How I arrived at my results\n"
   ]
  },
  {
   "cell_type": "markdown",
   "metadata": {},
   "source": [
    "### Markov simulation"
   ]
  },
  {
   "cell_type": "markdown",
   "metadata": {},
   "source": [
    "In the previous section, it was observed that the transition matrix absorbs into either state with equal probability, hence if the simulation (of points) is run for a long time, it is expected that both players will have approximately equal number of wins. \n",
    "\n",
    "The diagram below shows this behaviour, which matches my theory."
   ]
  },
  {
   "cell_type": "code",
   "execution_count": 9,
   "metadata": {},
   "outputs": [
    {
     "data": {
      "image/png": "[encoded data removed]",
      "text/plain": [
       "<Figure size 432x288 with 1 Axes>"
      ]
     },
     "metadata": {
      "needs_background": "light"
     },
     "output_type": "display_data"
    }
   ],
   "source": [
    "stats = {\n",
    "    \"Player 1\": 0,\n",
    "    \"Player 2\": 0,\n",
    "}\n",
    "\n",
    "for _ in range(10000):\n",
    "    simulation = simulate_point(M)\n",
    "    stats[\"Player 1\"] += 1 if simulation[0] == 3 else 0\n",
    "    stats[\"Player 2\"] += 1 if simulation[0] == 4 else 0\n",
    "\n",
    "plt.bar(stats.keys(), stats.values())\n",
    "plt.xlabel(\"Players\")\n",
    "plt.ylabel(\"Number of Points Won\")\n",
    "plt.title(\"Player 1 vs Player 2 based on example transition matrix M\")\n",
    "for key, value in stats.items():\n",
    "    plt.text(key, value, str(value), ha=\"center\")\n",
    "plt.show()"
   ]
  },
  {
   "cell_type": "markdown",
   "metadata": {},
   "source": [
    "Now, let's move towards a set simulation and skew the results towards one of the players by settings the return skill of player 2 to be slightly higher than the serve skill of player 1, while keeping the return skill of player 1 the same as the serve skill of player 2. \n",
    "\n",
    "The result below shows the 2 transition matrices one of which has equal probability and the other has a skewed probability towards player 2. The simulation results show that player 2 wins more points than player 1, which is expected given the transition matrices based on initial skill levels."
   ]
  },
  {
   "cell_type": "code",
   "execution_count": 10,
   "metadata": {},
   "outputs": [
    {
     "name": "stdout",
     "output_type": "stream",
     "text": [
      "[[0.      0.      0.      0.45946 0.54054]\n",
      " [0.      0.      0.      0.45946 0.54054]\n",
      " [0.      0.      0.      0.45946 0.54054]\n",
      " [0.      0.      0.      1.      0.     ]\n",
      " [0.      0.      0.      0.      1.     ]] \n",
      "\n",
      "[[0.  0.  0.  0.5 0.5]\n",
      " [0.  0.  0.  0.5 0.5]\n",
      " [0.  0.  0.  0.5 0.5]\n",
      " [0.  0.  0.  1.  0. ]\n",
      " [0.  0.  0.  0.  1. ]] \n",
      "\n"
     ]
    },
    {
     "data": {
      "image/png": "[encoded data removed]",
      "text/plain": [
       "<Figure size 432x288 with 1 Axes>"
      ]
     },
     "metadata": {
      "needs_background": "light"
     },
     "output_type": "display_data"
    }
   ],
   "source": [
    "player1 = Player(0.8, 0.4, name=\"Player 1\")\n",
    "player2 = Player(0.4, 0.83, name=\"Player 2\")\n",
    "\n",
    "stats = {\n",
    "    \"Player 1\": 0,\n",
    "    \"Player 2\": 0,\n",
    "}\n",
    "\n",
    "transition_matrices = create_transition_matrices(player1, player2)\n",
    "for M in transition_matrices:\n",
    "    with np.printoptions(precision=5, suppress=True):\n",
    "        print(np.linalg.matrix_power(M, 100), \"\\n\")\n",
    "\n",
    "for _ in range(1000):\n",
    "    player1_games, player2_games = simulate_set(player1, player2, create_transition_matrices(player1, player2))\n",
    "    stats[\"Player 1\"] += 1 if player1_games > player2_games else 0\n",
    "    stats[\"Player 2\"] += 1 if player1_games < player2_games else 0\n",
    "\n",
    "plt.bar(stats.keys(), stats.values())\n",
    "plt.xlabel(\"Players\")\n",
    "plt.ylabel(\"Number of Sets Won\")\n",
    "plt.title(\"Player 1 vs Player 2 : Set Simulation\")\n",
    "for key, value in stats.items():\n",
    "    plt.text(key, value, str(value), ha=\"center\")\n",
    "plt.show()\n",
    "\n"
   ]
  },
  {
   "cell_type": "code",
   "execution_count": 11,
   "metadata": {},
   "outputs": [
    {
     "data": {
      "text/plain": [
       "(2, 1)"
      ]
     },
     "execution_count": 11,
     "metadata": {},
     "output_type": "execute_result"
    }
   ],
   "source": [
    "player1 = Player(0.7, 0.8)\n",
    "player2 = Player(0.9, 0.4)\n",
    "transition_matrices = create_transition_matrices(player1, player2)\n",
    "simulate_match(player1, player2, transition_matrices)   "
   ]
  },
  {
   "cell_type": "code",
   "execution_count": 34,
   "metadata": {},
   "outputs": [
    {
     "name": "stdout",
     "output_type": "stream",
     "text": [
      "4\n",
      "2\n"
     ]
    },
    {
     "data": {
      "text/plain": [
       "[Player(Serve=0.9, Return=0.4, name='', sets=2, games=6, score=8, wins=0),\n",
       " Player(Serve=0.8, Return=0.7, name='', sets=0, games=4, score=6, wins=0),\n",
       " Player(Serve=0.6, Return=0.6, name='', sets=2, games=6, score=4, wins=0),\n",
       " Player(Serve=0.5, Return=0.5, name='', sets=0, games=0, score=2, wins=0)]"
      ]
     },
     "execution_count": 34,
     "metadata": {},
     "output_type": "execute_result"
    }
   ],
   "source": [
    "players = [\n",
    "    Player(0.7, 0.8),\n",
    "    Player(0.9, 0.4),\n",
    "    Player(0.6, 0.2),\n",
    "    Player(0.5, 0.5),\n",
    "    Player(0.8, 0.7),\n",
    "    Player(0.4, 0.9),\n",
    "    Player(0.6, 0.6),\n",
    "    Player(0.5, 0.2),\n",
    "]\n",
    "\n",
    "tournament = SingleEliminationTournament(players, best_of=3)\n",
    "tournament.simulate()"
   ]
  },
  {
   "cell_type": "code",
   "execution_count": 13,
   "metadata": {},
   "outputs": [
    {
     "name": "stdout",
     "output_type": "stream",
     "text": [
      "4\n",
      "2\n",
      "4\n",
      "2\n",
      "4\n",
      "2\n",
      "4\n",
      "2\n",
      "4\n",
      "2\n",
      "4\n",
      "2\n",
      "4\n",
      "2\n",
      "4\n",
      "2\n",
      "4\n",
      "2\n",
      "4\n",
      "2\n",
      "4\n",
      "2\n",
      "4\n",
      "2\n",
      "4\n",
      "2\n",
      "4\n",
      "2\n",
      "4\n",
      "2\n",
      "4\n",
      "2\n",
      "4\n",
      "2\n",
      "4\n",
      "2\n",
      "4\n",
      "2\n",
      "4\n",
      "2\n",
      "4\n",
      "2\n",
      "4\n",
      "2\n",
      "4\n",
      "2\n",
      "4\n",
      "2\n",
      "4\n",
      "2\n",
      "4\n",
      "2\n",
      "4\n",
      "2\n",
      "4\n",
      "2\n",
      "4\n",
      "2\n",
      "4\n",
      "2\n",
      "4\n",
      "2\n",
      "4\n",
      "2\n",
      "4\n",
      "2\n",
      "4\n",
      "2\n",
      "4\n",
      "2\n",
      "4\n",
      "2\n",
      "4\n",
      "2\n",
      "4\n",
      "2\n",
      "4\n",
      "2\n",
      "4\n",
      "2\n",
      "4\n",
      "2\n",
      "4\n",
      "2\n",
      "4\n",
      "2\n",
      "4\n",
      "2\n",
      "4\n",
      "2\n",
      "4\n",
      "2\n",
      "4\n",
      "2\n",
      "4\n",
      "2\n",
      "4\n",
      "2\n",
      "4\n",
      "2\n",
      "4\n",
      "2\n",
      "4\n",
      "2\n",
      "4\n",
      "2\n",
      "4\n",
      "2\n",
      "4\n",
      "2\n",
      "4\n",
      "2\n",
      "4\n",
      "2\n",
      "4\n",
      "2\n",
      "4\n",
      "2\n",
      "4\n",
      "2\n",
      "4\n",
      "2\n",
      "4\n",
      "2\n",
      "4\n",
      "2\n",
      "4\n",
      "2\n",
      "4\n",
      "2\n",
      "4\n",
      "2\n",
      "4\n",
      "2\n",
      "4\n",
      "2\n",
      "4\n",
      "2\n",
      "4\n",
      "2\n",
      "4\n",
      "2\n",
      "4\n",
      "2\n",
      "4\n",
      "2\n",
      "4\n",
      "2\n",
      "4\n",
      "2\n",
      "4\n",
      "2\n",
      "4\n",
      "2\n",
      "4\n",
      "2\n",
      "4\n",
      "2\n",
      "4\n",
      "2\n",
      "4\n",
      "2\n",
      "4\n",
      "2\n",
      "4\n",
      "2\n",
      "4\n",
      "2\n",
      "4\n",
      "2\n",
      "4\n",
      "2\n",
      "4\n",
      "2\n",
      "4\n",
      "2\n",
      "4\n",
      "2\n",
      "4\n",
      "2\n",
      "4\n",
      "2\n",
      "4\n",
      "2\n",
      "4\n",
      "2\n",
      "4\n",
      "2\n",
      "4\n",
      "2\n",
      "4\n",
      "2\n",
      "4\n",
      "2\n",
      "4\n",
      "2\n",
      "4\n",
      "2\n",
      "4\n",
      "2\n"
     ]
    },
    {
     "data": {
      "image/png": "[encoded data removed]",
      "text/plain": [
       "<Figure size 720x360 with 1 Axes>"
      ]
     },
     "metadata": {
      "needs_background": "light"
     },
     "output_type": "display_data"
    }
   ],
   "source": [
    "players = [\n",
    "    Player(0.7, 0.8),\n",
    "    Player(0.9, 0.4),\n",
    "    Player(0.9, 0.6),\n",
    "    Player(0.6, 0.6),\n",
    "    Player(0.5, 0.5),\n",
    "    Player(0.8, 0.7),\n",
    "    Player(0.4, 0.9),\n",
    "    Player(0.6, 0.6),\n",
    "    # Player(0.6, 0.7),\n",
    "    # Player(0.5, 0.5),\n",
    "    # Player(0.8, 0.7),\n",
    "    # Player(0.4, 0.9),\n",
    "    # Player(0.9, 0.6),\n",
    "    # Player(0.6, 0.6),\n",
    "    # Player(0.6, 0.7),\n",
    "    # Player(0.5, 0.5),\n",
    "]\n",
    "\n",
    "simulate_tournaments(players, num_tournaments=100)\n"
   ]
  },
  {
   "cell_type": "code",
   "execution_count": 14,
   "metadata": {},
   "outputs": [
    {
     "name": "stdout",
     "output_type": "stream",
     "text": [
      "4\n",
      "2\n",
      "4\n",
      "2\n",
      "4\n",
      "2\n",
      "4\n",
      "2\n",
      "4\n",
      "2\n",
      "4\n",
      "2\n",
      "4\n",
      "2\n",
      "4\n",
      "2\n",
      "4\n",
      "2\n",
      "4\n",
      "2\n",
      "4\n",
      "2\n",
      "4\n",
      "2\n",
      "4\n",
      "2\n",
      "4\n",
      "2\n",
      "4\n",
      "2\n",
      "4\n",
      "2\n",
      "4\n",
      "2\n",
      "4\n",
      "2\n",
      "4\n",
      "2\n",
      "4\n",
      "2\n",
      "4\n",
      "2\n",
      "4\n",
      "2\n",
      "4\n",
      "2\n",
      "4\n",
      "2\n",
      "4\n",
      "2\n",
      "4\n",
      "2\n",
      "4\n",
      "2\n",
      "4\n",
      "2\n",
      "4\n",
      "2\n",
      "4\n",
      "2\n",
      "4\n",
      "2\n",
      "4\n",
      "2\n",
      "4\n",
      "2\n",
      "4\n",
      "2\n",
      "4\n",
      "2\n",
      "4\n",
      "2\n",
      "4\n",
      "2\n",
      "4\n",
      "2\n",
      "4\n",
      "2\n",
      "4\n",
      "2\n",
      "4\n",
      "2\n",
      "4\n",
      "2\n",
      "4\n",
      "2\n",
      "4\n",
      "2\n",
      "4\n",
      "2\n",
      "4\n",
      "2\n",
      "4\n",
      "2\n",
      "4\n",
      "2\n",
      "4\n",
      "2\n",
      "4\n",
      "2\n",
      "4\n",
      "2\n",
      "4\n",
      "2\n",
      "4\n",
      "2\n",
      "4\n",
      "2\n",
      "4\n",
      "2\n",
      "4\n",
      "2\n",
      "4\n",
      "2\n",
      "4\n",
      "2\n",
      "4\n",
      "2\n",
      "4\n",
      "2\n",
      "4\n",
      "2\n",
      "4\n",
      "2\n",
      "4\n",
      "2\n",
      "4\n",
      "2\n",
      "4\n",
      "2\n",
      "4\n",
      "2\n",
      "4\n",
      "2\n",
      "4\n",
      "2\n",
      "4\n",
      "2\n",
      "4\n",
      "2\n",
      "4\n",
      "2\n",
      "4\n",
      "2\n",
      "4\n",
      "2\n",
      "4\n",
      "2\n",
      "4\n",
      "2\n",
      "4\n",
      "2\n",
      "4\n",
      "2\n",
      "4\n",
      "2\n",
      "4\n",
      "2\n",
      "4\n",
      "2\n",
      "4\n",
      "2\n",
      "4\n",
      "2\n",
      "4\n",
      "2\n",
      "4\n",
      "2\n",
      "4\n",
      "2\n",
      "4\n",
      "2\n",
      "4\n",
      "2\n",
      "4\n",
      "2\n",
      "4\n",
      "2\n",
      "4\n",
      "2\n",
      "4\n",
      "2\n",
      "4\n",
      "2\n",
      "4\n",
      "2\n",
      "4\n",
      "2\n",
      "4\n",
      "2\n",
      "4\n",
      "2\n",
      "4\n",
      "2\n",
      "4\n",
      "2\n",
      "4\n",
      "2\n",
      "4\n",
      "2\n"
     ]
    },
    {
     "data": {
      "image/png": "[encoded data removed]",
      "text/plain": [
       "<Figure size 720x360 with 1 Axes>"
      ]
     },
     "metadata": {
      "needs_background": "light"
     },
     "output_type": "display_data"
    }
   ],
   "source": [
    "players = [\n",
    "    Player(0.7, 0.8),\n",
    "    Player(0.8, 0.7),\n",
    "    Player(0.4, 0.9),\n",
    "    Player(0.6, 0.6),\n",
    "    Player(0.5, 0.5),\n",
    "    Player(0.6, 0.6),\n",
    "    Player(0.5, 0.5),\n",
    "    Player(0.9, 0.4),\n",
    "]\n",
    "\n",
    "simulate_tournaments(players, num_tournaments=100)"
   ]
  },
  {
   "cell_type": "markdown",
   "metadata": {},
   "source": [
    "### Montecarlo simulation"
   ]
  },
  {
   "cell_type": "code",
   "execution_count": 15,
   "metadata": {},
   "outputs": [],
   "source": [
    "player1 = Player(0.7, 0.8)\n",
    "player2 = Player(0.9, 0.4)"
   ]
  },
  {
   "cell_type": "code",
   "execution_count": 16,
   "metadata": {},
   "outputs": [
    {
     "data": {
      "image/png": "[encoded data removed]",
      "text/plain": [
       "<Figure size 720x360 with 2 Axes>"
      ]
     },
     "metadata": {
      "needs_background": "light"
     },
     "output_type": "display_data"
    }
   ],
   "source": [
    "plot_monte_carlo_simulation(player1, player2, _monte_carlo_point)"
   ]
  },
  {
   "cell_type": "code",
   "execution_count": 17,
   "metadata": {},
   "outputs": [
    {
     "data": {
      "image/png": "[encoded data removed]",
      "text/plain": [
       "<Figure size 720x360 with 2 Axes>"
      ]
     },
     "metadata": {
      "needs_background": "light"
     },
     "output_type": "display_data"
    }
   ],
   "source": [
    "plot_monte_carlo_simulation(player1, player2, _monte_carlo_game)"
   ]
  },
  {
   "cell_type": "code",
   "execution_count": 18,
   "metadata": {},
   "outputs": [
    {
     "data": {
      "image/png": "[encoded data removed]",
      "text/plain": [
       "<Figure size 432x288 with 1 Axes>"
      ]
     },
     "metadata": {
      "needs_background": "light"
     },
     "output_type": "display_data"
    }
   ],
   "source": [
    "plot_monte_carlo_simulation(player1, player2, _monte_carlo_set)"
   ]
  },
  {
   "cell_type": "code",
   "execution_count": 19,
   "metadata": {},
   "outputs": [
    {
     "data": {
      "image/png": "[encoded data removed]",
      "text/plain": [
       "<Figure size 432x288 with 1 Axes>"
      ]
     },
     "metadata": {
      "needs_background": "light"
     },
     "output_type": "display_data"
    }
   ],
   "source": [
    "plot_monte_carlo_simulation(player1, player2, _monte_carlo_match)"
   ]
  },
  {
   "cell_type": "code",
   "execution_count": 20,
   "metadata": {},
   "outputs": [
    {
     "data": {
      "image/png": "[encoded data removed]",
      "text/plain": [
       "<Figure size 432x288 with 1 Axes>"
      ]
     },
     "metadata": {
      "needs_background": "light"
     },
     "output_type": "display_data"
    }
   ],
   "source": [
    "# plot monte carlo mathc with best of 5\n",
    "plot_monte_carlo_simulation(player1, player2, lambda x, y, z: _monte_carlo_match(x, y, z, best_of=5))"
   ]
  },
  {
   "cell_type": "code",
   "execution_count": 21,
   "metadata": {},
   "outputs": [
    {
     "data": {
      "image/png": "[encoded data removed]",
      "text/plain": [
       "<Figure size 432x288 with 1 Axes>"
      ]
     },
     "metadata": {
      "needs_background": "light"
     },
     "output_type": "display_data"
    }
   ],
   "source": [
    "# showing that serve + return / 2 gives apprxiately the same result\n",
    "players = np.array([\n",
    "    Player(0.7, 0.8, name=\"Player 1\"),\n",
    "    Player(0.9, 0.4, name=\"Player 2\"),\n",
    "    Player(0.6, 0.6, name=\"Player 3\"),\n",
    "    Player(0.5, 0.5, name=\"Player 4\"),\n",
    "])\n",
    "\n",
    "player_skill_level = [((p.Serve + p.Return) / 2) for p in players]\n",
    "\n",
    "p=proportional_scaling(player_skill_level)\n",
    "sims=100000\n",
    "winners = {\n",
    "    p.name: 0 for p in players\n",
    "}\n",
    "\n",
    "for i in range(sims):\n",
    "    winner = players[np.random.choice(range(len(players)), p=p)]\n",
    "    winners[winner.name] += 1\n",
    "\n",
    "fig, ax = plt.subplots()\n",
    "fig.suptitle(\"Monte Carlo Simulation of a Match\")\n",
    "ax.bar(winners.keys(), winners.values())\n",
    "ax.bar_label(ax.containers[0])\n",
    "ax.set_title(\"Match\")\n",
    "ax.set_xlabel(\"Winner\")\n",
    "ax.set_ylabel(\"Frequency\")\n",
    "plt.show()\n"
   ]
  },
  {
   "cell_type": "code",
   "execution_count": 22,
   "metadata": {},
   "outputs": [
    {
     "data": {
      "image/png": "[encoded data removed]",
      "text/plain": [
       "<Figure size 432x288 with 1 Axes>"
      ]
     },
     "metadata": {
      "needs_background": "light"
     },
     "output_type": "display_data"
    }
   ],
   "source": [
    "# Montecarlo simulation\n",
    "# let the skill level of the players be server + return / 2\n",
    "\n",
    "simulations = 100000\n",
    "players = []\n",
    "for _ in range(100):\n",
    "    player = {\n",
    "        \"Serve\": np.random.random(),\n",
    "        \"Return\": np.random.random()\n",
    "    }\n",
    "    players.append(player)\n",
    "\n",
    "player_skill_level = [(p[\"Serve\"] + p[\"Return\"]) / 2 for p in players]\n",
    "# player skill level determines the probability of winning a point\n",
    "# plot a histogram showing which player won the most points\n",
    "\n",
    "winners = []\n",
    "for _ in range(simulations):\n",
    "    winner = np.random.choice(range(100), p=proportional_scaling(player_skill_level))\n",
    "    winners.append(winner)\n",
    "\n",
    "# plot skill level vs number of wins\n",
    "plt.scatter(player_skill_level, [winners.count(i) for i in range(100)])\n",
    "plt.xlabel(\"Skill Level\")\n",
    "plt.ylabel(\"Wins\")\n",
    "plt.show()"
   ]
  },
  {
   "cell_type": "markdown",
   "metadata": {},
   "source": [
    "### Heuristics simulation"
   ]
  },
  {
   "cell_type": "markdown",
   "metadata": {},
   "source": [
    "#### Heuristics - simulated annealing technique\n",
    "\n",
    "Using the metropolis criterion for maximising f(x)\n",
    "\n",
    "Given that tennis is a game that incorporates both these skills, the total skill level of a player is somewhere around the average of these skills. \n",
    "\n",
    "##### The perturb function\n",
    "$$\n",
    "perturb(players) = \\text{swap 2 random players}\n",
    "$$\n",
    "\n",
    "##### Heuristic evaulation\n",
    "\n",
    "$$\n",
    "\\Delta skill = \\sum_{i=1}^{N} (Serve_{S'[i]} + Return_{S'[i]}) - \\sum_{i=1}^{N} (Serve_{S[i]} + Return_{S[i]})\n",
    "$$\n",
    "\n",
    "##### Metropolis criterion / acceptance probability\n",
    "\n",
    "$$\n",
    "\\text{Accept with probabaility} = \n",
    "\\begin{cases}\n",
    "    1 & \\text{if} \\Delta skill> 0 \\\\\n",
    "    e^{\\frac{-\\Delta skill}{T}} & \\text{otherwise}\n",
    "\\end{cases}\n",
    "$$\n",
    "\n",
    "##### Cooling process\n",
    "\n",
    "$$\n",
    "T_{new} = T_{old} \\times \\alpha\n",
    "$$\n"
   ]
  },
  {
   "cell_type": "code",
   "execution_count": 23,
   "metadata": {},
   "outputs": [
    {
     "data": {
      "text/plain": [
       "array([Player(Serve=0.5, Return=0.5, name='', sets=0, games=0, score=0, wins=0),\n",
       "       Player(Serve=0.9, Return=0.4, name='', sets=0, games=0, score=0, wins=0),\n",
       "       Player(Serve=0.9, Return=0.2, name='', sets=0, games=0, score=0, wins=0),\n",
       "       Player(Serve=0.1, Return=0.9, name='', sets=0, games=0, score=0, wins=0),\n",
       "       Player(Serve=0.9, Return=0.4, name='', sets=0, games=0, score=0, wins=0),\n",
       "       Player(Serve=0.6, Return=0.6, name='', sets=0, games=0, score=0, wins=0),\n",
       "       Player(Serve=0.1, Return=0.1, name='', sets=0, games=0, score=0, wins=0),\n",
       "       Player(Serve=0.7, Return=0.8, name='', sets=0, games=0, score=0, wins=0)],\n",
       "      dtype=object)"
      ]
     },
     "execution_count": 23,
     "metadata": {},
     "output_type": "execute_result"
    }
   ],
   "source": [
    "def perturb(players):\n",
    "    i, j = np.random.choice(range(len(players)), 2, replace=False)\n",
    "    new_players = np.copy(players)\n",
    "    new_players[i], new_players[j] = new_players[j], new_players[i]\n",
    "    return new_players\n",
    "\n",
    "\n",
    "def heuristic_simulate_tournament(players, t0, cooling_factor, perturbations=1000):\n",
    "    players = np.array(players)\n",
    "    number_of_players = len(players)\n",
    "    current_solution = np.random.permutation(players)\n",
    "    t = t0\n",
    "\n",
    "    while t > 0.001:\n",
    "        for _ in range(perturbations):\n",
    "            new_solution = perturb(current_solution)\n",
    "            delta = np.sum([new_solution[i][\"Serve\"] + new_solution[i][\"Return\"] - current_solution[i][\"Serve\"] - current_solution[i][\"Return\"] for i in range(number_of_players)])\n",
    "            if delta > 0 or np.random.random() < np.exp(-delta / t):\n",
    "                current_solution = new_solution\n",
    "        t *= cooling_factor\n",
    "\n",
    "    return current_solution\n",
    "\n",
    "players = np.array([\n",
    "    Player(0.7, 0.8),\n",
    "    Player(0.6, 0.6),\n",
    "    Player(0.9, 0.4),\n",
    "    Player(0.5, 0.5),\n",
    "    Player(0.9, 0.2),\n",
    "    Player(0.1, 0.9),\n",
    "    Player(0.9, 0.4),\n",
    "    Player(0.1, 0.1),\n",
    "])\n",
    "\n",
    "heuristic_simulate_tournament(players, 100, 0.95)"
   ]
  },
  {
   "cell_type": "code",
   "execution_count": 24,
   "metadata": {},
   "outputs": [
    {
     "data": {
      "image/png": "[encoded data removed]",
      "text/plain": [
       "<Figure size 720x360 with 1 Axes>"
      ]
     },
     "metadata": {
      "needs_background": "light"
     },
     "output_type": "display_data"
    }
   ],
   "source": [
    "# run heuristic simulation 100 times and plot\n",
    "def simulate_heuristic_tournament(players, t0, cooling_factor, perturbations=100, num_simulations=10):\n",
    "    first_place = []\n",
    "    second_place = []\n",
    "    # set player names\n",
    "    for i, player in enumerate(players):\n",
    "        player[\"name\"] = f\"Player {i + 1}\"\n",
    "\n",
    "    for _ in range(num_simulations):\n",
    "        result = heuristic_simulate_tournament(players, t0, cooling_factor, perturbations)\n",
    "        first_place.append(result[0])\n",
    "        second_place.append(result[1])\n",
    "\n",
    "    stats_first_place = get_stats(players, first_place)\n",
    "    stats_second_place = get_stats(players, second_place)\n",
    "\n",
    "    fig, ax = plt.subplots()\n",
    "    # increase figure size to show all player names\n",
    "    fig.set_size_inches(10, 5)\n",
    "    bar_width = 0.35\n",
    "    index = np.arange(len(players))\n",
    "    ax.bar(index, stats_first_place.values(), bar_width, label=\"1st Place\")\n",
    "    ax.bar(index + bar_width, stats_second_place.values(), bar_width, label=\"2nd Place\")\n",
    "    ax.set_xlabel(\"Players\")\n",
    "    ax.set_ylabel(\"Number of Wins\")\n",
    "    ax.set_title(f\"Distribution of wins in {num_simulations} heuristic tournaments\")\n",
    "    ax.set_xticks(index + bar_width / 2)\n",
    "    ax.set_xticklabels(stats_first_place.keys())\n",
    "    ax.legend()\n",
    "    plt.show()\n",
    "        \n",
    "    \n",
    "simulate_heuristic_tournament(players, 100, 0.95)"
   ]
  },
  {
   "cell_type": "markdown",
   "metadata": {},
   "source": [
    "## Section 5: List of algorithms and concepts"
   ]
  },
  {
   "cell_type": "markdown",
   "metadata": {},
   "source": [
    "### Markov chains - how it plays a role in my model\n"
   ]
  },
  {
   "cell_type": "markdown",
   "metadata": {},
   "source": [
    "### Monte Carlo simulations - how it plays a role in my model"
   ]
  },
  {
   "cell_type": "markdown",
   "metadata": {},
   "source": [
    "### Heuristics - simulated annealing technique - how it plays a role in my model"
   ]
  }
 ],
 "metadata": {
  "kernelspec": {
   "display_name": "Python 3",
   "language": "python",
   "name": "python3"
  },
  "language_info": {
   "codemirror_mode": {
    "name": "ipython",
    "version": 3
   },
   "file_extension": ".py",
   "mimetype": "text/x-python",
   "name": "python",
   "nbconvert_exporter": "python",
   "pygments_lexer": "ipython3",
   "version": "3.10.0"
  }
 },
 "nbformat": 4,
 "nbformat_minor": 2
}
