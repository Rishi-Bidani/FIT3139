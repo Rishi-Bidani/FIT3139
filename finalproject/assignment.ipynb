{
 "cells": [
  {
   "cell_type": "markdown",
   "metadata": {},
   "source": [
    "# FIT3139 Final Project\n",
    "\n",
    "## Learning outcomes\n",
    "\n",
    "1.  Explain and apply the process of computational scientific model building, verification and interpretation\n",
    "2.  Analyse the differences between core classes of modelling approaches (Numerical versus Analytical; Linear versus Non-linear; Continuous versus Discrete; Deterministic versus Stochastic)\n",
    "3.   Evaluate the implications of choosing different modelling approaches;\n",
    "4.   Rationalise the role of simulation and data visualisation in science;\n",
    "5.   Apply all of the above to solving idealisations of real-world problems across various scientific disciplines."
   ]
  },
  {
   "cell_type": "markdown",
   "metadata": {},
   "source": [
    "## Specification table\n",
    "|||\n",
    "|------------|---|\n",
    "| Base Model | Tennis simulation |\n",
    "| Extension assumpion | Simulate a complete season based on skill distribution |\n",
    "| Techniques showcaed | Markov chains, montecarlo simulations |\n",
    "| Modelling question 1 |  |\n",
    "| Modelling question 2 | |"
   ]
  },
  {
   "cell_type": "markdown",
   "metadata": {},
   "source": [
    "## Section 2: Introduction\n",
    "\n",
    "### THe problem and the motivation\n",
    "\n",
    "The primary problem addressed in this project is to understand the impact of skill distribution on player rankings in a tennis season. Additionally, the project aims to determine whether longer matches or longer seasons are more effective in revealing the true quality of players. This problem is motivated by the need to ensure fairness and accuracy in competitive sports, where ranking systems often determine players' career.\n",
    "\n",
    "### Describe the extension and the questions my model will answer\n",
    "\n",
    "I'm simulating a tennis match using markov chains. The extension is to simulate a complete season based on skill distribution. The base model discussed earlier used markov chain with \"some\" probability to move to a next point, which didn't take into account the skill level of a player. This extension will simplify the states in the transition matrix but will add complexity to take into account the player's serving and returning skills. The model will answer the following questions:\n",
    "\n",
    "1. How does the skill distribution of players affect the outcome of a tennis tournament?\n",
    "2. Comparing initial skill distribution vs point distribution at the end of the tournament.\n",
    "3. What is more effective in revealing the true quality of players: longer matches or longer tournaments?\n",
    "\n",
    "This question can be answered using other techniques such as game theory, however I have chosen markov chains as I believe it more accurately models a tennis players' skill level and allows me to examine how players of different skill levels perform in a match and whether they have any liklihood of winning. \n",
    "Sports do have a certain level of strategy involved, however given that I am using markov chains I am not considering that in this model and instead assuming that a player will always play the best shot possible, allowing me to focus on the skill level of a player.\n",
    "\n",
    "\n",
    "### The rules of tennis\n",
    "#### Points:\n",
    "Each game starts with a serve and players alternate serving every game. Points are scored as follows: 0 (Love), 15, 30, 40, and game point.\n",
    "\n",
    "#### Games:\n",
    "A player wins a game by scoring four points and leading by at least two points. If the score reaches 40-40, the game is in deuce, and a player must win two consecutive points to win the game.\n",
    "\n",
    "#### Sets:\n",
    "A player wins a set by winning six games and leading by at least two games. If the score reaches 6-6, a tiebreaker is played to determine the winner of the set.\n",
    "\n",
    "#### Match:\n",
    "A player wins a match by winning the best of three or five sets.\n",
    "\n"
   ]
  },
  {
   "cell_type": "markdown",
   "metadata": {},
   "source": [
    "## Section 3: Model description\n",
    "\n",
    "### Model extension details\n",
    "\n",
    "The base model used a markov chain to simulate a tennis match with equal probability for moving on to the next possible score. The extension will use a markov chain but will take into account the skill level of the players. Each player contains 2 skills - a serve and return skill. These skills will be represented by a number between 0 and 1, where 0 is the lowest skill level and 1 is the highest skill level.\n",
    "\n",
    "The skill level of a players will be used to create a transition matrix. The creation of the transition matrix is based on the skill level of the 2 provided players.\n",
    "\n",
    "The skill level will be used to determine the probability of a player winning a point when serving or returning. The skill level will be used to adjust the transition matrix probabilities to reflect the player's skill level. The model will simulate a complete season based on the skill distribution of the players\n",
    "\n",
    "\n",
    "### Model assumptions\n",
    "\n",
    "### Class of the model\n",
    "#### Linear vs Non-linear\n",
    "\n",
    "\n",
    "#### Continuous vs Discrete\n",
    "##### Why discrete?\n",
    "The model is discrete as the state space is finite and the transitions between states are discrete. The model is based on the outcome of each point in a tennis match. The model transitions between these states [serve, return, rally] based on the probability of transitioning to one of these states before stopping at one of the absorbing states where either the server wins or the returner wins. The model is discrete as the outcome of each point is an absolute value decided based on the transition matrices.\n",
    "\n",
    "##### Why not continuous? \n",
    "Simulating a tennis match using a continuous model is not appropriate for answering my questions because I am only interested in the outcome of each point at the lowest level which is either a win or a loss (tennis does not have ties/draws). A continuous model could have been helpful if I was interested in the score of the match at any given point in time.\n",
    "\n",
    "#### Deterministic vs Stochastic\n",
    "In this markov chain tennis simulation, the model is stochastic as the outcome of each point is determined by a probability distribution. Each player has a skill level in terms of serving and returning, which affects the probability of winning a point. A higher serving level increases the likelihood of winning a point directly (ace) however, if the opponent has a high returning skill this probability is reduced/normalised to account for the opponent's skill level. Each point starts with one of the players serving; from this serving state the model transitions to one of the other possible transient states and the point end when either the server or returner wins a point. Given that each step is probabilistic, the model is stochastic.\n",
    "\n",
    "### Algorithms being used\n"
   ]
  },
  {
   "cell_type": "code",
   "execution_count": 197,
   "metadata": {},
   "outputs": [],
   "source": [
    "%matplotlib inline\n",
    "import numpy as np\n",
    "import matplotlib.pyplot as plt\n",
    "from dataclasses import dataclass"
   ]
  },
  {
   "cell_type": "markdown",
   "metadata": {},
   "source": [
    "### Transition matrix example"
   ]
  },
  {
   "cell_type": "markdown",
   "metadata": {},
   "source": [
    "In my markov chain model, the transition matrix is a 5x5 matrix with the following states/structure:\n",
    "\n",
    "S1: Serve\n",
    "\n",
    "S2: Return\n",
    "\n",
    "S3: Rally\n",
    "\n",
    "S4: Point won by server\n",
    "\n",
    "S5: Point won by returner\n",
    "\n",
    "The transition matrix is as follows:\n",
    "\n",
    "|    | S1 | S2  | S3  | S4   | S5   |\n",
    "|----|----|-----|-----|------|------|\n",
    "| S1 | 0  | 0.6 | 0   | 0.2  | 0.2  |\n",
    "| S2 | 0  | 0   | 0.7 | 0.15 | 0.15 |\n",
    "| S3 | 0  | 0   | 0.5 | 025  | 0.25 |\n",
    "| S4 | 0  | 0   | 0   | 1    | 0    |\n",
    "| S5 | 0  | 0   | 0   | 0    | 1    |\n",
    "\n",
    "\n",
    "And in its canonical form:\n",
    "From this matrix, we can extract the canonical form:\n",
    "\n",
    "$$\n",
    "\\begin{align*}\n",
    "\n",
    "\\begin{pmatrix}\n",
    "Q & R \\\\\n",
    "0 & I \\\\\n",
    "\\end{pmatrix} & =\n",
    "\n",
    "\\begin{pmatrix}\n",
    "0 & 0.6 & 0 & 0.2 & 0.2 \\\\\n",
    "0 & 0 & 0.7 & 0.15 & 0.15 \\\\\n",
    "0 & 0 & 0.5 & 0.25 & 0.25 \\\\\n",
    "0 & 0 & 0 & 1 & 0 \\\\\n",
    "0 & 0 & 0 & 0 & 1 \\\\\n",
    "\\end{pmatrix}\n",
    "\n",
    "\\\\\n",
    "\n",
    "Q & =\n",
    "\\begin{pmatrix}\n",
    "0 & 0.6 & 0 \\\\\n",
    "0 & 0 & 0.7 \\\\\n",
    "0 & 0 & 0.5 \\\\\n",
    "\\end{pmatrix}\n",
    "\n",
    "\n",
    "& R &=\n",
    "\\begin{pmatrix}\n",
    "0.2 & 0.2 \\\\\n",
    "0.15 & 0.15 \\\\\n",
    "0.25 & 0.25 \\\\\n",
    "\\end{pmatrix}\n",
    "\n",
    "\\\\\n",
    "\n",
    "0 & =\n",
    "\\begin{pmatrix}\n",
    "0 & 0 & 0 \\\\\n",
    "0 & 0 & 0 \\\\\n",
    "\\end{pmatrix}\n",
    "\n",
    "\n",
    "& I &=\n",
    "\\begin{pmatrix}\n",
    "1 & 0 \\\\\n",
    "0 & 1 \\\\\n",
    "\\end{pmatrix}\n",
    "\n",
    "\\end{align*}\n",
    "$$\n",
    "\n",
    "Getting the fundamental matrix:\n",
    "\n",
    "$$\n",
    "\\begin{align*}\n",
    "& N = (I - Q)^{-1} \\\\\n",
    "\n",
    "& N = \n",
    "\\begin{pmatrix}\n",
    "1 & -0.6 & 0 \\\\\n",
    "0 & 1 & -0.7 \\\\\n",
    "0 & 0 & 1 \\\\\n",
    "\\end{pmatrix}^{-1} \\\\\n",
    "\n",
    "\n",
    "\\end{align*}\n",
    "$$\n",
    "\n",
    "See below for calculations"
   ]
  },
  {
   "cell_type": "markdown",
   "metadata": {},
   "source": [
    "#### Caluclation for the example transition matrix"
   ]
  },
  {
   "cell_type": "code",
   "execution_count": 198,
   "metadata": {},
   "outputs": [
    {
     "name": "stdout",
     "output_type": "stream",
     "text": [
      "Absorbing states: [3 4]\n",
      "Transient states: [0 1 2]\n"
     ]
    }
   ],
   "source": [
    "M = np.array([\n",
    "    [0, 0.6, 0, 0.2, 0.2],\n",
    "    [0, 0, 0.7, 0.15, 0.15],\n",
    "    [0, 0, 0.5, 0.25, 0.25],\n",
    "    [0, 0 ,0 ,1, 0],\n",
    "    [0, 0, 0, 0, 1]\n",
    "])\n",
    "D = np.diag(M)\n",
    "absorbing, transient = np.where(D==1)[0], np.where(D!=1)[0]\n",
    "print(\"Absorbing states:\", absorbing)  # rows 3 and 4\n",
    "print(\"Transient states:\", transient)  # rows 0, 1, 2"
   ]
  },
  {
   "cell_type": "code",
   "execution_count": 199,
   "metadata": {},
   "outputs": [
    {
     "name": "stdout",
     "output_type": "stream",
     "text": [
      "Expected visits: [2.44 2.4  2.  ]\n",
      "Least visited state: 2\n",
      "Absorbtion time: [2.44 2.4  2.  ]\n",
      "Total time: 6.84\n",
      "Absorbtion probabilities:\n",
      " [[0.5 0.5]\n",
      " [0.5 0.5]\n",
      " [0.5 0.5]]\n"
     ]
    }
   ],
   "source": [
    "Q = M[:3,:3]\n",
    "R = M[:3,3:]\n",
    "N = np.linalg.inv(np.eye(3) - Q) # Fundamental matrix\n",
    "expected_visits = np.sum(N, axis=1)\n",
    "least_visitied = transient[np.argmin(expected_visits)]\n",
    "absorbtion_time = N.dot(np.ones_like(transient))\n",
    "total_time = np.sum(absorbtion_time)\n",
    "# Probability of absoption = B_{ij} = NR\n",
    "absorbtion_probabilities = N.dot(R)  # B = N * R\n",
    "\n",
    "print(\"Expected visits:\", expected_visits)\n",
    "print(\"Least visited state:\", least_visitied)\n",
    "print(\"Absorbtion time:\", absorbtion_time)\n",
    "print(\"Total time:\", total_time)\n",
    "print(\"Absorbtion probabilities:\\n\", absorbtion_probabilities)"
   ]
  },
  {
   "cell_type": "markdown",
   "metadata": {},
   "source": [
    "The probability of reaching a state $M_{ij}$ in $n$ steps is given by $P_{ij}(n) = M^n_{ij}$\n",
    "\n",
    "This formula is useful to examine the probability of reaching a state after a certain number of steps."
   ]
  },
  {
   "cell_type": "code",
   "execution_count": 200,
   "metadata": {},
   "outputs": [
    {
     "name": "stdout",
     "output_type": "stream",
     "text": [
      "P_{ij}^{(1)}:\n",
      " [[0.   0.6  0.   0.2  0.2 ]\n",
      " [0.   0.   0.7  0.15 0.15]\n",
      " [0.   0.   0.5  0.25 0.25]\n",
      " [0.   0.   0.   1.   0.  ]\n",
      " [0.   0.   0.   0.   1.  ]]\n",
      "P_{ij}^{(2)}:\n",
      " [[0.    0.    0.42  0.29  0.29 ]\n",
      " [0.    0.    0.35  0.325 0.325]\n",
      " [0.    0.    0.25  0.375 0.375]\n",
      " [0.    0.    0.    1.    0.   ]\n",
      " [0.    0.    0.    0.    1.   ]]\n",
      "...\n",
      "P_{ij}^{(9)}:\n",
      " [[0.         0.         0.00328125 0.49835937 0.49835937]\n",
      " [0.         0.         0.00273437 0.49863281 0.49863281]\n",
      " [0.         0.         0.00195312 0.49902344 0.49902344]\n",
      " [0.         0.         0.         1.         0.        ]\n",
      " [0.         0.         0.         0.         1.        ]]\n"
     ]
    }
   ],
   "source": [
    "# calculating P_{ij}^{(n)} = M_{ij}^{(n)}\n",
    "P = lambda n: np.linalg.matrix_power(M, n)\n",
    "print(\"P_{ij}^{(1)}:\\n\", P(1))\n",
    "print(\"P_{ij}^{(2)}:\\n\", P(2))\n",
    "print(\"...\")\n",
    "print(\"P_{ij}^{(9)}:\\n\", P(9))"
   ]
  },
  {
   "cell_type": "markdown",
   "metadata": {},
   "source": [
    "We can see that as the number of steps increases, the probability of absorbing into either the server or returner winning increases, and we can also see that the probabilities of those 2 states is approaching 0.5."
   ]
  },
  {
   "cell_type": "markdown",
   "metadata": {},
   "source": [
    "## Section 4: Results\n",
    "\n",
    "### Interpret and analyse my results\n",
    "\n",
    "### How I arrived at my results\n"
   ]
  },
  {
   "cell_type": "markdown",
   "metadata": {},
   "source": [
    "## Section 5: List of algorithms and concepts\n",
    "\n",
    "### Markov chains - how it plays a role in my model"
   ]
  },
  {
   "cell_type": "code",
   "execution_count": 292,
   "metadata": {},
   "outputs": [],
   "source": [
    "def proportional_scaling(arr, max_val=1.0):\n",
    "    arr = np.array(arr)\n",
    "    total = np.sum(arr)\n",
    "    if total == 0:\n",
    "        return arr\n",
    "    # return [max_val * x / total for x in arr]\n",
    "    return max_val * arr / total\n",
    "\n",
    "@dataclass\n",
    "class Player:\n",
    "    Serve: float\n",
    "    Return: float\n",
    "    sets: int = 0\n",
    "    games: int = 0\n",
    "    score: int = 0\n",
    "    wins: int = 0\n",
    "\n",
    "    def __setitem__(self, key, value):\n",
    "        setattr(self, key, value)\n",
    "\n",
    "    def __getitem__(self, item):\n",
    "        return getattr(self, item)"
   ]
  },
  {
   "cell_type": "code",
   "execution_count": 202,
   "metadata": {},
   "outputs": [
    {
     "name": "stdout",
     "output_type": "stream",
     "text": [
      "[[0.         0.33333333 0.         0.5        0.16666667]\n",
      " [0.         0.         0.2        0.6        0.2       ]\n",
      " [0.         0.         0.2        0.6        0.2       ]\n",
      " [0.         0.         0.         1.         0.        ]\n",
      " [0.         0.         0.         0.         1.        ]]\n"
     ]
    }
   ],
   "source": [
    "def create_transition_matrix(server_skill: int, returner_skill: int):\n",
    "    # Ensure skills are between 0 and 1\n",
    "    server_skill = np.clip(server_skill, 0, 1)\n",
    "    returner_skill = np.clip(returner_skill, 0, 1)\n",
    "    \n",
    "    # Probabilities of success for each action\n",
    "    p_return_success = returner_skill\n",
    "    p_serve_win_direct = 1 - returner_skill\n",
    "    p_serve_loss_direct = 1 - server_skill\n",
    "\n",
    "    # Probabilities of failure for each action\n",
    "    p_rally_continue = 1 - np.max([server_skill, returner_skill])\n",
    "    p_server_win = 1 - returner_skill\n",
    "    p_returner_win = 1 - server_skill\n",
    "    p_rally_server_win = 1 - returner_skill\n",
    "    p_rally_returner_win = 1 - server_skill\n",
    "    \n",
    "    # p_server_win, p_returner_win = proportional_scaling([server_skill, returner_skill], p_rally_continue)\n",
    "    # p_rally_server_win, p_rally_returner_win = proportional_scaling([p_server_win, p_returner_win], p_rally_continue)\n",
    "  \n",
    "    \n",
    "    # Transition matrix\n",
    "    transition_matrix = np.array([\n",
    "        proportional_scaling([0.0, p_return_success, 0.0, p_serve_win_direct, p_serve_loss_direct]),  # Serve\n",
    "        proportional_scaling([0.0, 0.0, p_rally_continue, p_server_win, p_returner_win]), # Return\n",
    "        proportional_scaling([0.0, 0.0, p_rally_continue, p_rally_server_win, p_rally_returner_win ]), # Rally\n",
    "        [0.0, 0.0, 0.0, 1.0, 0.0],   # Point Won by Server (Terminal)\n",
    "        [0.0, 0.0, 0.0, 0.0, 1.0]    # Point Won by Returner (Terminal)\n",
    "    ])\n",
    "    \n",
    "    return transition_matrix\n",
    "\n",
    "def create_transition_matrices(player1: Player, player2: Player):\n",
    "    # Transition matrix for player 1 serving\n",
    "    transition_matrix_serve_p1 = create_transition_matrix(player1.Serve, player2.Return)\n",
    "    # Transition matrix for player 2 serving\n",
    "    transition_matrix_serve_p2 = create_transition_matrix(player2.Serve, player1.Return)\n",
    "    return transition_matrix_serve_p1, transition_matrix_serve_p2\n",
    "\n",
    "# Example usage:\n",
    "server_skill = 0.8  # High skill server\n",
    "returner_skill = 0.4  # Moderate skill returner\n",
    "\n",
    "transition_matrix = create_transition_matrix(server_skill, returner_skill)\n",
    "print(transition_matrix)\n"
   ]
  },
  {
   "cell_type": "code",
   "execution_count": 203,
   "metadata": {},
   "outputs": [],
   "source": [
    "states = [\"Serve\", \"Return\", \"Rally\", \"Point Won by Server\", \"Point Won by Returner\"]\n",
    "\n",
    "def simulate_point(transition_matrix, initial_state=0):\n",
    "    current_state = initial_state\n",
    "    steps = 0\n",
    "    while current_state < 3:\n",
    "        current_state = np.random.choice(range(5), p=transition_matrix[current_state])\n",
    "        steps += 1\n",
    "    return current_state, steps\n",
    "\n",
    "def simulate_game(player1, player2, transition_matrices, current_server=None):\n",
    "    player1[\"score\"] = 0\n",
    "    player2[\"score\"] = 0\n",
    "    current_server = np.random.choice([0, 1]) if current_server is None else current_server\n",
    "    while True:\n",
    "        current_server = 1 - current_server\n",
    "        winner, _ = simulate_point(transition_matrices[current_server])\n",
    "        if current_server == 0:\n",
    "            player1[\"score\"] += 1 if winner == 3 else 0\n",
    "            player2[\"score\"] += 1 if winner == 4 else 0\n",
    "        else:\n",
    "            player1[\"score\"] += 1 if winner == 4 else 0\n",
    "            player2[\"score\"] += 1 if winner == 3 else 0\n",
    "        \n",
    "        if player1[\"score\"] >= 4 and player1[\"score\"] >= player2[\"score\"] + 2:\n",
    "            break\n",
    "        if player2[\"score\"] >= 4 and player2[\"score\"] >= player1[\"score\"] + 2:\n",
    "            break\n",
    "            \n",
    "\n",
    "    return player1[\"score\"], player2[\"score\"]\n",
    "\n",
    "def simulate_set(player1, player2, transition_matrices):\n",
    "    player1[\"games\"] = 0\n",
    "    player2[\"games\"] = 0\n",
    "    while True:\n",
    "        score = simulate_game(player1, player2, transition_matrices)\n",
    "        winner = 0 if score[0] > score[1] else 1\n",
    "        player1[\"games\"] += 1 if winner == 0 else 0\n",
    "        player2[\"games\"] += 1 if winner == 1 else 0\n",
    "        \n",
    "        # if 6 all, play tiebreak\n",
    "        if player1[\"games\"] == 6 and player2[\"games\"] == 6:\n",
    "            score = simulate_game(player1, player2, transition_matrices, current_server=winner)\n",
    "            winner = 0 if score[0] > score[1] else 1\n",
    "            player1[\"games\"] += 1 if winner == 0 else 0\n",
    "            player2[\"games\"] += 1 if winner == 1 else 0\n",
    "            break\n",
    "\n",
    "        if player1[\"games\"] >= 6 and player1[\"games\"] >= player2[\"games\"] + 2:\n",
    "            break\n",
    "        if player2[\"games\"] >= 6 and player2[\"games\"] >= player1[\"games\"] + 2:\n",
    "            break\n",
    "\n",
    "    return player1[\"games\"], player2[\"games\"]\n",
    "\n",
    "def simulate_match(player1, player2, transition_matrices, best_of=3):\n",
    "    player1[\"sets\"] = 0\n",
    "    player2[\"sets\"] = 0\n",
    "    required_sets = (best_of + 1) // 2\n",
    "\n",
    "    while True:\n",
    "        score = simulate_set(player1, player2, transition_matrices)\n",
    "        winner = 0 if score[0] > score[1] else 1\n",
    "        player1[\"sets\"] += 1 if winner == 0 else 0\n",
    "        player2[\"sets\"] += 1 if winner == 1 else 0\n",
    "\n",
    "        if player1[\"sets\"] >= required_sets:\n",
    "            break\n",
    "        if player2[\"sets\"] >= required_sets:\n",
    "            break\n",
    "\n",
    "    return player1[\"sets\"], player2[\"sets\"]\n"
   ]
  },
  {
   "cell_type": "code",
   "execution_count": 279,
   "metadata": {},
   "outputs": [
    {
     "data": {
      "image/png": "[encoded data removed]",
      "text/plain": [
       "<Figure size 432x288 with 1 Axes>"
      ]
     },
     "metadata": {
      "needs_background": "light"
     },
     "output_type": "display_data"
    }
   ],
   "source": [
    "stats = {\n",
    "    \"Player 1\": 0,\n",
    "    \"Player 2\": 0,\n",
    "}\n",
    "\n",
    "for _ in range(10000):\n",
    "    simulation = simulate_point(M)\n",
    "    stats[\"Player 1\"] += 1 if simulation[0] == 3 else 0\n",
    "    stats[\"Player 2\"] += 1 if simulation[0] == 4 else 0\n",
    "\n",
    "plt.bar(stats.keys(), stats.values())\n",
    "plt.xlabel(\"Players\")\n",
    "plt.ylabel(\"Number of Points Won\")\n",
    "plt.title(\"Player 1 vs Player 2 based on example transition matrix M\")\n",
    "for key, value in stats.items():\n",
    "    plt.text(key, value, str(value), ha=\"center\")\n",
    "plt.show()"
   ]
  },
  {
   "cell_type": "code",
   "execution_count": 204,
   "metadata": {},
   "outputs": [
    {
     "data": {
      "text/plain": [
       "(2, 1)"
      ]
     },
     "execution_count": 204,
     "metadata": {},
     "output_type": "execute_result"
    }
   ],
   "source": [
    "player1 = Player(0.7, 0.8)\n",
    "player2 = Player(0.9, 0.4)\n",
    "transition_matrices = create_transition_matrices(player1, player2)\n",
    "simulate_match(player1, player2, transition_matrices)   "
   ]
  },
  {
   "cell_type": "code",
   "execution_count": 304,
   "metadata": {},
   "outputs": [
    {
     "name": "stdout",
     "output_type": "stream",
     "text": [
      "[Player(Serve=0.9, Return=0.4, sets=2, games=7, score=4, wins=3)]\n"
     ]
    },
    {
     "data": {
      "text/plain": [
       "[Player(Serve=0.7, Return=0.8, sets=1, games=6, score=4, wins=0),\n",
       " Player(Serve=0.9, Return=0.4, sets=2, games=7, score=4, wins=3),\n",
       " Player(Serve=0.6, Return=0.6, sets=1, games=4, score=3, wins=1),\n",
       " Player(Serve=0.5, Return=0.5, sets=0, games=2, score=1, wins=0),\n",
       " Player(Serve=0.8, Return=0.7, sets=1, games=4, score=1, wins=0),\n",
       " Player(Serve=0.4, Return=0.9, sets=0, games=6, score=2, wins=2),\n",
       " Player(Serve=0.6, Return=0.6, sets=0, games=1, score=2, wins=1),\n",
       " Player(Serve=0.5, Return=0.5, sets=0, games=4, score=3, wins=0)]"
      ]
     },
     "execution_count": 304,
     "metadata": {},
     "output_type": "execute_result"
    }
   ],
   "source": [
    "class SingleEliminationTournament:\n",
    "    def __init__(self, players, best_of=3):\n",
    "        self.players = players\n",
    "        self.best_of = best_of\n",
    "        self.results = None\n",
    "\n",
    "    def simulate_round(self):\n",
    "        winners = []\n",
    "        for i in range(0, len(self.results), 2):\n",
    "            player1, player2 = self.results[i], self.results[i + 1]\n",
    "            transition_matrices = create_transition_matrices(player1, player2)\n",
    "            winner = simulate_match(player1, player2, transition_matrices, best_of=self.best_of)\n",
    "            winners.append(self.results[i] if winner[0] > winner[1] else self.results[i + 1])\n",
    "        self.results = winners\n",
    "    \n",
    "    def simulate(self):\n",
    "        self.results = self.players\n",
    "        while len(self.results) > 1:\n",
    "            self.simulate_round()\n",
    "            # for each winner, add 1 to their wins\n",
    "            for player in self.results:\n",
    "                player[\"wins\"] += 1\n",
    "\n",
    "        print(self.results)\n",
    "    \n",
    "        \n",
    "\n",
    "players = [\n",
    "    Player(0.7, 0.8),\n",
    "    Player(0.9, 0.4),\n",
    "    Player(0.6, 0.6),\n",
    "    Player(0.5, 0.5),\n",
    "    Player(0.8, 0.7),\n",
    "    Player(0.4, 0.9),\n",
    "    Player(0.6, 0.6),\n",
    "    Player(0.5, 0.5),\n",
    "]\n",
    "\n",
    "tournament = SingleEliminationTournament(players, best_of=3)\n",
    "tournament.simulate()\n",
    "tournament.players"
   ]
  },
  {
   "cell_type": "code",
   "execution_count": 206,
   "metadata": {},
   "outputs": [],
   "source": [
    "player1 = Player(0.7, 0.8)\n",
    "player2 = Player(0.9, 0.4)\n",
    "\n",
    "# simulate a point many times\n",
    "def _monte_carlo_point(player1, player2, reps=1000):\n",
    "    winner_player1_serving = {\n",
    "        \"player1\": 0,\n",
    "        \"player2\": 0\n",
    "    }\n",
    "    winner_player2_serving = {\n",
    "        \"player1\": 0,\n",
    "        \"player2\": 0\n",
    "    }\n",
    "    transition_matrices = create_transition_matrices(player1, player2)\n",
    "    \n",
    "    for _ in range(reps):\n",
    "        winner1, _ = simulate_point(transition_matrices[0])\n",
    "        winner2, _ = simulate_point(transition_matrices[1])\n",
    "\n",
    "        # winner 1 is when player 1 serves\n",
    "        winner_player1_serving[\"player1\"] += 1 if winner1 == 3 else 0\n",
    "        winner_player1_serving[\"player2\"] += 1 if winner1 == 4 else 0\n",
    "\n",
    "        # winner 2 is when player 2 serves\n",
    "        winner_player2_serving[\"player1\"] += 1 if winner2 == 4 else 0\n",
    "        winner_player2_serving[\"player2\"] += 1 if winner2 == 3 else 0\n",
    "    return \"point\", winner_player1_serving, winner_player2_serving\n",
    "\n",
    "# simulate a set many times\n",
    "def _monte_carlo_game(player1, player2, reps=1000):\n",
    "    winner_player1 = {\n",
    "        \"player1\": 0,\n",
    "        \"player2\": 0\n",
    "    }\n",
    "    winner_player2 = {\n",
    "        \"player1\": 0,\n",
    "        \"player2\": 0\n",
    "    }\n",
    "    transition_matrices = create_transition_matrices(player1, player2)\n",
    "    for _ in range(reps):\n",
    "        winner1 = simulate_game(player1, player2, transition_matrices)\n",
    "        winner2 = simulate_game(player2, player1, transition_matrices)\n",
    "\n",
    "        winner_player1[\"player1\"] += 1 if winner1[0] > winner1[1] else 0\n",
    "        winner_player1[\"player2\"] += 1 if winner1[0] < winner1[1] else 0\n",
    "\n",
    "        winner_player2[\"player2\"] += 1 if winner2[0] > winner2[1] else 0\n",
    "        winner_player2[\"player1\"] += 1 if winner2[0] < winner2[1] else 0\n",
    "\n",
    "    return \"set\", winner_player1, winner_player2\n",
    "\n",
    "# simulate a game many times\n",
    "def _monte_carlo_set(player1, player2, reps=1000):\n",
    "    winners = {\n",
    "        \"player1\": 0,\n",
    "        \"player2\": 0\n",
    "    }\n",
    "    transition_matrices = create_transition_matrices(player1, player2)\n",
    "    \n",
    "    for _ in range(reps):\n",
    "        winner = simulate_set(player1, player2, transition_matrices)\n",
    "        winners[\"player1\"] += 1 if winner[0] > winner[1] else 0\n",
    "        winners[\"player2\"] += 1 if winner[0] < winner[1] else 0\n",
    "\n",
    "    return \"game\", winners\n",
    "\n",
    "# simulate a match many times\n",
    "def _monte_carlo_match(player1, player2, reps=1000, best_of=3):\n",
    "    winners = {\n",
    "        \"player1\": 0,\n",
    "        \"player2\": 0\n",
    "    }\n",
    "    transition_matrices = create_transition_matrices(player1, player2)\n",
    "    \n",
    "    for _ in range(reps):\n",
    "        winner = simulate_match(player1, player2, transition_matrices, best_of=best_of)\n",
    "        winners[\"player1\"] += 1 if winner[0] > winner[1] else 0\n",
    "        winners[\"player2\"] += 1 if winner[0] < winner[1] else 0\n",
    "\n",
    "    return \"match\", winners\n",
    "\n",
    "def plot_monte_carlo_simulation(player1: Player, player2: Player, function, reps=1000) -> None:\n",
    "    winners = function(player1, player2, reps)\n",
    "\n",
    "    if len(winners) == 3:\n",
    "        text, winner_player1_serving, winner_player2_serving = winners\n",
    "        fig, ax = plt.subplots(1, 2, figsize=(10, 5))\n",
    "        fig.suptitle(f\"Monte Carlo Simulation of a {text}\")\n",
    "        ax[0].bar(winner_player1_serving.keys(), winner_player1_serving.values())\n",
    "        ax[0].bar_label(ax[0].containers[0])\n",
    "        ax[0].set_title(\"Player 1 Serving\")\n",
    "        ax[0].set_xlabel(\"Winner\")\n",
    "        ax[0].set_ylabel(\"Frequency\")\n",
    "\n",
    "        ax[1].bar(winner_player2_serving.keys(), winner_player2_serving.values())\n",
    "        ax[1].bar_label(ax[1].containers[0])\n",
    "        ax[1].set_title(\"Player 2 Serving\")\n",
    "        ax[1].set_xlabel(\"Winner\")\n",
    "        ax[1].set_ylabel(\"Frequency\")\n",
    "        plt.show()\n",
    "\n",
    "    elif len(winners) == 2:\n",
    "        text, winners = winners\n",
    "        fig, ax = plt.subplots()\n",
    "        fig.suptitle(f\"Monte Carlo Simulation of a {text}\")\n",
    "        ax.bar(winners.keys(), winners.values())\n",
    "        ax.bar_label(ax.containers[0])\n",
    "        ax.set_title(text)\n",
    "        ax.set_xlabel(\"Winner\")\n",
    "        ax.set_ylabel(\"Frequency\")\n",
    "        plt.show()\n",
    "  "
   ]
  },
  {
   "cell_type": "code",
   "execution_count": 207,
   "metadata": {},
   "outputs": [
    {
     "data": {
      "image/png": "[encoded data removed]",
      "text/plain": [
       "<Figure size 720x360 with 2 Axes>"
      ]
     },
     "metadata": {
      "needs_background": "light"
     },
     "output_type": "display_data"
    }
   ],
   "source": [
    "plot_monte_carlo_simulation(player1, player2, _monte_carlo_point)"
   ]
  },
  {
   "cell_type": "code",
   "execution_count": 208,
   "metadata": {},
   "outputs": [
    {
     "data": {
      "image/png": "[encoded data removed]",
      "text/plain": [
       "<Figure size 720x360 with 2 Axes>"
      ]
     },
     "metadata": {
      "needs_background": "light"
     },
     "output_type": "display_data"
    }
   ],
   "source": [
    "plot_monte_carlo_simulation(player1, player2, _monte_carlo_game)"
   ]
  },
  {
   "cell_type": "code",
   "execution_count": 214,
   "metadata": {},
   "outputs": [
    {
     "data": {
      "image/png": "[encoded data removed]",
      "text/plain": [
       "<Figure size 432x288 with 1 Axes>"
      ]
     },
     "metadata": {
      "needs_background": "light"
     },
     "output_type": "display_data"
    }
   ],
   "source": [
    "plot_monte_carlo_simulation(player1, player2, _monte_carlo_set)"
   ]
  },
  {
   "cell_type": "code",
   "execution_count": 215,
   "metadata": {},
   "outputs": [
    {
     "data": {
      "image/png": "[encoded data removed]",
      "text/plain": [
       "<Figure size 432x288 with 1 Axes>"
      ]
     },
     "metadata": {
      "needs_background": "light"
     },
     "output_type": "display_data"
    }
   ],
   "source": [
    "plot_monte_carlo_simulation(player1, player2, _monte_carlo_match)"
   ]
  },
  {
   "cell_type": "code",
   "execution_count": 211,
   "metadata": {},
   "outputs": [
    {
     "data": {
      "image/png": "[encoded data removed]",
      "text/plain": [
       "<Figure size 432x288 with 1 Axes>"
      ]
     },
     "metadata": {
      "needs_background": "light"
     },
     "output_type": "display_data"
    }
   ],
   "source": [
    "# plot monte carlo mathc with best of 5\n",
    "plot_monte_carlo_simulation(player1, player2, lambda x, y, z: _monte_carlo_match(x, y, z, best_of=5))"
   ]
  },
  {
   "cell_type": "code",
   "execution_count": 212,
   "metadata": {},
   "outputs": [
    {
     "name": "stderr",
     "output_type": "stream",
     "text": [
      "C:\\Users\\rishi\\AppData\\Local\\Temp\\ipykernel_49220\\3852250018.py:29: UserWarning: FigureCanvasAgg is non-interactive, and thus cannot be shown\n",
      "  fig.show()\n"
     ]
    },
    {
     "data": {
      "image/png": "[encoded data removed]",
      "text/plain": [
       "<Figure size 432x288 with 1 Axes>"
      ]
     },
     "metadata": {
      "needs_background": "light"
     },
     "output_type": "display_data"
    }
   ],
   "source": [
    "# showing that serve + return / 2 gives apprxiately the same result\n",
    "players = np.array([\n",
    "    Player(0.7, 0.8),\n",
    "    Player(0.9, 0.4),\n",
    "    Player(0.6, 0.6),\n",
    "    Player(0.5, 0.5),\n",
    "])\n",
    "\n",
    "player_skill_level = np.vectorize(lambda x: (x.Serve + x.Return) / 2)(players)\n",
    "p=proportional_scaling(player_skill_level)\n",
    "sims=100000\n",
    "winners = np.zeros(sims)\n",
    "\n",
    "for i in range(sims):\n",
    "    winner = np.random.choice(range(len(players)), p=p)\n",
    "    winners[i] = winner\n",
    "\n",
    "# change winners keys to player number\n",
    "unique, counts = np.unique(winners, return_counts=True)\n",
    "winners = dict(zip(unique, counts))\n",
    "\n",
    "fig, ax = plt.subplots()\n",
    "fig.suptitle(\"Monte Carlo Simulation of a Match\")\n",
    "ax.bar(winners.keys(), winners.values())\n",
    "ax.bar_label(ax.containers[0])\n",
    "ax.set_title(\"Match\")\n",
    "ax.set_xlabel(\"Winner\")\n",
    "ax.set_ylabel(\"Frequency\")\n",
    "fig.show()\n"
   ]
  },
  {
   "cell_type": "code",
   "execution_count": 213,
   "metadata": {},
   "outputs": [
    {
     "data": {
      "image/png": "[encoded data removed]",
      "text/plain": [
       "<Figure size 432x288 with 1 Axes>"
      ]
     },
     "metadata": {
      "needs_background": "light"
     },
     "output_type": "display_data"
    }
   ],
   "source": [
    "# Montecarlo simulation\n",
    "# let the skill level of the players be server + return / 2\n",
    "\n",
    "simulations = 100000\n",
    "players = []\n",
    "for _ in range(100):\n",
    "    player = {\n",
    "        \"Serve\": np.random.random(),\n",
    "        \"Return\": np.random.random()\n",
    "    }\n",
    "    players.append(player)\n",
    "\n",
    "player_skill_level = [(p[\"Serve\"] + p[\"Return\"]) / 2 for p in players]\n",
    "# player skill level determines the probability of winning a point\n",
    "# plot a histogram showing which player won the most points\n",
    "\n",
    "winners = []\n",
    "for _ in range(simulations):\n",
    "    winner = np.random.choice(range(100), p=proportional_scaling(player_skill_level))\n",
    "    winners.append(winner)\n",
    "\n",
    "# plot skill level vs number of wins\n",
    "plt.scatter(player_skill_level, [winners.count(i) for i in range(100)])\n",
    "plt.xlabel(\"Skill Level\")\n",
    "plt.ylabel(\"Wins\")\n",
    "plt.show()"
   ]
  }
 ],
 "metadata": {
  "kernelspec": {
   "display_name": "Python 3",
   "language": "python",
   "name": "python3"
  },
  "language_info": {
   "codemirror_mode": {
    "name": "ipython",
    "version": 3
   },
   "file_extension": ".py",
   "mimetype": "text/x-python",
   "name": "python",
   "nbconvert_exporter": "python",
   "pygments_lexer": "ipython3",
   "version": "3.10.0"
  }
 },
 "nbformat": 4,
 "nbformat_minor": 2
}
