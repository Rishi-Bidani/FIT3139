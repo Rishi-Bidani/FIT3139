{
 "cells": [
  {
   "cell_type": "markdown",
   "metadata": {},
   "source": [
    "# FIT3139 Final Project"
   ]
  },
  {
   "cell_type": "markdown",
   "metadata": {},
   "source": [
    "## Specification table\n",
    "|||\n",
    "|------------|---|\n",
    "| Base Model | Markov chains |\n",
    "| Extension assumpion |  |\n",
    "| Techniques showcaed | |\n",
    "| Modelling question 1 | |\n",
    "| Modelling question 2 | |"
   ]
  },
  {
   "cell_type": "code",
   "execution_count": 67,
   "metadata": {},
   "outputs": [],
   "source": [
    "import numpy as np\n",
    "import matplotlib.pyplot as plt"
   ]
  },
  {
   "cell_type": "code",
   "execution_count": 68,
   "metadata": {},
   "outputs": [],
   "source": [
    "p = 0.5\n",
    "M = np.array([\n",
    "    [0, p, 1-p, 0, 0, 0, 0, 0, 0, 0, 0, 0, 0, 0, 0, 0, 0], # (0, 0)- 0\n",
    "    [0, 0, 0, p, 1-p, 0, 0, 0, 0, 0, 0, 0, 0, 0, 0, 0, 0], # (15, 0)- 1\n",
    "    [0, 0, 0, 0, p, 1-p, 0, 0, 0, 0, 0, 0, 0, 0, 0, 0, 0], # (0, 15)- 2\n",
    "    [0, 0, 0, 0, 0, 0, p, 1-p, 0, 0, 0, 0, 0, 0, 0, 0, 0], # (30, 0)- 3\n",
    "    [0, 0, 0, 0, 0, 0, 0, p, 1-p, 0, 0, 0, 0, 0, 0, 0, 0], # (15, 15)- 4\n",
    "    [0, 0, 0, 0, 0, 0, 0, 0, p, 1-p, 0, 0, 0, 0, 0, 0, 0], # (0, 30)- 5\n",
    "    [0, 0, 0, 0, 0, 0, 0, 0, 0, 0, 1-p, 0, p, 0, 0, 0, 0], # (40, 0)- 6\n",
    "    [0, 0, 0, 0, 0, 0, 0, 0, 0, 0, p, 0, 0, 0, 1-p, 0, 0], # (30, 15)- 7\n",
    "    [0, 0, 0, 0, 0, 0, 0, 0, 0, 0, 0, 1-p, 0, 0, p, 0, 0], # (15, 30)- 8\n",
    "    [0, 0, 0, 0, 0, 0, 0, 0, 0, 0, 0, p, 0, 0, 0, 0, 1-p], # (0, 40)- 9\n",
    "    [0, 0, 0, 0, 0, 0, 0, 0, 0, 0, 0, 0, p, 1-p, 0, 0, 0], # (40, 15)- 10\n",
    "    [0, 0, 0, 0, 0, 0, 0, 0, 0, 0, 0, 0, 0, 0, 0, p, 1-p], # (15, 40)- 11\n",
    "    [0, 0, 0, 0, 0, 0, 0, 0, 0, 0, 0, 0, 1, 0, 0, 0, 0], # (Win, 0)- 12\n",
    "    [0, 0, 0, 0, 0, 0, 0, 0, 0, 0, 0, 0, p, 0, 1-p, 0, 0], # (40, 30)- 13 <-␣\n",
    "    [0, 0, 0, 0, 0, 0, 0, 0, 0, 0, 0, 0, 0, p, 0, 1-p, 0], # (30, 30)- 14 <-␣\n",
    "    [0, 0, 0, 0, 0, 0, 0, 0, 0, 0, 0, 0, 0, 0, p, 0, 1-p], # (30, 40)- 15 <-␣\n",
    "    [0, 0, 0, 0, 0, 0, 0, 0, 0, 0, 0, 0, 0, 0, 0, 0, 1], # (0, Win)- 16\n",
    "])"
   ]
  },
  {
   "cell_type": "code",
   "execution_count": 69,
   "metadata": {},
   "outputs": [],
   "source": [
    "def extract_canonical_components(M):\n",
    "    D = np.diag(M)\n",
    "    absorbing, transient = np.where(D==1)[0], np.where(D!=1)[0]\n",
    "    I = M[absorbing, :][:, absorbing]\n",
    "    Q = M[transient, :][:, transient]\n",
    "    R = M[transient, :][:, absorbing]\n",
    "    O = M[absorbing, :][:, transient]\n",
    "    return I, Q, R, O, absorbing, transient"
   ]
  },
  {
   "cell_type": "code",
   "execution_count": 70,
   "metadata": {},
   "outputs": [
    {
     "data": {
      "text/plain": [
       "(array([[0. , 0.5, 0.5, 0. , 0. , 0. , 0. , 0. , 0. , 0. , 0. , 0. , 0. ,\n",
       "         0. , 0. ],\n",
       "        [0. , 0. , 0. , 0.5, 0.5, 0. , 0. , 0. , 0. , 0. , 0. , 0. , 0. ,\n",
       "         0. , 0. ],\n",
       "        [0. , 0. , 0. , 0. , 0.5, 0.5, 0. , 0. , 0. , 0. , 0. , 0. , 0. ,\n",
       "         0. , 0. ],\n",
       "        [0. , 0. , 0. , 0. , 0. , 0. , 0.5, 0.5, 0. , 0. , 0. , 0. , 0. ,\n",
       "         0. , 0. ],\n",
       "        [0. , 0. , 0. , 0. , 0. , 0. , 0. , 0.5, 0.5, 0. , 0. , 0. , 0. ,\n",
       "         0. , 0. ],\n",
       "        [0. , 0. , 0. , 0. , 0. , 0. , 0. , 0. , 0.5, 0.5, 0. , 0. , 0. ,\n",
       "         0. , 0. ],\n",
       "        [0. , 0. , 0. , 0. , 0. , 0. , 0. , 0. , 0. , 0. , 0.5, 0. , 0. ,\n",
       "         0. , 0. ],\n",
       "        [0. , 0. , 0. , 0. , 0. , 0. , 0. , 0. , 0. , 0. , 0.5, 0. , 0. ,\n",
       "         0.5, 0. ],\n",
       "        [0. , 0. , 0. , 0. , 0. , 0. , 0. , 0. , 0. , 0. , 0. , 0.5, 0. ,\n",
       "         0.5, 0. ],\n",
       "        [0. , 0. , 0. , 0. , 0. , 0. , 0. , 0. , 0. , 0. , 0. , 0.5, 0. ,\n",
       "         0. , 0. ],\n",
       "        [0. , 0. , 0. , 0. , 0. , 0. , 0. , 0. , 0. , 0. , 0. , 0. , 0.5,\n",
       "         0. , 0. ],\n",
       "        [0. , 0. , 0. , 0. , 0. , 0. , 0. , 0. , 0. , 0. , 0. , 0. , 0. ,\n",
       "         0. , 0.5],\n",
       "        [0. , 0. , 0. , 0. , 0. , 0. , 0. , 0. , 0. , 0. , 0. , 0. , 0. ,\n",
       "         0.5, 0. ],\n",
       "        [0. , 0. , 0. , 0. , 0. , 0. , 0. , 0. , 0. , 0. , 0. , 0. , 0.5,\n",
       "         0. , 0.5],\n",
       "        [0. , 0. , 0. , 0. , 0. , 0. , 0. , 0. , 0. , 0. , 0. , 0. , 0. ,\n",
       "         0.5, 0. ]]),\n",
       " array([12, 16], dtype=int64),\n",
       " array([ 0,  1,  2,  3,  4,  5,  6,  7,  8,  9, 10, 11, 13, 14, 15],\n",
       "       dtype=int64))"
      ]
     },
     "execution_count": 70,
     "metadata": {},
     "output_type": "execute_result"
    }
   ],
   "source": [
    "I, Q, R, O, absorbing, transient = extract_canonical_components(M)\n",
    "Q, absorbing, transient"
   ]
  },
  {
   "cell_type": "code",
   "execution_count": 71,
   "metadata": {},
   "outputs": [],
   "source": [
    "def fundamental_matrix(M):\n",
    "    I, Q, R, O, absorbing, transient = extract_canonical_components(M)\n",
    "    N = np.linalg.inv(np.eye(len(Q))-Q)\n",
    "    return N, transient"
   ]
  },
  {
   "cell_type": "code",
   "execution_count": 72,
   "metadata": {},
   "outputs": [
    {
     "data": {
      "text/plain": [
       "array([[1.    , 0.5   , 0.5   , 0.25  , 0.5   , 0.25  , 0.125 , 0.375 ,\n",
       "        0.375 , 0.125 , 0.25  , 0.25  , 0.625 , 1.    , 0.625 ],\n",
       "       [0.    , 1.    , 0.    , 0.5   , 0.5   , 0.    , 0.25  , 0.5   ,\n",
       "        0.25  , 0.    , 0.375 , 0.125 , 0.6875, 1.    , 0.5625],\n",
       "       [0.    , 0.    , 1.    , 0.    , 0.5   , 0.5   , 0.    , 0.25  ,\n",
       "        0.5   , 0.25  , 0.125 , 0.375 , 0.5625, 1.    , 0.6875],\n",
       "       [0.    , 0.    , 0.    , 1.    , 0.    , 0.    , 0.5   , 0.5   ,\n",
       "        0.    , 0.    , 0.5   , 0.    , 0.625 , 0.75  , 0.375 ],\n",
       "       [0.    , 0.    , 0.    , 0.    , 1.    , 0.    , 0.    , 0.5   ,\n",
       "        0.5   , 0.    , 0.25  , 0.25  , 0.75  , 1.25  , 0.75  ],\n",
       "       [0.    , 0.    , 0.    , 0.    , 0.    , 1.    , 0.    , 0.    ,\n",
       "        0.5   , 0.5   , 0.    , 0.5   , 0.375 , 0.75  , 0.625 ],\n",
       "       [0.    , 0.    , 0.    , 0.    , 0.    , 0.    , 1.    , 0.    ,\n",
       "        0.    , 0.    , 0.5   , 0.    , 0.375 , 0.25  , 0.125 ],\n",
       "       [0.    , 0.    , 0.    , 0.    , 0.    , 0.    , 0.    , 1.    ,\n",
       "        0.    , 0.    , 0.5   , 0.    , 0.875 , 1.25  , 0.625 ],\n",
       "       [0.    , 0.    , 0.    , 0.    , 0.    , 0.    , 0.    , 0.    ,\n",
       "        1.    , 0.    , 0.    , 0.5   , 0.625 , 1.25  , 0.875 ],\n",
       "       [0.    , 0.    , 0.    , 0.    , 0.    , 0.    , 0.    , 0.    ,\n",
       "        0.    , 1.    , 0.    , 0.5   , 0.125 , 0.25  , 0.375 ],\n",
       "       [0.    , 0.    , 0.    , 0.    , 0.    , 0.    , 0.    , 0.    ,\n",
       "        0.    , 0.    , 1.    , 0.    , 0.75  , 0.5   , 0.25  ],\n",
       "       [0.    , 0.    , 0.    , 0.    , 0.    , 0.    , 0.    , 0.    ,\n",
       "        0.    , 0.    , 0.    , 1.    , 0.25  , 0.5   , 0.75  ],\n",
       "       [0.    , 0.    , 0.    , 0.    , 0.    , 0.    , 0.    , 0.    ,\n",
       "        0.    , 0.    , 0.    , 0.    , 1.5   , 1.    , 0.5   ],\n",
       "       [0.    , 0.    , 0.    , 0.    , 0.    , 0.    , 0.    , 0.    ,\n",
       "        0.    , 0.    , 0.    , 0.    , 1.    , 2.    , 1.    ],\n",
       "       [0.    , 0.    , 0.    , 0.    , 0.    , 0.    , 0.    , 0.    ,\n",
       "        0.    , 0.    , 0.    , 0.    , 0.5   , 1.    , 1.5   ]])"
      ]
     },
     "execution_count": 72,
     "metadata": {},
     "output_type": "execute_result"
    }
   ],
   "source": [
    "N, transient = fundamental_matrix(M)\n",
    "N"
   ]
  },
  {
   "cell_type": "code",
   "execution_count": 73,
   "metadata": {},
   "outputs": [
    {
     "data": {
      "text/plain": [
       "(array([6.75, 5.75, 5.75, 4.25, 5.25, 4.25, 2.25, 4.25, 4.25, 2.25, 2.5 ,\n",
       "        2.5 , 3.  , 4.  , 3.  ]),\n",
       " 60.0)"
      ]
     },
     "execution_count": 73,
     "metadata": {},
     "output_type": "execute_result"
    }
   ],
   "source": [
    "absorbtion_times = np.dot(N, np.ones(len(N)))\n",
    "total_time = np.sum(absorbtion_times)\n",
    "absorbtion_times, total_time"
   ]
  },
  {
   "cell_type": "code",
   "execution_count": 74,
   "metadata": {},
   "outputs": [
    {
     "data": {
      "text/plain": [
       "array([[0.5    , 0.5    ],\n",
       "       [0.65625, 0.34375],\n",
       "       [0.34375, 0.65625],\n",
       "       [0.8125 , 0.1875 ],\n",
       "       [0.5    , 0.5    ],\n",
       "       [0.1875 , 0.8125 ],\n",
       "       [0.9375 , 0.0625 ],\n",
       "       [0.6875 , 0.3125 ],\n",
       "       [0.3125 , 0.6875 ],\n",
       "       [0.0625 , 0.9375 ],\n",
       "       [0.875  , 0.125  ],\n",
       "       [0.125  , 0.875  ],\n",
       "       [0.75   , 0.25   ],\n",
       "       [0.5    , 0.5    ],\n",
       "       [0.25   , 0.75   ]])"
      ]
     },
     "execution_count": 74,
     "metadata": {},
     "output_type": "execute_result"
    }
   ],
   "source": [
    "absorbtion_probabilities = np.dot(N, R)\n",
    "absorbtion_probabilities"
   ]
  },
  {
   "cell_type": "code",
   "execution_count": 75,
   "metadata": {},
   "outputs": [],
   "source": [
    "def simulate_game(M, p, max_iter=100):\n",
    "    pos = [0]\n",
    "    for i in range(max_iter):\n",
    "        pos_next = np.random.choice(len(M), p=M[pos[-1]])\n",
    "    if pos_next == pos[-1]:\n",
    "        return pos + [pos_next]\n",
    "    else:\n",
    "        pos += [pos_next]\n",
    "    return-1"
   ]
  },
  {
   "cell_type": "code",
   "execution_count": 76,
   "metadata": {},
   "outputs": [
    {
     "data": {
      "text/plain": [
       "-1"
      ]
     },
     "execution_count": 76,
     "metadata": {},
     "output_type": "execute_result"
    }
   ],
   "source": [
    "simulate_game(M, p=0.5)"
   ]
  },
  {
   "cell_type": "code",
   "execution_count": 77,
   "metadata": {},
   "outputs": [],
   "source": [
    "def monte_carlo(M, p, max_iter=100, reps=100, verbose=False):\n",
    "    ties = 0\n",
    "    winners = []\n",
    "    final_transients = []\n",
    "    game_lengths = []\n",
    "    for i in range(reps):\n",
    "        if verbose: \n",
    "            print('Simulating game {0}'.format(i))\n",
    "        game = simulate_game(M=M, p=p, max_iter=max_iter)\n",
    "        tie = (type(game) in [int])\n",
    "        if verbose: \n",
    "            print('Game was {0} a tie'.format((1-tie)*'not'))\n",
    "        ties += tie\n",
    "        if not tie:\n",
    "            winners += [game[-1]]\n",
    "            final_transients += [game[-3]]\n",
    "        if verbose: \n",
    "            print('Winner was {0}, Second Last State was {1}'.format(winners[-1], final_transients))\n",
    "        game_lengths += [len(game)-2]\n",
    "    winners = np.array(winners)\n",
    "    final_transients = np.array(final_transients)\n",
    "    return ties, winners, final_transients, game_lengths"
   ]
  },
  {
   "cell_type": "code",
   "execution_count": 78,
   "metadata": {},
   "outputs": [
    {
     "ename": "TypeError",
     "evalue": "object of type 'int' has no len()",
     "output_type": "error",
     "traceback": [
      "\u001b[1;31m---------------------------------------------------------------------------\u001b[0m",
      "\u001b[1;31mTypeError\u001b[0m                                 Traceback (most recent call last)",
      "Cell \u001b[1;32mIn[78], line 1\u001b[0m\n\u001b[1;32m----> 1\u001b[0m ties, winners, final_transients, game_lengths \u001b[38;5;241m=\u001b[39m \u001b[43mmonte_carlo\u001b[49m\u001b[43m(\u001b[49m\u001b[43mM\u001b[49m\u001b[38;5;241;43m=\u001b[39;49m\u001b[43mM\u001b[49m\u001b[43m,\u001b[49m\u001b[43m \u001b[49m\u001b[43mp\u001b[49m\u001b[38;5;241;43m=\u001b[39;49m\u001b[43mp\u001b[49m\u001b[43m)\u001b[49m\n\u001b[0;32m      2\u001b[0m \u001b[38;5;28mprint\u001b[39m(\u001b[38;5;124m'\u001b[39m\u001b[38;5;124mThere were \u001b[39m\u001b[38;5;132;01m{0}\u001b[39;00m\u001b[38;5;124m ties\u001b[39m\u001b[38;5;124m'\u001b[39m\u001b[38;5;241m.\u001b[39mformat(ties))\n",
      "Cell \u001b[1;32mIn[77], line 19\u001b[0m, in \u001b[0;36mmonte_carlo\u001b[1;34m(M, p, max_iter, reps, verbose)\u001b[0m\n\u001b[0;32m     17\u001b[0m     \u001b[38;5;28;01mif\u001b[39;00m verbose: \n\u001b[0;32m     18\u001b[0m         \u001b[38;5;28mprint\u001b[39m(\u001b[38;5;124m'\u001b[39m\u001b[38;5;124mWinner was \u001b[39m\u001b[38;5;132;01m{0}\u001b[39;00m\u001b[38;5;124m, Second Last State was \u001b[39m\u001b[38;5;132;01m{1}\u001b[39;00m\u001b[38;5;124m'\u001b[39m\u001b[38;5;241m.\u001b[39mformat(winners[\u001b[38;5;241m-\u001b[39m\u001b[38;5;241m1\u001b[39m], final_transients))\n\u001b[1;32m---> 19\u001b[0m     game_lengths \u001b[38;5;241m+\u001b[39m\u001b[38;5;241m=\u001b[39m [\u001b[38;5;28;43mlen\u001b[39;49m\u001b[43m(\u001b[49m\u001b[43mgame\u001b[49m\u001b[43m)\u001b[49m\u001b[38;5;241m-\u001b[39m\u001b[38;5;241m2\u001b[39m]\n\u001b[0;32m     20\u001b[0m winners \u001b[38;5;241m=\u001b[39m np\u001b[38;5;241m.\u001b[39marray(winners)\n\u001b[0;32m     21\u001b[0m final_transients \u001b[38;5;241m=\u001b[39m np\u001b[38;5;241m.\u001b[39marray(final_transients)\n",
      "\u001b[1;31mTypeError\u001b[0m: object of type 'int' has no len()"
     ]
    }
   ],
   "source": [
    "ties, winners, final_transients, game_lengths = monte_carlo(M=M, p=p)\n",
    "print('There were {0} ties'.format(ties))"
   ]
  }
 ],
 "metadata": {
  "kernelspec": {
   "display_name": "Python 3",
   "language": "python",
   "name": "python3"
  },
  "language_info": {
   "codemirror_mode": {
    "name": "ipython",
    "version": 3
   },
   "file_extension": ".py",
   "mimetype": "text/x-python",
   "name": "python",
   "nbconvert_exporter": "python",
   "pygments_lexer": "ipython3",
   "version": "3.11.2"
  }
 },
 "nbformat": 4,
 "nbformat_minor": 2
}
