{
 "cells": [
  {
   "cell_type": "markdown",
   "metadata": {},
   "source": [
    "# FIT3139 Final Project\n",
    "\n",
    "## Learning outcomes\n",
    "\n",
    "1.  Explain and apply the process of computational scientific model building, verification and interpretation\n",
    "2.  Analyse the differences between core classes of modelling approaches (Numerical versus Analytical; Linear versus Non-linear; Continuous versus Discrete; Deterministic versus Stochastic)\n",
    "3.   Evaluate the implications of choosing different modelling approaches;\n",
    "4.   Rationalise the role of simulation and data visualisation in science;\n",
    "5.   Apply all of the above to solving idealisations of real-world problems across various scientific disciplines."
   ]
  },
  {
   "cell_type": "markdown",
   "metadata": {},
   "source": [
    "## Specification table\n",
    "|||\n",
    "|------------|---|\n",
    "| Base Model | Tennis simulation |\n",
    "| Extension assumpion | Simulate a complete season based on skill distribution |\n",
    "| Techniques showcaed | Markov chains, montecarlo simulations |\n",
    "| Modelling question 1 |  |\n",
    "| Modelling question 2 | |"
   ]
  },
  {
   "cell_type": "markdown",
   "metadata": {},
   "source": [
    "## Section 2: Introduction\n",
    "\n",
    "### Identify the problem\n",
    "\n",
    "The primary problem addressed in this project is to understand the impact of skill distribution on player rankings in a tennis season. Additionally, the project aims to determine whether longer matches or longer seasons are more effective in revealing the true quality of players.\n",
    "\n",
    "### Motivation behind the problem\n",
    "\n",
    "This problem is motivated by the need to ensure fairness and accuracy in competitive sports, where ranking systems often determine players' career opportunities, financial rewards, and public recognition.\n",
    "\n",
    "\n",
    "### Describe the extension and the questions my model will answer\n",
    "\n",
    "I'm simulating a tennis match using markov chains. The extension is to simulate a complete season based on skill distribution. The base model discussed earlier used markov chain with \"some\" probability to move to a next point, which didn't take into account the skill level of a player. This extension will simplify the states in the transition matrix but will add complexity to take into account the player's serving and returning skills. The model will answer the following questions:\n",
    "\n",
    "1. How does the skill distribution of players affect the outcome of a tennis tournament?\n",
    "2. Comparing initial skill distribution vs point distribution at the end of the tournament.\n",
    "3. What is more effective in revealing the true quality of players: longer matches or longer tournaments?\n",
    "\n",
    "\n",
    "### The rules of tennis\n",
    "#### Points:\n",
    "Each game starts with a serve and players alternate serving every game. Points are scored as follows: 0 (Love), 15, 30, 40, and game point.\n",
    "\n",
    "#### Games:\n",
    "A player wins a game by scoring four points and leading by at least two points. If the score reaches 40-40, the game is in deuce, and a player must win two consecutive points to win the game.\n",
    "\n",
    "#### Sets:\n",
    "A player wins a set by winning six games and leading by at least two games. If the score reaches 6-6, a tiebreaker is played to determine the winner of the set.\n",
    "\n",
    "#### Match:\n",
    "A player wins a match by winning the best of three or five sets.\n",
    "\n"
   ]
  },
  {
   "cell_type": "markdown",
   "metadata": {},
   "source": [
    "## Section 3: Model description\n",
    "\n",
    "\n",
    "### Model extension details\n",
    "\n",
    "### Model assumptions\n",
    "\n",
    "### Class of the model\n",
    "\n",
    "### Algorithms being used\n"
   ]
  },
  {
   "cell_type": "markdown",
   "metadata": {},
   "source": [
    "### Transition matrix example\n",
    "In my markov chain model, the transition matrix is a 5x5 matrix with the following states/structure:\n",
    "\n",
    "S1: Serve\n",
    "S2: Return\n",
    "S3: Rally\n",
    "S4: Point won by server\n",
    "S5: Point won by returner\n",
    "\n",
    "The transition matrix is as follows:\n",
    "\n",
    "|    | S1 | S2  | S3  | S4   | S5   |\n",
    "|----|----|-----|-----|------|------|\n",
    "| S1 | 0  | 0.6 | 0   | 0.2  | 0.2  |\n",
    "| S2 | 0  | 0   | 0.7 | 0.15 | 0.15 |\n",
    "| S3 | 0  | 0   | 0.5 | 025  | 0.25 |\n",
    "| S4 | 0  | 0   | 0   | 1    | 0    |\n",
    "| S5 | 0  | 0   | 0   | 0    | 1    |\n",
    "\n",
    "\n",
    "And in its canonical form:\n",
    "From this matrix, we can extract the canonical form:\n",
    "\n",
    "$$\n",
    "\\begin{align*}\n",
    "\n",
    "& Q = \n",
    "\\begin{pmatrix}\n",
    "0 & 0.6 & 0 \\\\\n",
    "0 & 0 & 0.7 \\\\\n",
    "0 & 0 & 0.5 \\\\\n",
    "\\end{pmatrix}\n",
    "\n",
    "\\\\\n",
    "\n",
    "& R = \n",
    "\\begin{pmatrix}\n",
    "0.2 & 0.2 \\\\\n",
    "0.15 & 0.15 \\\\\n",
    "0.25 & 0.25 \\\\\n",
    "\\end{pmatrix}\n",
    "\n",
    "\\\\\n",
    "\n",
    "& 0 = \n",
    "\\begin{pmatrix}\n",
    "0 & 0 & 0 \\\\\n",
    "0 & 0 & 0 \\\\\n",
    "\\end{pmatrix}\n",
    "\n",
    "\\\\\n",
    "\n",
    "& I = \n",
    "\\begin{pmatrix}\n",
    "1 & 0 \\\\\n",
    "0 & 1 \\\\\n",
    "\\end{pmatrix}\n",
    "\n",
    "\\\\\n",
    "\n",
    "&\\begin{pmatrix}\n",
    "Q & R \\\\\n",
    "0 & I \\\\\n",
    "\\end{pmatrix} = \n",
    "\n",
    "\\begin{pmatrix}\n",
    "0 & 0.6 & 0 & 0.2 & 0.2 \\\\\n",
    "0 & 0 & 0.7 & 0.15 & 0.15 \\\\\n",
    "0 & 0 & 0.5 & 0.25 & 0.25 \\\\\n",
    "0 & 0 & 0 & 1 & 0 \\\\\n",
    "0 & 0 & 0 & 0 & 1 \\\\\n",
    "\\end{pmatrix}\n",
    "\n",
    "\\end{align*}\n",
    "$$\n",
    "\n",
    "Getting the fundamental matrix:\n",
    "\n",
    "$$\n",
    "\\begin{align*}\n",
    "& N = (I - Q)^{-1} \\\\\n",
    "\n",
    "& N = \n",
    "\\begin{pmatrix}\n",
    "1 & -0.6 & 0 \\\\\n",
    "0 & 1 & -0.7 \\\\\n",
    "0 & 0 & 1 \\\\\n",
    "\\end{pmatrix}^{-1} \\\\\n",
    "\n",
    "\n",
    "\\end{align*}\n",
    "$$\n"
   ]
  },
  {
   "cell_type": "code",
   "execution_count": 2,
   "metadata": {},
   "outputs": [],
   "source": [
    "import numpy as np\n",
    "import matplotlib.pyplot as plt\n",
    "from dataclasses import dataclass"
   ]
  },
  {
   "cell_type": "code",
   "execution_count": 3,
   "metadata": {},
   "outputs": [
    {
     "data": {
      "text/plain": [
       "array([2.44, 2.4 , 2.  ])"
      ]
     },
     "execution_count": 3,
     "metadata": {},
     "output_type": "execute_result"
    }
   ],
   "source": [
    "Q = np.array([\n",
    "    [0, 0.6, 0],\n",
    "    [0,0,0.7],\n",
    "    [0,0,0.5]\n",
    "])\n",
    "\n",
    "R = np.array([\n",
    "    [0.2, 0.2],\n",
    "    [0.15, 0.15],\n",
    "    [0.25, 0.25]\n",
    "])\n",
    "\n",
    "N = np.linalg.inv(np.eye(3) - Q)\n",
    "# t is the average number of steps to reach the absorbing state from each transient state [serve, return, rally]\n",
    "t = N.dot(np.array([1,1,1]))\n",
    "t"
   ]
  },
  {
   "cell_type": "code",
   "execution_count": 4,
   "metadata": {},
   "outputs": [
    {
     "data": {
      "text/plain": [
       "array([[0.5, 0.5],\n",
       "       [0.5, 0.5],\n",
       "       [0.5, 0.5]])"
      ]
     },
     "execution_count": 4,
     "metadata": {},
     "output_type": "execute_result"
    }
   ],
   "source": [
    "# Probability of absoption = B_{ij} = NR\n",
    "B = N.dot(R)\n",
    "B"
   ]
  },
  {
   "cell_type": "markdown",
   "metadata": {},
   "source": [
    "## Section 4: Results\n",
    "\n",
    "### Interpret and analyse my results\n",
    "\n",
    "### How I arrived at my results\n"
   ]
  },
  {
   "cell_type": "markdown",
   "metadata": {},
   "source": [
    "## Section 5: List of algorithms and concepts\n",
    "\n",
    "### Markov chains - how it plays a role in my model"
   ]
  },
  {
   "cell_type": "code",
   "execution_count": 5,
   "metadata": {},
   "outputs": [],
   "source": [
    "def proportional_scaling(arr, max_val=1.0):\n",
    "    arr = np.array(arr)\n",
    "    total = np.sum(arr)\n",
    "    if total == 0:\n",
    "        return arr\n",
    "    # return [max_val * x / total for x in arr]\n",
    "    return max_val * arr / total\n",
    "\n",
    "@dataclass\n",
    "class Player:\n",
    "    Serve: float\n",
    "    Return: float\n",
    "    sets: int = 0\n",
    "    games: int = 0\n",
    "    score: int = 0\n",
    "\n",
    "    def __setitem__(self, key, value):\n",
    "        setattr(self, key, value)\n",
    "\n",
    "    def __getitem__(self, item):\n",
    "        return getattr(self, item)"
   ]
  },
  {
   "cell_type": "code",
   "execution_count": 6,
   "metadata": {},
   "outputs": [
    {
     "name": "stdout",
     "output_type": "stream",
     "text": [
      "[[0.         0.33333333 0.         0.5        0.16666667]\n",
      " [0.         0.         0.2        0.6        0.2       ]\n",
      " [0.         0.         0.2        0.6        0.2       ]\n",
      " [0.         0.         0.         1.         0.        ]\n",
      " [0.         0.         0.         0.         1.        ]]\n"
     ]
    }
   ],
   "source": [
    "def create_transition_matrix(server_skill: int, returner_skill: int):\n",
    "    # Ensure skills are between 0 and 1\n",
    "    server_skill = np.clip(server_skill, 0, 1)\n",
    "    returner_skill = np.clip(returner_skill, 0, 1)\n",
    "    \n",
    "    # Probabilities of success for each action\n",
    "    p_return_success = returner_skill\n",
    "    p_serve_win_direct = 1 - returner_skill\n",
    "    p_serve_loss_direct = 1 - server_skill\n",
    "\n",
    "    # Probabilities of failure for each action\n",
    "    p_rally_continue = 1 - np.max([server_skill, returner_skill])\n",
    "    p_server_win = 1 - returner_skill\n",
    "    p_returner_win = 1 - server_skill\n",
    "    p_rally_server_win = 1 - returner_skill\n",
    "    p_rally_returner_win = 1 - server_skill\n",
    "    \n",
    "    # p_server_win, p_returner_win = proportional_scaling([server_skill, returner_skill], p_rally_continue)\n",
    "    # p_rally_server_win, p_rally_returner_win = proportional_scaling([p_server_win, p_returner_win], p_rally_continue)\n",
    "  \n",
    "    \n",
    "    # Transition matrix\n",
    "    transition_matrix = np.array([\n",
    "        proportional_scaling([0.0, p_return_success, 0.0, p_serve_win_direct, p_serve_loss_direct]),  # Serve\n",
    "        proportional_scaling([0.0, 0.0, p_rally_continue, p_server_win, p_returner_win]), # Return\n",
    "        proportional_scaling([0.0, 0.0, p_rally_continue, p_rally_server_win, p_rally_returner_win ]), # Rally\n",
    "        [0.0, 0.0, 0.0, 1.0, 0.0],   # Point Won by Server (Terminal)\n",
    "        [0.0, 0.0, 0.0, 0.0, 1.0]    # Point Won by Returner (Terminal)\n",
    "    ])\n",
    "    \n",
    "    return transition_matrix\n",
    "\n",
    "def create_transition_matrices(player1: Player, player2: Player):\n",
    "    # Transition matrix for player 1 serving\n",
    "    transition_matrix_serve_p1 = create_transition_matrix(player1.Serve, player2.Return)\n",
    "    # Transition matrix for player 2 serving\n",
    "    transition_matrix_serve_p2 = create_transition_matrix(player2.Serve, player1.Return)\n",
    "    return transition_matrix_serve_p1, transition_matrix_serve_p2\n",
    "\n",
    "# Example usage:\n",
    "server_skill = 0.8  # High skill server\n",
    "returner_skill = 0.4  # Moderate skill returner\n",
    "\n",
    "transition_matrix = create_transition_matrix(server_skill, returner_skill)\n",
    "print(transition_matrix)\n"
   ]
  },
  {
   "cell_type": "code",
   "execution_count": 27,
   "metadata": {},
   "outputs": [],
   "source": [
    "states = [\"Serve\", \"Return\", \"Rally\", \"Point Won by Server\", \"Point Won by Returner\"]\n",
    "\n",
    "def simulate_point(transition_matrix, initial_state=0):\n",
    "    current_state = initial_state\n",
    "    while current_state < 3:\n",
    "        current_state = np.random.choice(range(5), p=transition_matrix[current_state])\n",
    "    return current_state\n",
    "\n",
    "def simulate_game(player1, player2, transition_matrices, current_server=None):\n",
    "    player1[\"score\"] = 0\n",
    "    player2[\"score\"] = 0\n",
    "    current_server = np.random.choice([0, 1]) if current_server is None else current_server\n",
    "    while True:\n",
    "        current_server = 1 - current_server\n",
    "        winner = simulate_point(transition_matrices[current_server])\n",
    "        if current_server == 0:\n",
    "            player1[\"score\"] += 1 if winner == 3 else 0\n",
    "            player2[\"score\"] += 1 if winner == 4 else 0\n",
    "        else:\n",
    "            player1[\"score\"] += 1 if winner == 4 else 0\n",
    "            player2[\"score\"] += 1 if winner == 3 else 0\n",
    "        \n",
    "        if player1[\"score\"] >= 4 and player1[\"score\"] >= player2[\"score\"] + 2:\n",
    "            break\n",
    "        if player2[\"score\"] >= 4 and player2[\"score\"] >= player1[\"score\"] + 2:\n",
    "            break\n",
    "            \n",
    "\n",
    "    return player1[\"score\"], player2[\"score\"]\n",
    "\n",
    "def simulate_set(player1, player2, transition_matrices):\n",
    "    player1[\"games\"] = 0\n",
    "    player2[\"games\"] = 0\n",
    "    while True:\n",
    "        score = simulate_game(player1, player2, transition_matrices)\n",
    "        winner = 0 if score[0] > score[1] else 1\n",
    "        player1[\"games\"] += 1 if winner == 0 else 0\n",
    "        player2[\"games\"] += 1 if winner == 1 else 0\n",
    "        \n",
    "        # if 6 all, play tiebreak\n",
    "        if player1[\"games\"] == 6 and player2[\"games\"] == 6:\n",
    "            score = simulate_game(player1, player2, transition_matrices, current_server=winner)\n",
    "            winner = 0 if score[0] > score[1] else 1\n",
    "            player1[\"games\"] += 1 if winner == 0 else 0\n",
    "            player2[\"games\"] += 1 if winner == 1 else 0\n",
    "            break\n",
    "\n",
    "        if player1[\"games\"] >= 6 and player1[\"games\"] >= player2[\"games\"] + 2:\n",
    "            break\n",
    "        if player2[\"games\"] >= 6 and player2[\"games\"] >= player1[\"games\"] + 2:\n",
    "            break\n",
    "\n",
    "    return player1[\"games\"], player2[\"games\"]\n",
    "\n",
    "def simulate_match(player1, player2, transition_matrices, best_of=3):\n",
    "    player1[\"sets\"] = 0\n",
    "    player2[\"sets\"] = 0\n",
    "    required_sets = (best_of + 1) // 2\n",
    "\n",
    "    while True:\n",
    "        score = simulate_set(player1, player2, transition_matrices)\n",
    "        winner = 0 if score[0] > score[1] else 1\n",
    "        player1[\"sets\"] += 1 if winner == 0 else 0\n",
    "        player2[\"sets\"] += 1 if winner == 1 else 0\n",
    "\n",
    "        if player1[\"sets\"] >= required_sets:\n",
    "            break\n",
    "        if player2[\"sets\"] >= required_sets:\n",
    "            break\n",
    "\n",
    "    return player1[\"sets\"], player2[\"sets\"]\n",
    "        "
   ]
  },
  {
   "cell_type": "code",
   "execution_count": 8,
   "metadata": {},
   "outputs": [
    {
     "data": {
      "text/plain": [
       "(2, 1)"
      ]
     },
     "execution_count": 8,
     "metadata": {},
     "output_type": "execute_result"
    }
   ],
   "source": [
    "player1 = Player(0.7, 0.8)\n",
    "player2 = Player(0.9, 0.4)\n",
    "transition_matrices = create_transition_matrices(player1, player2)\n",
    "simulate_match(player1, player2, transition_matrices)        "
   ]
  },
  {
   "cell_type": "code",
   "execution_count": 9,
   "metadata": {},
   "outputs": [
    {
     "name": "stdout",
     "output_type": "stream",
     "text": [
      "[Player(Serve=0.9, Return=0.4, sets=2, games=6, score=4)]\n"
     ]
    }
   ],
   "source": [
    "class SingleEliminationTournament:\n",
    "    def __init__(self, players, best_of=3):\n",
    "        self.players = players\n",
    "        self.best_of = best_of\n",
    "        self.results = None\n",
    "\n",
    "    def simulate_round(self):\n",
    "        winners = []\n",
    "        for i in range(0, len(self.results), 2):\n",
    "            player1, player2 = self.results[i], self.results[i + 1]\n",
    "            transition_matrices = create_transition_matrices(player1, player2)\n",
    "            winner = simulate_match(player1, player2, transition_matrices, best_of=self.best_of)\n",
    "            winners.append(self.results[i] if winner[0] > winner[1] else self.results[i + 1])\n",
    "        self.results = winners\n",
    "    \n",
    "    def simulate(self):\n",
    "        self.results = self.players\n",
    "        while len(self.results) > 1:\n",
    "            self.simulate_round()\n",
    "        print(self.results)\n",
    "\n",
    "players = [\n",
    "    Player(0.7, 0.8),\n",
    "    Player(0.9, 0.4),\n",
    "    Player(0.6, 0.6),\n",
    "    Player(0.5, 0.5),\n",
    "]\n",
    "\n",
    "tournament = SingleEliminationTournament(players, best_of=3)\n",
    "tournament.simulate()"
   ]
  },
  {
   "cell_type": "code",
   "execution_count": 37,
   "metadata": {},
   "outputs": [],
   "source": [
    "player1 = Player(0.7, 0.8)\n",
    "player2 = Player(0.9, 0.4)\n",
    "\n",
    "# simulate a point many times\n",
    "def _monte_carlo_point(player1, player2, reps=1000):\n",
    "    winner_player1_serving = {\n",
    "        \"player1\": 0,\n",
    "        \"player2\": 0\n",
    "    }\n",
    "    winner_player2_serving = {\n",
    "        \"player1\": 0,\n",
    "        \"player2\": 0\n",
    "    }\n",
    "    transition_matrices = create_transition_matrices(player1, player2)\n",
    "    \n",
    "    for _ in range(reps):\n",
    "        winner1 = simulate_point(transition_matrices[0])\n",
    "        winner2 = simulate_point(transition_matrices[1])\n",
    "\n",
    "        # winner 1 is when player 1 serves\n",
    "        winner_player1_serving[\"player1\"] += 1 if winner1 == 3 else 0\n",
    "        winner_player1_serving[\"player2\"] += 1 if winner1 == 4 else 0\n",
    "\n",
    "        # winner 2 is when player 2 serves\n",
    "        winner_player2_serving[\"player1\"] += 1 if winner2 == 4 else 0\n",
    "        winner_player2_serving[\"player2\"] += 1 if winner2 == 3 else 0\n",
    "    return \"point\", winner_player1_serving, winner_player2_serving\n",
    "\n",
    "# simulate a set many times\n",
    "def _monte_carlo_game(player1, player2, reps=1000):\n",
    "    winner_player1 = {\n",
    "        \"player1\": 0,\n",
    "        \"player2\": 0\n",
    "    }\n",
    "    winner_player2 = {\n",
    "        \"player1\": 0,\n",
    "        \"player2\": 0\n",
    "    }\n",
    "    transition_matrices = create_transition_matrices(player1, player2)\n",
    "    for _ in range(reps):\n",
    "        winner1 = simulate_game(player1, player2, transition_matrices)\n",
    "        winner2 = simulate_game(player2, player1, transition_matrices)\n",
    "\n",
    "        winner_player1[\"player1\"] += 1 if winner1[0] > winner1[1] else 0\n",
    "        winner_player1[\"player2\"] += 1 if winner1[0] < winner1[1] else 0\n",
    "\n",
    "        winner_player2[\"player2\"] += 1 if winner2[0] > winner2[1] else 0\n",
    "        winner_player2[\"player1\"] += 1 if winner2[0] < winner2[1] else 0\n",
    "\n",
    "    return \"set\", winner_player1, winner_player2\n",
    "\n",
    "# simulate a game many times\n",
    "def _monte_carlo_set(player1, player2, reps=1000):\n",
    "    winners = {\n",
    "        \"player1\": 0,\n",
    "        \"player2\": 0\n",
    "    }\n",
    "    transition_matrices = create_transition_matrices(player1, player2)\n",
    "    \n",
    "    for _ in range(reps):\n",
    "        winner = simulate_set(player1, player2, transition_matrices)\n",
    "        winners[\"player1\"] += 1 if winner[0] > winner[1] else 0\n",
    "        winners[\"player2\"] += 1 if winner[0] < winner[1] else 0\n",
    "\n",
    "    return \"game\", winners\n",
    "\n",
    "# simulate a match many times\n",
    "def _monte_carlo_match(player1, player2, reps=1000):\n",
    "    winners = {\n",
    "        \"player1\": 0,\n",
    "        \"player2\": 0\n",
    "    }\n",
    "    transition_matrices = create_transition_matrices(player1, player2)\n",
    "    \n",
    "    for _ in range(reps):\n",
    "        winner = simulate_match(player1, player2, transition_matrices)\n",
    "        winners[\"player1\"] += 1 if winner[0] > winner[1] else 0\n",
    "        winners[\"player2\"] += 1 if winner[0] < winner[1] else 0\n",
    "\n",
    "    return \"match\", winners\n",
    "\n",
    "# simulate a tournament many times\n",
    "\n",
    "def plot_monte_carlo_simulation(player1: Player, player2: Player, function, reps=1000) -> None:\n",
    "    winners = function(player1, player2, reps)\n",
    "\n",
    "    if len(winners) == 3:\n",
    "        text, winner_player1_serving, winner_player2_serving = winners\n",
    "        fig, ax = plt.subplots(1, 2, figsize=(10, 5))\n",
    "        fig.suptitle(f\"Monte Carlo Simulation of a {text}\")\n",
    "        ax[0].bar(winner_player1_serving.keys(), winner_player1_serving.values())\n",
    "        ax[0].bar_label(ax[0].containers[0])\n",
    "        ax[0].set_title(\"Player 1 Serving\")\n",
    "        ax[0].set_xlabel(\"Winner\")\n",
    "        ax[0].set_ylabel(\"Frequency\")\n",
    "\n",
    "        ax[1].bar(winner_player2_serving.keys(), winner_player2_serving.values())\n",
    "        ax[1].bar_label(ax[1].containers[0])\n",
    "        ax[1].set_title(\"Player 2 Serving\")\n",
    "        ax[1].set_xlabel(\"Winner\")\n",
    "        ax[1].set_ylabel(\"Frequency\")\n",
    "        fig.show()\n",
    "\n",
    "    elif len(winners) == 2:\n",
    "        text, winners = winners\n",
    "        fig, ax = plt.subplots()\n",
    "        fig.suptitle(f\"Monte Carlo Simulation of a {text}\")\n",
    "        ax.bar(winners.keys(), winners.values())\n",
    "        ax.bar_label(ax.containers[0])\n",
    "        ax.set_title(text)\n",
    "        ax.set_xlabel(\"Winner\")\n",
    "        ax.set_ylabel(\"Frequency\")\n",
    "        fig.show()\n",
    "  "
   ]
  },
  {
   "cell_type": "code",
   "execution_count": 34,
   "metadata": {},
   "outputs": [
    {
     "name": "stderr",
     "output_type": "stream",
     "text": [
      "C:\\Users\\rishi\\AppData\\Local\\Temp\\ipykernel_49220\\803652292.py:91: UserWarning: FigureCanvasAgg is non-interactive, and thus cannot be shown\n",
      "  fig.show()\n"
     ]
    },
    {
     "data": {
      "image/png": "[encoded data removed]",
      "text/plain": [
       "<Figure size 720x360 with 2 Axes>"
      ]
     },
     "metadata": {
      "needs_background": "light"
     },
     "output_type": "display_data"
    }
   ],
   "source": [
    "plot_monte_carlo_simulation(player1, player2, _monte_carlo_point)"
   ]
  },
  {
   "cell_type": "code",
   "execution_count": 35,
   "metadata": {},
   "outputs": [
    {
     "name": "stderr",
     "output_type": "stream",
     "text": [
      "C:\\Users\\rishi\\AppData\\Local\\Temp\\ipykernel_49220\\803652292.py:91: UserWarning: FigureCanvasAgg is non-interactive, and thus cannot be shown\n",
      "  fig.show()\n"
     ]
    },
    {
     "data": {
      "image/png": "[encoded data removed]",
      "text/plain": [
       "<Figure size 720x360 with 2 Axes>"
      ]
     },
     "metadata": {
      "needs_background": "light"
     },
     "output_type": "display_data"
    }
   ],
   "source": [
    "plot_monte_carlo_simulation(player1, player2, _monte_carlo_game)"
   ]
  },
  {
   "cell_type": "code",
   "execution_count": 36,
   "metadata": {},
   "outputs": [
    {
     "name": "stderr",
     "output_type": "stream",
     "text": [
      "C:\\Users\\rishi\\AppData\\Local\\Temp\\ipykernel_49220\\803652292.py:102: UserWarning: FigureCanvasAgg is non-interactive, and thus cannot be shown\n",
      "  fig.show()\n"
     ]
    },
    {
     "data": {
      "image/png": "[encoded data removed]",
      "text/plain": [
       "<Figure size 432x288 with 1 Axes>"
      ]
     },
     "metadata": {
      "needs_background": "light"
     },
     "output_type": "display_data"
    }
   ],
   "source": [
    "plot_monte_carlo_simulation(player1, player2, _monte_carlo_set)"
   ]
  },
  {
   "cell_type": "code",
   "execution_count": 38,
   "metadata": {},
   "outputs": [
    {
     "name": "stderr",
     "output_type": "stream",
     "text": [
      "C:\\Users\\rishi\\AppData\\Local\\Temp\\ipykernel_49220\\1728600819.py:113: UserWarning: FigureCanvasAgg is non-interactive, and thus cannot be shown\n",
      "  fig.show()\n"
     ]
    },
    {
     "data": {
      "image/png": "[encoded data removed]",
      "text/plain": [
       "<Figure size 432x288 with 1 Axes>"
      ]
     },
     "metadata": {
      "needs_background": "light"
     },
     "output_type": "display_data"
    }
   ],
   "source": [
    "plot_monte_carlo_simulation(player1, player2, _monte_carlo_match)"
   ]
  },
  {
   "cell_type": "code",
   "execution_count": 11,
   "metadata": {},
   "outputs": [
    {
     "data": {
      "image/png": "[encoded data removed]",
      "text/plain": [
       "<Figure size 432x288 with 1 Axes>"
      ]
     },
     "metadata": {
      "needs_background": "light"
     },
     "output_type": "display_data"
    }
   ],
   "source": [
    "# Montecarlo simulation\n",
    "# let the skill level of the players be server + return / 2\n",
    "\n",
    "simulations = 100000\n",
    "players = []\n",
    "for _ in range(100):\n",
    "    player = {\n",
    "        \"Serve\": np.random.random(),\n",
    "        \"Return\": np.random.random()\n",
    "    }\n",
    "    players.append(player)\n",
    "\n",
    "player_skill_level = [(p[\"Serve\"] + p[\"Return\"]) / 2 for p in players]\n",
    "# player skill level determines the probability of winning a point\n",
    "# plot a histogram showing which player won the most points\n",
    "\n",
    "winners = []\n",
    "for _ in range(simulations):\n",
    "    winner = np.random.choice(range(100), p=proportional_scaling(player_skill_level))\n",
    "    winners.append(winner)\n",
    "\n",
    "# plot skill level vs number of wins\n",
    "plt.scatter(player_skill_level, [winners.count(i) for i in range(100)])\n",
    "plt.xlabel(\"Skill Level\")\n",
    "plt.ylabel(\"Wins\")\n",
    "plt.show()"
   ]
  },
  {
   "cell_type": "code",
   "execution_count": 12,
   "metadata": {},
   "outputs": [
    {
     "name": "stdout",
     "output_type": "stream",
     "text": [
      "Player 1 wins: 483\n",
      "Player 2 wins: 517\n"
     ]
    }
   ],
   "source": [
    "# Define simulation parameters\n",
    "num_simulations = 1000\n",
    "best_of = 3\n",
    "\n",
    "# Run Monte Carlo simulations\n",
    "results = [0,0]\n",
    "for _ in range(num_simulations):\n",
    "    player1 = {\n",
    "        \"Serve\": 0.7,\n",
    "        \"Return\": 0.8\n",
    "    }\n",
    "\n",
    "    player2 = {\n",
    "        \"Serve\": 0.9,\n",
    "        \"Return\": 0.4\n",
    "    }\n",
    "    score = simulate_match(player1, player2, transition_matrices, best_of=best_of)\n",
    "    results[0] += 1 if score[0] > score[1] else 0\n",
    "    results[1] += 1 if score[1] > score[0] else 0\n",
    "\n",
    "# Analyze results\n",
    "print(\"Player 1 wins:\", results[0])\n",
    "print(\"Player 2 wins:\", results[1])"
   ]
  },
  {
   "cell_type": "code",
   "execution_count": 13,
   "metadata": {},
   "outputs": [
    {
     "data": {
      "text/plain": [
       "'Server'"
      ]
     },
     "execution_count": 13,
     "metadata": {},
     "output_type": "execute_result"
    }
   ],
   "source": [
    "# Define the transition matrix\n",
    "# transition_matrix = np.array([\n",
    "#     [0.0, 0.6, 0.0, 0.2, 0.2],   # Serve\n",
    "#     [0.0, 0.0, 0.7, 0.15, 0.15], # Return\n",
    "#     [0.0, 0.0, 0.5, 0.25, 0.25], # Rally\n",
    "#     [0.0, 0.0, 0.0, 1.0, 0.0],   # Point Won by Server (Absorbing)\n",
    "#     [0.0, 0.0, 0.0, 0.0, 1.0]    # Point Won by Returner (Absorbing)\n",
    "# ])\n",
    "\n",
    "\n",
    "\n",
    "# transition_matrix = create_transition_matrix(0.8, 0.7)\n",
    "\n",
    "# Define the states\n",
    "states = [\"Serve\", \"Return\", \"Rally\", \"Point Won by Server\", \"Point Won by Returner\"]\n",
    "\n",
    "# Function to simulate a single point\n",
    "def simulate_point():\n",
    "    current_state = 0  # Every point starts with a serve\n",
    "    while current_state not in [3, 4]:  # Until point is won\n",
    "        # States 3/4 are absorbing states since the probability of transitioning to any other state is 0\n",
    "        current_state = np.random.choice([0, 1, 2, 3, 4], p=transition_matrix[current_state])\n",
    "    return current_state\n",
    "\n",
    "# Function to simulate a game\n",
    "def simulate_game():\n",
    "    server_points = 0\n",
    "    returner_points = 0\n",
    "    while True:\n",
    "        result = simulate_point()\n",
    "        if result == 3:\n",
    "            server_points += 1\n",
    "        else:\n",
    "            returner_points += 1\n",
    "        \n",
    "        if server_points >= 4 and server_points - returner_points >= 2:\n",
    "            return \"Server\"\n",
    "        elif returner_points >= 4 and returner_points - server_points >= 2:\n",
    "            return \"Returner\"\n",
    "\n",
    "# Function to simulate a set\n",
    "def simulate_set():\n",
    "    server_games = 0\n",
    "    returner_games = 0\n",
    "    while True:\n",
    "        winner = simulate_game()\n",
    "        if winner == \"Server\":\n",
    "            server_games += 1\n",
    "        else:\n",
    "            returner_games += 1\n",
    "        \n",
    "        if server_games >= 6 and server_games - returner_games >= 2:\n",
    "            return \"Server\"\n",
    "        elif returner_games >= 6 and returner_games - server_games >= 2:\n",
    "            return \"Returner\"\n",
    "\n",
    "# Function to simulate a match (best of 3 sets or best of 5 sets)\n",
    "def simulate_match(best_of=3):\n",
    "    server_sets = 0\n",
    "    returner_sets = 0\n",
    "    required_sets_to_win = best_of // 2 + 1\n",
    "    while server_sets < required_sets_to_win and returner_sets < required_sets_to_win:\n",
    "        winner = simulate_set()\n",
    "        if winner == \"Server\":\n",
    "            server_sets += 1\n",
    "        else:\n",
    "            returner_sets += 1\n",
    "    return \"Server\" if server_sets == required_sets_to_win else \"Returner\"\n",
    "\n",
    "\n",
    "simulate_match(3)\n",
    "\n",
    "# # Function to simulate a season\n",
    "# def simulate_season(players, matches_per_player, best_of=3):\n",
    "#     results = {player: 0 for player in players}\n",
    "#     for i, server in enumerate(players):\n",
    "#         for j, returner in enumerate(players):\n",
    "#             if i != j:\n",
    "#                 for _ in range(matches_per_player):\n",
    "#                     winner = simulate_match(best_of=best_of)\n",
    "#                     if winner == \"Server\":\n",
    "#                         results[server] += 1\n",
    "#                     else:\n",
    "#                         results[returner] += 1\n",
    "#     return results\n",
    "\n",
    "# players = [\"Player_1\", \"Player_2\", \"Player_3\", \"Player_4\", \"Player_5\"]\n",
    "# simulate_season(players, 10, 3)\n",
    "\n",
    "# # Generate initial skill distribution\n",
    "# num_players = 10\n",
    "# initial_skills = np.random.rand(num_players)\n",
    "# players = {f\"Player_{i+1}\": skill for i, skill in enumerate(initial_skills)}\n",
    "\n",
    "# # Simulate seasons and compare results\n",
    "# def compare_seasons(num_seasons, matches_per_player, best_of_list):\n",
    "#     season_results = {best_of: [] for best_of in best_of_list}\n",
    "    \n",
    "#     for best_of in best_of_list:\n",
    "#         for _ in range(num_seasons):\n",
    "#             season_result = simulate_season(players, matches_per_player, best_of)\n",
    "#             season_results[best_of].append(season_result)\n",
    "    \n",
    "#     return season_results\n",
    "\n",
    "# # Parameters\n",
    "# num_seasons = 100\n",
    "# matches_per_player = 10\n",
    "# best_of_list = [3, 5]\n",
    "\n",
    "# # Compare seasons\n",
    "# season_results = compare_seasons(num_seasons, matches_per_player, best_of_list)\n",
    "\n",
    "\n",
    "\n",
    "\n",
    "# # Analyze the results\n",
    "# import pandas as pd\n",
    "\n",
    "# # Convert results to DataFrame\n",
    "# def results_to_dataframe(results):\n",
    "#     data = []\n",
    "#     for season_result in results:\n",
    "#         for player, points in season_result.items():\n",
    "#             data.append([player, points])\n",
    "#     df = pd.DataFrame(data, columns=[\"Player\", \"Points\"])\n",
    "#     return df\n",
    "\n",
    "# df_3_sets = results_to_dataframe(season_results[3])\n",
    "# df_5_sets = results_to_dataframe(season_results[5])\n",
    "\n",
    "# # Display the results\n",
    "# print(\"Season Results for Best of 3 Sets:\")\n",
    "# print(df_3_sets.groupby(\"Player\").mean().sort_values(by=\"Points\", ascending=False))\n",
    "\n",
    "# print(\"\\nSeason Results for Best of 5 Sets:\")\n",
    "# print(df_5_sets.groupby(\"Player\").mean().sort_values(by=\"Points\", ascending=False))\n"
   ]
  },
  {
   "cell_type": "markdown",
   "metadata": {},
   "source": [
    "## Collapse"
   ]
  },
  {
   "cell_type": "code",
   "execution_count": 14,
   "metadata": {},
   "outputs": [],
   "source": [
    "p = 0.5\n",
    "M = np.array([\n",
    "    [0, p, 1-p, 0, 0, 0, 0, 0, 0, 0, 0, 0, 0, 0, 0, 0, 0], # (0, 0)- 0\n",
    "    [0, 0, 0, p, 1-p, 0, 0, 0, 0, 0, 0, 0, 0, 0, 0, 0, 0], # (15, 0)- 1\n",
    "    [0, 0, 0, 0, p, 1-p, 0, 0, 0, 0, 0, 0, 0, 0, 0, 0, 0], # (0, 15)- 2\n",
    "    [0, 0, 0, 0, 0, 0, p, 1-p, 0, 0, 0, 0, 0, 0, 0, 0, 0], # (30, 0)- 3\n",
    "    [0, 0, 0, 0, 0, 0, 0, p, 1-p, 0, 0, 0, 0, 0, 0, 0, 0], # (15, 15)- 4\n",
    "    [0, 0, 0, 0, 0, 0, 0, 0, p, 1-p, 0, 0, 0, 0, 0, 0, 0], # (0, 30)- 5\n",
    "    [0, 0, 0, 0, 0, 0, 0, 0, 0, 0, 1-p, 0, p, 0, 0, 0, 0], # (40, 0)- 6\n",
    "    [0, 0, 0, 0, 0, 0, 0, 0, 0, 0, p, 0, 0, 0, 1-p, 0, 0], # (30, 15)- 7\n",
    "    [0, 0, 0, 0, 0, 0, 0, 0, 0, 0, 0, 1-p, 0, 0, p, 0, 0], # (15, 30)- 8\n",
    "    [0, 0, 0, 0, 0, 0, 0, 0, 0, 0, 0, p, 0, 0, 0, 0, 1-p], # (0, 40)- 9\n",
    "    [0, 0, 0, 0, 0, 0, 0, 0, 0, 0, 0, 0, p, 1-p, 0, 0, 0], # (40, 15)- 10\n",
    "    [0, 0, 0, 0, 0, 0, 0, 0, 0, 0, 0, 0, 0, 0, 0, p, 1-p], # (15, 40)- 11\n",
    "    [0, 0, 0, 0, 0, 0, 0, 0, 0, 0, 0, 0, 1, 0, 0, 0, 0], # (Win, 0)- 12\n",
    "    [0, 0, 0, 0, 0, 0, 0, 0, 0, 0, 0, 0, p, 0, 1-p, 0, 0], # (40, 30)- 13 <-␣\n",
    "    [0, 0, 0, 0, 0, 0, 0, 0, 0, 0, 0, 0, 0, p, 0, 1-p, 0], # (30, 30)- 14 <-␣\n",
    "    [0, 0, 0, 0, 0, 0, 0, 0, 0, 0, 0, 0, 0, 0, p, 0, 1-p], # (30, 40)- 15 <-␣\n",
    "    [0, 0, 0, 0, 0, 0, 0, 0, 0, 0, 0, 0, 0, 0, 0, 0, 1], # (0, Win)- 16\n",
    "])"
   ]
  },
  {
   "cell_type": "code",
   "execution_count": 15,
   "metadata": {},
   "outputs": [],
   "source": [
    "def extract_canonical_components(M):\n",
    "    D = np.diag(M)\n",
    "    absorbing, transient = np.where(D==1)[0], np.where(D!=1)[0]\n",
    "    I = M[absorbing, :][:, absorbing]\n",
    "    Q = M[transient, :][:, transient]\n",
    "    R = M[transient, :][:, absorbing]\n",
    "    O = M[absorbing, :][:, transient]\n",
    "    return I, Q, R, O, absorbing, transient"
   ]
  },
  {
   "cell_type": "code",
   "execution_count": 16,
   "metadata": {},
   "outputs": [
    {
     "data": {
      "text/plain": [
       "(array([[0. , 0.5, 0.5, 0. , 0. , 0. , 0. , 0. , 0. , 0. , 0. , 0. , 0. ,\n",
       "         0. , 0. ],\n",
       "        [0. , 0. , 0. , 0.5, 0.5, 0. , 0. , 0. , 0. , 0. , 0. , 0. , 0. ,\n",
       "         0. , 0. ],\n",
       "        [0. , 0. , 0. , 0. , 0.5, 0.5, 0. , 0. , 0. , 0. , 0. , 0. , 0. ,\n",
       "         0. , 0. ],\n",
       "        [0. , 0. , 0. , 0. , 0. , 0. , 0.5, 0.5, 0. , 0. , 0. , 0. , 0. ,\n",
       "         0. , 0. ],\n",
       "        [0. , 0. , 0. , 0. , 0. , 0. , 0. , 0.5, 0.5, 0. , 0. , 0. , 0. ,\n",
       "         0. , 0. ],\n",
       "        [0. , 0. , 0. , 0. , 0. , 0. , 0. , 0. , 0.5, 0.5, 0. , 0. , 0. ,\n",
       "         0. , 0. ],\n",
       "        [0. , 0. , 0. , 0. , 0. , 0. , 0. , 0. , 0. , 0. , 0.5, 0. , 0. ,\n",
       "         0. , 0. ],\n",
       "        [0. , 0. , 0. , 0. , 0. , 0. , 0. , 0. , 0. , 0. , 0.5, 0. , 0. ,\n",
       "         0.5, 0. ],\n",
       "        [0. , 0. , 0. , 0. , 0. , 0. , 0. , 0. , 0. , 0. , 0. , 0.5, 0. ,\n",
       "         0.5, 0. ],\n",
       "        [0. , 0. , 0. , 0. , 0. , 0. , 0. , 0. , 0. , 0. , 0. , 0.5, 0. ,\n",
       "         0. , 0. ],\n",
       "        [0. , 0. , 0. , 0. , 0. , 0. , 0. , 0. , 0. , 0. , 0. , 0. , 0.5,\n",
       "         0. , 0. ],\n",
       "        [0. , 0. , 0. , 0. , 0. , 0. , 0. , 0. , 0. , 0. , 0. , 0. , 0. ,\n",
       "         0. , 0.5],\n",
       "        [0. , 0. , 0. , 0. , 0. , 0. , 0. , 0. , 0. , 0. , 0. , 0. , 0. ,\n",
       "         0.5, 0. ],\n",
       "        [0. , 0. , 0. , 0. , 0. , 0. , 0. , 0. , 0. , 0. , 0. , 0. , 0.5,\n",
       "         0. , 0.5],\n",
       "        [0. , 0. , 0. , 0. , 0. , 0. , 0. , 0. , 0. , 0. , 0. , 0. , 0. ,\n",
       "         0.5, 0. ]]),\n",
       " array([12, 16], dtype=int64),\n",
       " array([ 0,  1,  2,  3,  4,  5,  6,  7,  8,  9, 10, 11, 13, 14, 15],\n",
       "       dtype=int64))"
      ]
     },
     "execution_count": 16,
     "metadata": {},
     "output_type": "execute_result"
    }
   ],
   "source": [
    "I, Q, R, O, absorbing, transient = extract_canonical_components(M)\n",
    "Q, absorbing, transient"
   ]
  },
  {
   "cell_type": "code",
   "execution_count": 17,
   "metadata": {},
   "outputs": [],
   "source": [
    "def fundamental_matrix(M):\n",
    "    I, Q, R, O, absorbing, transient = extract_canonical_components(M)\n",
    "    N = np.linalg.inv(np.eye(len(Q))-Q)\n",
    "    return N, transient"
   ]
  },
  {
   "cell_type": "code",
   "execution_count": 18,
   "metadata": {},
   "outputs": [
    {
     "data": {
      "text/plain": [
       "array([[1.    , 0.5   , 0.5   , 0.25  , 0.5   , 0.25  , 0.125 , 0.375 ,\n",
       "        0.375 , 0.125 , 0.25  , 0.25  , 0.625 , 1.    , 0.625 ],\n",
       "       [0.    , 1.    , 0.    , 0.5   , 0.5   , 0.    , 0.25  , 0.5   ,\n",
       "        0.25  , 0.    , 0.375 , 0.125 , 0.6875, 1.    , 0.5625],\n",
       "       [0.    , 0.    , 1.    , 0.    , 0.5   , 0.5   , 0.    , 0.25  ,\n",
       "        0.5   , 0.25  , 0.125 , 0.375 , 0.5625, 1.    , 0.6875],\n",
       "       [0.    , 0.    , 0.    , 1.    , 0.    , 0.    , 0.5   , 0.5   ,\n",
       "        0.    , 0.    , 0.5   , 0.    , 0.625 , 0.75  , 0.375 ],\n",
       "       [0.    , 0.    , 0.    , 0.    , 1.    , 0.    , 0.    , 0.5   ,\n",
       "        0.5   , 0.    , 0.25  , 0.25  , 0.75  , 1.25  , 0.75  ],\n",
       "       [0.    , 0.    , 0.    , 0.    , 0.    , 1.    , 0.    , 0.    ,\n",
       "        0.5   , 0.5   , 0.    , 0.5   , 0.375 , 0.75  , 0.625 ],\n",
       "       [0.    , 0.    , 0.    , 0.    , 0.    , 0.    , 1.    , 0.    ,\n",
       "        0.    , 0.    , 0.5   , 0.    , 0.375 , 0.25  , 0.125 ],\n",
       "       [0.    , 0.    , 0.    , 0.    , 0.    , 0.    , 0.    , 1.    ,\n",
       "        0.    , 0.    , 0.5   , 0.    , 0.875 , 1.25  , 0.625 ],\n",
       "       [0.    , 0.    , 0.    , 0.    , 0.    , 0.    , 0.    , 0.    ,\n",
       "        1.    , 0.    , 0.    , 0.5   , 0.625 , 1.25  , 0.875 ],\n",
       "       [0.    , 0.    , 0.    , 0.    , 0.    , 0.    , 0.    , 0.    ,\n",
       "        0.    , 1.    , 0.    , 0.5   , 0.125 , 0.25  , 0.375 ],\n",
       "       [0.    , 0.    , 0.    , 0.    , 0.    , 0.    , 0.    , 0.    ,\n",
       "        0.    , 0.    , 1.    , 0.    , 0.75  , 0.5   , 0.25  ],\n",
       "       [0.    , 0.    , 0.    , 0.    , 0.    , 0.    , 0.    , 0.    ,\n",
       "        0.    , 0.    , 0.    , 1.    , 0.25  , 0.5   , 0.75  ],\n",
       "       [0.    , 0.    , 0.    , 0.    , 0.    , 0.    , 0.    , 0.    ,\n",
       "        0.    , 0.    , 0.    , 0.    , 1.5   , 1.    , 0.5   ],\n",
       "       [0.    , 0.    , 0.    , 0.    , 0.    , 0.    , 0.    , 0.    ,\n",
       "        0.    , 0.    , 0.    , 0.    , 1.    , 2.    , 1.    ],\n",
       "       [0.    , 0.    , 0.    , 0.    , 0.    , 0.    , 0.    , 0.    ,\n",
       "        0.    , 0.    , 0.    , 0.    , 0.5   , 1.    , 1.5   ]])"
      ]
     },
     "execution_count": 18,
     "metadata": {},
     "output_type": "execute_result"
    }
   ],
   "source": [
    "N, transient = fundamental_matrix(M)\n",
    "N"
   ]
  },
  {
   "cell_type": "code",
   "execution_count": 19,
   "metadata": {},
   "outputs": [
    {
     "data": {
      "text/plain": [
       "(array([6.75, 5.75, 5.75, 4.25, 5.25, 4.25, 2.25, 4.25, 4.25, 2.25, 2.5 ,\n",
       "        2.5 , 3.  , 4.  , 3.  ]),\n",
       " 60.0)"
      ]
     },
     "execution_count": 19,
     "metadata": {},
     "output_type": "execute_result"
    }
   ],
   "source": [
    "absorbtion_times = np.dot(N, np.ones(len(N)))\n",
    "total_time = np.sum(absorbtion_times)\n",
    "absorbtion_times, total_time"
   ]
  },
  {
   "cell_type": "code",
   "execution_count": 20,
   "metadata": {},
   "outputs": [
    {
     "data": {
      "text/plain": [
       "array([[0.5    , 0.5    ],\n",
       "       [0.65625, 0.34375],\n",
       "       [0.34375, 0.65625],\n",
       "       [0.8125 , 0.1875 ],\n",
       "       [0.5    , 0.5    ],\n",
       "       [0.1875 , 0.8125 ],\n",
       "       [0.9375 , 0.0625 ],\n",
       "       [0.6875 , 0.3125 ],\n",
       "       [0.3125 , 0.6875 ],\n",
       "       [0.0625 , 0.9375 ],\n",
       "       [0.875  , 0.125  ],\n",
       "       [0.125  , 0.875  ],\n",
       "       [0.75   , 0.25   ],\n",
       "       [0.5    , 0.5    ],\n",
       "       [0.25   , 0.75   ]])"
      ]
     },
     "execution_count": 20,
     "metadata": {},
     "output_type": "execute_result"
    }
   ],
   "source": [
    "absorbtion_probabilities = np.dot(N, R)\n",
    "absorbtion_probabilities"
   ]
  },
  {
   "cell_type": "code",
   "execution_count": 21,
   "metadata": {},
   "outputs": [],
   "source": [
    "def simulate_game(M, p, max_iter=100):\n",
    "    pos = [0]\n",
    "    for i in range(max_iter):\n",
    "        pos_next = np.random.choice(len(M), p=M[pos[-1]])\n",
    "        if pos_next == pos[-1]:\n",
    "            return pos + [pos_next]\n",
    "        else:\n",
    "            pos += [pos_next]\n",
    "    return-1"
   ]
  },
  {
   "cell_type": "code",
   "execution_count": 22,
   "metadata": {},
   "outputs": [],
   "source": [
    "def monte_carlo(M, p, max_iter=100, reps=100, verbose=False):\n",
    "    ties = 0\n",
    "    winners = []\n",
    "    final_transients = []\n",
    "    game_lengths = []\n",
    "    for i in range(reps):\n",
    "        if verbose: \n",
    "            print('Simulating game {0}'.format(i))\n",
    "        game = simulate_game(M=M, p=p, max_iter=max_iter)\n",
    "        tie = (type(game) in [int])\n",
    "        if verbose: \n",
    "            print('Game was {0} a tie'.format((1-tie)*'not'))\n",
    "        ties += tie\n",
    "        if not tie:\n",
    "            winners += [game[-1]]\n",
    "            final_transients += [game[-3]]\n",
    "        if verbose: \n",
    "            print('Winner was {0}, Second Last State was {1}'.format(winners[-1], final_transients))\n",
    "        game_lengths += [len(game)-2]\n",
    "    winners = np.array(winners)\n",
    "    final_transients = np.array(final_transients)\n",
    "    return ties, winners, final_transients, game_lengths"
   ]
  },
  {
   "cell_type": "code",
   "execution_count": 23,
   "metadata": {},
   "outputs": [
    {
     "name": "stdout",
     "output_type": "stream",
     "text": [
      "There were 0 ties\n"
     ]
    }
   ],
   "source": [
    "ties, winners, final_transients, game_lengths = monte_carlo(M=M, p=p)\n",
    "print('There were {0} ties'.format(ties))"
   ]
  }
 ],
 "metadata": {
  "kernelspec": {
   "display_name": "Python 3",
   "language": "python",
   "name": "python3"
  },
  "language_info": {
   "codemirror_mode": {
    "name": "ipython",
    "version": 3
   },
   "file_extension": ".py",
   "mimetype": "text/x-python",
   "name": "python",
   "nbconvert_exporter": "python",
   "pygments_lexer": "ipython3",
   "version": "3.10.0"
  }
 },
 "nbformat": 4,
 "nbformat_minor": 2
}
