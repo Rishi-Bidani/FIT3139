{
 "cells": [
  {
   "cell_type": "markdown",
   "metadata": {},
   "source": [
    "# FIT3139 Final Project\n",
    "\n",
    "## Learning outcomes\n",
    "\n",
    "1.  Explain and apply the process of computational scientific model building, verification and interpretation\n",
    "2.  Analyse the differences between core classes of modelling approaches (Numerical versus Analytical; Linear versus Non-linear; Continuous versus Discrete; Deterministic versus Stochastic)\n",
    "3.   Evaluate the implications of choosing different modelling approaches;\n",
    "4.   Rationalise the role of simulation and data visualisation in science;\n",
    "5.   Apply all of the above to solving idealisations of real-world problems across various scientific disciplines."
   ]
  },
  {
   "cell_type": "markdown",
   "metadata": {},
   "source": [
    "## Specification table\n",
    "|||\n",
    "|------------|---|\n",
    "| Base Model | Tennis simulation |\n",
    "| Extension assumpion | Simulate a complete season based on skill distribution |\n",
    "| Techniques showcaed | Markov chains,  |\n",
    "| Modelling question 1 |  |\n",
    "| Modelling question 2 | |"
   ]
  },
  {
   "cell_type": "markdown",
   "metadata": {},
   "source": [
    "## Section 2: Introduction\n",
    "\n",
    "### Identify the problem\n",
    "\n",
    "The primary problem addressed in this project is to understand the impact of skill distribution on player rankings in a tennis season. Additionally, the project aims to determine whether longer matches or longer seasons are more effective in revealing the true quality of players. This problem is motivated by the need to ensure fairness and accuracy in competitive sports, where ranking systems often determine players' career opportunities, financial rewards, and public recognition.\n",
    "\n",
    "### Motivation behind the problem\n",
    "\n",
    "### Describe the extension and the questions my model will answer\n",
    "\n",
    "\n",
    "### The rules of tennis\n",
    "#### Points:\n",
    "Each game starts with a serve and players alternate serving every game. Points are scored as follows: 0 (Love), 15, 30, 40, and game point.\n",
    "\n",
    "#### Games:\n",
    "A player wins a game by scoring four points and leading by at least two points. If the score reaches 40-40, the game is in deuce, and a player must win two consecutive points to win the game.\n",
    "\n",
    "#### Sets:\n",
    "A player wins a set by winning six games and leading by at least two games. If the score reaches 6-6, a tiebreaker is played to determine the winner of the set.\n",
    "\n",
    "#### Match:\n",
    "A player wins a match by winning the best of three or five sets.\n",
    "\n"
   ]
  },
  {
   "cell_type": "markdown",
   "metadata": {},
   "source": [
    "## Section 3: Model description\n",
    "\n",
    "\n",
    "### Model extension details\n",
    "\n",
    "### Model assumptions\n",
    "\n",
    "### Class of the model\n",
    "\n",
    "### Algorithms being used\n"
   ]
  },
  {
   "cell_type": "markdown",
   "metadata": {},
   "source": [
    "### Transition matrix example\n",
    "In my markov chain model, the transition matrix is a 5x5 matrix with the following states/structure:\n",
    "\n",
    "S1: Serve\n",
    "S2: Return\n",
    "S3: Rally\n",
    "S4: Point won by server\n",
    "S5: Point won by returner\n",
    "\n",
    "The transition matrix is as follows:\n",
    "\n",
    "|   | S1 | S2 | S3 | S4 | S5 |\n",
    "|---| ---| ---| ---| ---| ---|\n",
    "| S1 | 0 | 0.5 | 0.5 | 0 | 0 |\n",
    "| S2 | 0.5 | 0 | 0.5 | 0 | 0 |\n",
    "| S3 | 0.5 | 0.5 | 0 | 0 | 0 |\n",
    "| S4 | 0 | 0 | 0 | 0.9 | 0.1 |\n",
    "| S5 | 0 | 0 | 0 | 0.1 | 0.9 |"
   ]
  },
  {
   "cell_type": "markdown",
   "metadata": {},
   "source": [
    "## Section 4: Results\n",
    "\n",
    "### Interpret and analyse my results\n",
    "\n",
    "### How I arrived at my results\n"
   ]
  },
  {
   "cell_type": "markdown",
   "metadata": {},
   "source": [
    "## Section 5: List of algorithms and concepts\n",
    "\n",
    "### Markov chains - how it plays a role in my model"
   ]
  },
  {
   "cell_type": "code",
   "execution_count": 2,
   "metadata": {},
   "outputs": [],
   "source": [
    "import numpy as np\n",
    "import matplotlib.pyplot as plt"
   ]
  },
  {
   "cell_type": "code",
   "execution_count": 18,
   "metadata": {},
   "outputs": [],
   "source": [
    "def proportional_scaling(arr, max_val=1.0):\n",
    "    arr = np.array(arr)\n",
    "    total = np.sum(arr)\n",
    "    if total == 0:\n",
    "        return arr\n",
    "    # return [max_val * x / total for x in arr]\n",
    "    return max_val * arr / total"
   ]
  },
  {
   "cell_type": "code",
   "execution_count": 21,
   "metadata": {},
   "outputs": [
    {
     "name": "stdout",
     "output_type": "stream",
     "text": [
      "[[0.         0.09090909 0.         0.81818182 0.09090909]\n",
      " [0.         0.         0.09090909 0.81818182 0.09090909]\n",
      " [0.         0.         0.09090909 0.81818182 0.09090909]\n",
      " [0.         0.         0.         1.         0.        ]\n",
      " [0.         0.         0.         0.         1.        ]]\n"
     ]
    }
   ],
   "source": [
    "def create_transition_matrix(server_skill, returner_skill):\n",
    "    # Ensure skills are between 0 and 1\n",
    "    server_skill = np.clip(server_skill, 0, 1)\n",
    "    returner_skill = np.clip(returner_skill, 0, 1)\n",
    "    \n",
    "    # Probabilities of success for each action\n",
    "    p_return_success = returner_skill\n",
    "    p_serve_win_direct = 1 - returner_skill\n",
    "    p_serve_loss_direct = 1 - server_skill\n",
    "\n",
    "    # Probabilities of failure for each action\n",
    "    p_rally_continue = 1 - np.max([server_skill, returner_skill])\n",
    "    p_server_win = 1 - returner_skill\n",
    "    p_returner_win = 1 - server_skill\n",
    "    p_rally_server_win = 1 - returner_skill\n",
    "    p_rally_returner_win = 1 - server_skill\n",
    "    \n",
    "    # p_server_win, p_returner_win = proportional_scaling([server_skill, returner_skill], p_rally_continue)\n",
    "    # p_rally_server_win, p_rally_returner_win = proportional_scaling([p_server_win, p_returner_win], p_rally_continue)\n",
    "  \n",
    "    \n",
    "    # Transition matrix\n",
    "    transition_matrix = np.array([\n",
    "        proportional_scaling([0.0, p_return_success, 0.0, p_serve_win_direct, p_serve_loss_direct]),  # Serve\n",
    "        proportional_scaling([0.0, 0.0, p_rally_continue, p_server_win, p_returner_win]), # Return\n",
    "        proportional_scaling([0.0, 0.0, p_rally_continue, p_rally_server_win, p_rally_returner_win ]), # Rally\n",
    "        [0.0, 0.0, 0.0, 1.0, 0.0],   # Point Won by Server (Terminal)\n",
    "        [0.0, 0.0, 0.0, 0.0, 1.0]    # Point Won by Returner (Terminal)\n",
    "    ])\n",
    "    \n",
    "    return transition_matrix\n",
    "\n",
    "# Example usage:\n",
    "server_skill = 0.9  # High skill server\n",
    "returner_skill = 0.1  # Moderate skill returner\n",
    "\n",
    "transition_matrix = create_transition_matrix(server_skill, returner_skill)\n",
    "print(transition_matrix)\n"
   ]
  },
  {
   "cell_type": "code",
   "execution_count": 22,
   "metadata": {},
   "outputs": [],
   "source": [
    "states = [\"Serve\", \"Return\", \"Rally\", \"Point Won by Server\", \"Point Won by Returner\"]\n",
    "\n",
    "def simulate_point(transition_matrix, initial_state=0):\n",
    "    current_state = initial_state\n",
    "    while current_state < 3:\n",
    "        current_state = np.random.choice(range(5), p=transition_matrix[current_state])\n",
    "    return current_state\n",
    "\n",
    "def simulate_game(player1, player2, transition_matrices, current_server=None):\n",
    "    player1[\"score\"] = 0\n",
    "    player2[\"score\"] = 0\n",
    "    current_server = np.random.choice([0, 1]) if current_server is None else current_server\n",
    "    while True:\n",
    "        current_server = 1 - current_server\n",
    "        winner = simulate_point(transition_matrices[current_server])\n",
    "        if current_server == 0:\n",
    "            player1[\"score\"] += 1 if winner == 3 else 0\n",
    "            player2[\"score\"] += 1 if winner == 4 else 0\n",
    "        else:\n",
    "            player1[\"score\"] += 1 if winner == 4 else 0\n",
    "            player2[\"score\"] += 1 if winner == 3 else 0\n",
    "        \n",
    "        if player1[\"score\"] >= 4 and player1[\"score\"] >= player2[\"score\"] + 2:\n",
    "            break\n",
    "        if player2[\"score\"] >= 4 and player2[\"score\"] >= player1[\"score\"] + 2:\n",
    "            break\n",
    "            \n",
    "\n",
    "    return player1[\"score\"], player2[\"score\"]\n",
    "\n",
    "def simulate_set(player1, player2, transition_matrices):\n",
    "    player1[\"games\"] = 0\n",
    "    player2[\"games\"] = 0\n",
    "    while True:\n",
    "        score = simulate_game(player1, player2, transition_matrices)\n",
    "        winner = 0 if score[0] > score[1] else 1\n",
    "        player1[\"games\"] += 1 if winner == 0 else 0\n",
    "        player2[\"games\"] += 1 if winner == 1 else 0\n",
    "        \n",
    "        # if 6 all, play tiebreak\n",
    "        if player1[\"games\"] == 6 and player2[\"games\"] == 6:\n",
    "            score = simulate_game(player1, player2, transition_matrices, current_server=winner)\n",
    "            winner = 0 if score[0] > score[1] else 1\n",
    "            player1[\"games\"] += 1 if winner == 0 else 0\n",
    "            player2[\"games\"] += 1 if winner == 1 else 0\n",
    "            break\n",
    "\n",
    "        if player1[\"games\"] >= 6 and player1[\"games\"] >= player2[\"games\"] + 2:\n",
    "            break\n",
    "        if player2[\"games\"] >= 6 and player2[\"games\"] >= player1[\"games\"] + 2:\n",
    "            break\n",
    "\n",
    "    return player1[\"games\"], player2[\"games\"]\n",
    "\n",
    "def simulate_match(player1, player2, transition_matrices, best_of=3):\n",
    "    player1[\"sets\"] = 0\n",
    "    player2[\"sets\"] = 0\n",
    "    required_sets = (best_of + 1) // 2\n",
    "\n",
    "    while True:\n",
    "        score = simulate_set(player1, player2, transition_matrices)\n",
    "        winner = 0 if score[0] > score[1] else 1\n",
    "        player1[\"sets\"] += 1 if winner == 0 else 0\n",
    "        player2[\"sets\"] += 1 if winner == 1 else 0\n",
    "\n",
    "        if player1[\"sets\"] >= required_sets:\n",
    "            break\n",
    "        if player2[\"sets\"] >= required_sets:\n",
    "            break\n",
    "\n",
    "    return player1[\"sets\"], player2[\"sets\"]\n",
    "        "
   ]
  },
  {
   "cell_type": "code",
   "execution_count": 65,
   "metadata": {},
   "outputs": [
    {
     "data": {
      "text/plain": [
       "(0, 2)"
      ]
     },
     "execution_count": 65,
     "metadata": {},
     "output_type": "execute_result"
    }
   ],
   "source": [
    "player1 = {\n",
    "    \"Serve\": 0.7,\n",
    "    \"Return\": 0.8\n",
    "}\n",
    "\n",
    "player2 = {\n",
    "    \"Serve\": 0.9,\n",
    "    \"Return\": 0.4\n",
    "}\n",
    "\n",
    "transition_matrices = [\n",
    "    create_transition_matrix(player1[\"Serve\"], player2[\"Return\"]),\n",
    "    create_transition_matrix(player2[\"Serve\"], player1[\"Return\"])\n",
    "]\n",
    "\n",
    "simulate_match(player1, player2, transition_matrices)        \n"
   ]
  },
  {
   "cell_type": "code",
   "execution_count": 14,
   "metadata": {},
   "outputs": [
    {
     "data": {
      "image/png": "[encoded data removed]",
      "text/plain": [
       "<Figure size 432x288 with 1 Axes>"
      ]
     },
     "metadata": {
      "needs_background": "light"
     },
     "output_type": "display_data"
    }
   ],
   "source": [
    "# Montecarlo simulation\n",
    "# let the skill level of the players be server + return / 2\n",
    "\n",
    "simulations = 100000\n",
    "players = []\n",
    "for _ in range(100):\n",
    "    player = {\n",
    "        \"Serve\": np.random.random(),\n",
    "        \"Return\": np.random.random()\n",
    "    }\n",
    "    players.append(player)\n",
    "\n",
    "player_skill_level = [(p[\"Serve\"] + p[\"Return\"]) / 2 for p in players]\n",
    "# player skill level determines the probability of winning a point\n",
    "# plot a histogram showing which player won the most points\n",
    "\n",
    "winners = []\n",
    "for _ in range(simulations):\n",
    "    winner = np.random.choice(range(100), p=proportional_scaling(player_skill_level))\n",
    "    winners.append(winner)\n",
    "\n",
    "# plot skill level vs number of wins\n",
    "plt.scatter(player_skill_level, [winners.count(i) for i in range(100)])\n",
    "plt.xlabel(\"Skill Level\")\n",
    "plt.ylabel(\"Wins\")\n",
    "plt.show()"
   ]
  },
  {
   "cell_type": "code",
   "execution_count": 66,
   "metadata": {},
   "outputs": [
    {
     "name": "stdout",
     "output_type": "stream",
     "text": [
      "Player 1 wins: 489\n",
      "Player 2 wins: 511\n"
     ]
    }
   ],
   "source": [
    "# Define simulation parameters\n",
    "num_simulations = 1000\n",
    "best_of = 3\n",
    "\n",
    "# Run Monte Carlo simulations\n",
    "results = [0,0]\n",
    "for _ in range(num_simulations):\n",
    "    player1 = {\n",
    "        \"Serve\": 0.7,\n",
    "        \"Return\": 0.8\n",
    "    }\n",
    "\n",
    "    player2 = {\n",
    "        \"Serve\": 0.9,\n",
    "        \"Return\": 0.4\n",
    "    }\n",
    "    score = simulate_match(player1, player2, transition_matrices, best_of=best_of)\n",
    "    results[0] += 1 if score[0] > score[1] else 0\n",
    "    results[1] += 1 if score[1] > score[0] else 0\n",
    "\n",
    "# Analyze results\n",
    "print(\"Player 1 wins:\", results[0])\n",
    "print(\"Player 2 wins:\", results[1])"
   ]
  },
  {
   "cell_type": "code",
   "execution_count": null,
   "metadata": {},
   "outputs": [
    {
     "data": {
      "text/plain": [
       "'Server'"
      ]
     },
     "execution_count": 184,
     "metadata": {},
     "output_type": "execute_result"
    }
   ],
   "source": [
    "# Define the transition matrix\n",
    "# transition_matrix = np.array([\n",
    "#     [0.0, 0.6, 0.0, 0.2, 0.2],   # Serve\n",
    "#     [0.0, 0.0, 0.7, 0.15, 0.15], # Return\n",
    "#     [0.0, 0.0, 0.5, 0.25, 0.25], # Rally\n",
    "#     [0.0, 0.0, 0.0, 1.0, 0.0],   # Point Won by Server (Absorbing)\n",
    "#     [0.0, 0.0, 0.0, 0.0, 1.0]    # Point Won by Returner (Absorbing)\n",
    "# ])\n",
    "\n",
    "\n",
    "\n",
    "# transition_matrix = create_transition_matrix(0.8, 0.7)\n",
    "\n",
    "# Define the states\n",
    "states = [\"Serve\", \"Return\", \"Rally\", \"Point Won by Server\", \"Point Won by Returner\"]\n",
    "\n",
    "# Function to simulate a single point\n",
    "def simulate_point():\n",
    "    current_state = 0  # Every point starts with a serve\n",
    "    while current_state not in [3, 4]:  # Until point is won\n",
    "        # States 3/4 are absorbing states since the probability of transitioning to any other state is 0\n",
    "        current_state = np.random.choice([0, 1, 2, 3, 4], p=transition_matrix[current_state])\n",
    "    return current_state\n",
    "\n",
    "# Function to simulate a game\n",
    "def simulate_game():\n",
    "    server_points = 0\n",
    "    returner_points = 0\n",
    "    while True:\n",
    "        result = simulate_point()\n",
    "        if result == 3:\n",
    "            server_points += 1\n",
    "        else:\n",
    "            returner_points += 1\n",
    "        \n",
    "        if server_points >= 4 and server_points - returner_points >= 2:\n",
    "            return \"Server\"\n",
    "        elif returner_points >= 4 and returner_points - server_points >= 2:\n",
    "            return \"Returner\"\n",
    "\n",
    "# Function to simulate a set\n",
    "def simulate_set():\n",
    "    server_games = 0\n",
    "    returner_games = 0\n",
    "    while True:\n",
    "        winner = simulate_game()\n",
    "        if winner == \"Server\":\n",
    "            server_games += 1\n",
    "        else:\n",
    "            returner_games += 1\n",
    "        \n",
    "        if server_games >= 6 and server_games - returner_games >= 2:\n",
    "            return \"Server\"\n",
    "        elif returner_games >= 6 and returner_games - server_games >= 2:\n",
    "            return \"Returner\"\n",
    "\n",
    "# Function to simulate a match (best of 3 sets or best of 5 sets)\n",
    "def simulate_match(best_of=3):\n",
    "    server_sets = 0\n",
    "    returner_sets = 0\n",
    "    required_sets_to_win = best_of // 2 + 1\n",
    "    while server_sets < required_sets_to_win and returner_sets < required_sets_to_win:\n",
    "        winner = simulate_set()\n",
    "        if winner == \"Server\":\n",
    "            server_sets += 1\n",
    "        else:\n",
    "            returner_sets += 1\n",
    "    return \"Server\" if server_sets == required_sets_to_win else \"Returner\"\n",
    "\n",
    "\n",
    "simulate_match(3)\n",
    "\n",
    "# # Function to simulate a season\n",
    "# def simulate_season(players, matches_per_player, best_of=3):\n",
    "#     results = {player: 0 for player in players}\n",
    "#     for i, server in enumerate(players):\n",
    "#         for j, returner in enumerate(players):\n",
    "#             if i != j:\n",
    "#                 for _ in range(matches_per_player):\n",
    "#                     winner = simulate_match(best_of=best_of)\n",
    "#                     if winner == \"Server\":\n",
    "#                         results[server] += 1\n",
    "#                     else:\n",
    "#                         results[returner] += 1\n",
    "#     return results\n",
    "\n",
    "# players = [\"Player_1\", \"Player_2\", \"Player_3\", \"Player_4\", \"Player_5\"]\n",
    "# simulate_season(players, 10, 3)\n",
    "\n",
    "# # Generate initial skill distribution\n",
    "# num_players = 10\n",
    "# initial_skills = np.random.rand(num_players)\n",
    "# players = {f\"Player_{i+1}\": skill for i, skill in enumerate(initial_skills)}\n",
    "\n",
    "# # Simulate seasons and compare results\n",
    "# def compare_seasons(num_seasons, matches_per_player, best_of_list):\n",
    "#     season_results = {best_of: [] for best_of in best_of_list}\n",
    "    \n",
    "#     for best_of in best_of_list:\n",
    "#         for _ in range(num_seasons):\n",
    "#             season_result = simulate_season(players, matches_per_player, best_of)\n",
    "#             season_results[best_of].append(season_result)\n",
    "    \n",
    "#     return season_results\n",
    "\n",
    "# # Parameters\n",
    "# num_seasons = 100\n",
    "# matches_per_player = 10\n",
    "# best_of_list = [3, 5]\n",
    "\n",
    "# # Compare seasons\n",
    "# season_results = compare_seasons(num_seasons, matches_per_player, best_of_list)\n",
    "\n",
    "\n",
    "\n",
    "\n",
    "# # Analyze the results\n",
    "# import pandas as pd\n",
    "\n",
    "# # Convert results to DataFrame\n",
    "# def results_to_dataframe(results):\n",
    "#     data = []\n",
    "#     for season_result in results:\n",
    "#         for player, points in season_result.items():\n",
    "#             data.append([player, points])\n",
    "#     df = pd.DataFrame(data, columns=[\"Player\", \"Points\"])\n",
    "#     return df\n",
    "\n",
    "# df_3_sets = results_to_dataframe(season_results[3])\n",
    "# df_5_sets = results_to_dataframe(season_results[5])\n",
    "\n",
    "# # Display the results\n",
    "# print(\"Season Results for Best of 3 Sets:\")\n",
    "# print(df_3_sets.groupby(\"Player\").mean().sort_values(by=\"Points\", ascending=False))\n",
    "\n",
    "# print(\"\\nSeason Results for Best of 5 Sets:\")\n",
    "# print(df_5_sets.groupby(\"Player\").mean().sort_values(by=\"Points\", ascending=False))\n"
   ]
  },
  {
   "cell_type": "markdown",
   "metadata": {},
   "source": [
    "## Collapse"
   ]
  },
  {
   "cell_type": "code",
   "execution_count": null,
   "metadata": {},
   "outputs": [],
   "source": [
    "p = 0.5\n",
    "M = np.array([\n",
    "    [0, p, 1-p, 0, 0, 0, 0, 0, 0, 0, 0, 0, 0, 0, 0, 0, 0], # (0, 0)- 0\n",
    "    [0, 0, 0, p, 1-p, 0, 0, 0, 0, 0, 0, 0, 0, 0, 0, 0, 0], # (15, 0)- 1\n",
    "    [0, 0, 0, 0, p, 1-p, 0, 0, 0, 0, 0, 0, 0, 0, 0, 0, 0], # (0, 15)- 2\n",
    "    [0, 0, 0, 0, 0, 0, p, 1-p, 0, 0, 0, 0, 0, 0, 0, 0, 0], # (30, 0)- 3\n",
    "    [0, 0, 0, 0, 0, 0, 0, p, 1-p, 0, 0, 0, 0, 0, 0, 0, 0], # (15, 15)- 4\n",
    "    [0, 0, 0, 0, 0, 0, 0, 0, p, 1-p, 0, 0, 0, 0, 0, 0, 0], # (0, 30)- 5\n",
    "    [0, 0, 0, 0, 0, 0, 0, 0, 0, 0, 1-p, 0, p, 0, 0, 0, 0], # (40, 0)- 6\n",
    "    [0, 0, 0, 0, 0, 0, 0, 0, 0, 0, p, 0, 0, 0, 1-p, 0, 0], # (30, 15)- 7\n",
    "    [0, 0, 0, 0, 0, 0, 0, 0, 0, 0, 0, 1-p, 0, 0, p, 0, 0], # (15, 30)- 8\n",
    "    [0, 0, 0, 0, 0, 0, 0, 0, 0, 0, 0, p, 0, 0, 0, 0, 1-p], # (0, 40)- 9\n",
    "    [0, 0, 0, 0, 0, 0, 0, 0, 0, 0, 0, 0, p, 1-p, 0, 0, 0], # (40, 15)- 10\n",
    "    [0, 0, 0, 0, 0, 0, 0, 0, 0, 0, 0, 0, 0, 0, 0, p, 1-p], # (15, 40)- 11\n",
    "    [0, 0, 0, 0, 0, 0, 0, 0, 0, 0, 0, 0, 1, 0, 0, 0, 0], # (Win, 0)- 12\n",
    "    [0, 0, 0, 0, 0, 0, 0, 0, 0, 0, 0, 0, p, 0, 1-p, 0, 0], # (40, 30)- 13 <-␣\n",
    "    [0, 0, 0, 0, 0, 0, 0, 0, 0, 0, 0, 0, 0, p, 0, 1-p, 0], # (30, 30)- 14 <-␣\n",
    "    [0, 0, 0, 0, 0, 0, 0, 0, 0, 0, 0, 0, 0, 0, p, 0, 1-p], # (30, 40)- 15 <-␣\n",
    "    [0, 0, 0, 0, 0, 0, 0, 0, 0, 0, 0, 0, 0, 0, 0, 0, 1], # (0, Win)- 16\n",
    "])"
   ]
  },
  {
   "cell_type": "code",
   "execution_count": null,
   "metadata": {},
   "outputs": [],
   "source": [
    "def extract_canonical_components(M):\n",
    "    D = np.diag(M)\n",
    "    absorbing, transient = np.where(D==1)[0], np.where(D!=1)[0]\n",
    "    I = M[absorbing, :][:, absorbing]\n",
    "    Q = M[transient, :][:, transient]\n",
    "    R = M[transient, :][:, absorbing]\n",
    "    O = M[absorbing, :][:, transient]\n",
    "    return I, Q, R, O, absorbing, transient"
   ]
  },
  {
   "cell_type": "code",
   "execution_count": null,
   "metadata": {},
   "outputs": [],
   "source": [
    "I, Q, R, O, absorbing, transient = extract_canonical_components(M)\n",
    "Q, absorbing, transient"
   ]
  },
  {
   "cell_type": "code",
   "execution_count": null,
   "metadata": {},
   "outputs": [],
   "source": [
    "def fundamental_matrix(M):\n",
    "    I, Q, R, O, absorbing, transient = extract_canonical_components(M)\n",
    "    N = np.linalg.inv(np.eye(len(Q))-Q)\n",
    "    return N, transient"
   ]
  },
  {
   "cell_type": "code",
   "execution_count": null,
   "metadata": {},
   "outputs": [],
   "source": [
    "N, transient = fundamental_matrix(M)\n",
    "N"
   ]
  },
  {
   "cell_type": "code",
   "execution_count": null,
   "metadata": {},
   "outputs": [
    {
     "data": {
      "text/plain": [
       "(array([6.75, 5.75, 5.75, 4.25, 5.25, 4.25, 2.25, 4.25, 4.25, 2.25, 2.5 ,\n",
       "        2.5 , 3.  , 4.  , 3.  ]),\n",
       " 60.0)"
      ]
     },
     "execution_count": 205,
     "metadata": {},
     "output_type": "execute_result"
    }
   ],
   "source": [
    "absorbtion_times = np.dot(N, np.ones(len(N)))\n",
    "total_time = np.sum(absorbtion_times)\n",
    "absorbtion_times, total_time"
   ]
  },
  {
   "cell_type": "code",
   "execution_count": null,
   "metadata": {},
   "outputs": [
    {
     "data": {
      "text/plain": [
       "array([[0.5    , 0.5    ],\n",
       "       [0.65625, 0.34375],\n",
       "       [0.34375, 0.65625],\n",
       "       [0.8125 , 0.1875 ],\n",
       "       [0.5    , 0.5    ],\n",
       "       [0.1875 , 0.8125 ],\n",
       "       [0.9375 , 0.0625 ],\n",
       "       [0.6875 , 0.3125 ],\n",
       "       [0.3125 , 0.6875 ],\n",
       "       [0.0625 , 0.9375 ],\n",
       "       [0.875  , 0.125  ],\n",
       "       [0.125  , 0.875  ],\n",
       "       [0.75   , 0.25   ],\n",
       "       [0.5    , 0.5    ],\n",
       "       [0.25   , 0.75   ]])"
      ]
     },
     "execution_count": 206,
     "metadata": {},
     "output_type": "execute_result"
    }
   ],
   "source": [
    "absorbtion_probabilities = np.dot(N, R)\n",
    "absorbtion_probabilities"
   ]
  },
  {
   "cell_type": "code",
   "execution_count": null,
   "metadata": {},
   "outputs": [],
   "source": [
    "def simulate_game(M, p, max_iter=100):\n",
    "    pos = [0]\n",
    "    for i in range(max_iter):\n",
    "        pos_next = np.random.choice(len(M), p=M[pos[-1]])\n",
    "        if pos_next == pos[-1]:\n",
    "            return pos + [pos_next]\n",
    "        else:\n",
    "            pos += [pos_next]\n",
    "    return-1"
   ]
  },
  {
   "cell_type": "code",
   "execution_count": null,
   "metadata": {},
   "outputs": [],
   "source": [
    "def monte_carlo(M, p, max_iter=100, reps=100, verbose=False):\n",
    "    ties = 0\n",
    "    winners = []\n",
    "    final_transients = []\n",
    "    game_lengths = []\n",
    "    for i in range(reps):\n",
    "        if verbose: \n",
    "            print('Simulating game {0}'.format(i))\n",
    "        game = simulate_game(M=M, p=p, max_iter=max_iter)\n",
    "        tie = (type(game) in [int])\n",
    "        if verbose: \n",
    "            print('Game was {0} a tie'.format((1-tie)*'not'))\n",
    "        ties += tie\n",
    "        if not tie:\n",
    "            winners += [game[-1]]\n",
    "            final_transients += [game[-3]]\n",
    "        if verbose: \n",
    "            print('Winner was {0}, Second Last State was {1}'.format(winners[-1], final_transients))\n",
    "        game_lengths += [len(game)-2]\n",
    "    winners = np.array(winners)\n",
    "    final_transients = np.array(final_transients)\n",
    "    return ties, winners, final_transients, game_lengths"
   ]
  },
  {
   "cell_type": "code",
   "execution_count": null,
   "metadata": {},
   "outputs": [
    {
     "name": "stdout",
     "output_type": "stream",
     "text": [
      "There were 0 ties\n"
     ]
    }
   ],
   "source": [
    "ties, winners, final_transients, game_lengths = monte_carlo(M=M, p=p)\n",
    "print('There were {0} ties'.format(ties))"
   ]
  }
 ],
 "metadata": {
  "kernelspec": {
   "display_name": "Python 3",
   "language": "python",
   "name": "python3"
  },
  "language_info": {
   "codemirror_mode": {
    "name": "ipython",
    "version": 3
   },
   "file_extension": ".py",
   "mimetype": "text/x-python",
   "name": "python",
   "nbconvert_exporter": "python",
   "pygments_lexer": "ipython3",
   "version": "3.10.0"
  }
 },
 "nbformat": 4,
 "nbformat_minor": 2
}
